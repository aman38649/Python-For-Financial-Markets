{
  "cells": [
    {
      "cell_type": "code",
      "source": [
        "!pip install yfinance --quiet"
      ],
      "metadata": {
        "colab": {
          "base_uri": "https://localhost:8080/"
        },
        "id": "W48eXV7UesYs",
        "outputId": "da2f86c7-21cb-4036-dec7-5ee50fd0285f"
      },
      "execution_count": 1,
      "outputs": [
        {
          "output_type": "stream",
          "name": "stdout",
          "text": [
            "\u001b[?25l\r\u001b[K     |█████▏                          | 10 kB 19.1 MB/s eta 0:00:01\r\u001b[K     |██████████▍                     | 20 kB 24.9 MB/s eta 0:00:01\r\u001b[K     |███████████████▋                | 30 kB 29.4 MB/s eta 0:00:01\r\u001b[K     |████████████████████▉           | 40 kB 17.2 MB/s eta 0:00:01\r\u001b[K     |██████████████████████████      | 51 kB 5.6 MB/s eta 0:00:01\r\u001b[K     |███████████████████████████████▎| 61 kB 6.6 MB/s eta 0:00:01\r\u001b[K     |████████████████████████████████| 62 kB 1.0 MB/s \n",
            "\u001b[?25h"
          ]
        }
      ]
    },
    {
      "cell_type": "markdown",
      "source": [
        "# Stock and Benchmark Returns Analysis"
      ],
      "metadata": {
        "id": "SckyYK2ed9G0"
      }
    },
    {
      "cell_type": "code",
      "source": [
        "import numpy as np\n",
        "import pandas as pd\n",
        "import matplotlib.pyplot as plt\n",
        "\n",
        "import math\n",
        "import scipy.stats as scs\n",
        "from scipy import stats\n",
        "import statsmodels.api as sm\n",
        "\n",
        "import warnings\n",
        "warnings.filterwarnings(\"ignore\")\n",
        "\n",
        "# fix_yahoo_finance is used to fetch data \n",
        "import yfinance as yf\n",
        "yf.pdr_override()"
      ],
      "outputs": [
        {
          "output_type": "stream",
          "name": "stderr",
          "text": [
            "/usr/local/lib/python3.7/dist-packages/statsmodels/tools/_testing.py:19: FutureWarning: pandas.util.testing is deprecated. Use the functions in the public API at pandas.testing instead.\n",
            "  import pandas.util.testing as tm\n"
          ]
        }
      ],
      "execution_count": 2,
      "metadata": {
        "outputHidden": false,
        "inputHidden": false,
        "colab": {
          "base_uri": "https://localhost:8080/"
        },
        "id": "CrZl5WOxd9G6",
        "outputId": "7ab4375a-205d-40ca-e17f-b9a8800f2b9f"
      }
    },
    {
      "cell_type": "code",
      "source": [
        "# input\n",
        "market = \"SPY\"\n",
        "symbol = 'AAPl'\n",
        "start = '2016-01-01'\n",
        "end = '2019-01-01'\n",
        "\n",
        "# Read data \n",
        "data = yf.download(symbol,start,end)\n",
        "stock_market = yf.download(market, start, end)"
      ],
      "outputs": [
        {
          "output_type": "stream",
          "name": "stdout",
          "text": [
            "[*********************100%***********************]  1 of 1 completed\n",
            "[*********************100%***********************]  1 of 1 completed\n"
          ]
        }
      ],
      "execution_count": 31,
      "metadata": {
        "outputHidden": false,
        "inputHidden": false,
        "colab": {
          "base_uri": "https://localhost:8080/"
        },
        "id": "UYVxTEGJd9G8",
        "outputId": "7160cca5-cb96-4a6d-9410-b14340bc26c5"
      }
    },
    {
      "cell_type": "code",
      "source": [
        "from datetime import datetime\n",
        "\n",
        "def days_between(start, end):\n",
        "    start = datetime.strptime(start, \"%Y-%m-%d\")\n",
        "    end = datetime.strptime(end, \"%Y-%m-%d\")\n",
        "    n = abs((end - start).days)\n",
        "    return n\n",
        "\n",
        "days_between(start, end)"
      ],
      "outputs": [
        {
          "output_type": "execute_result",
          "data": {
            "text/plain": [
              "1096"
            ]
          },
          "metadata": {},
          "execution_count": 32
        }
      ],
      "execution_count": 32,
      "metadata": {
        "outputHidden": false,
        "inputHidden": false,
        "colab": {
          "base_uri": "https://localhost:8080/"
        },
        "id": "QZluVzXId9G-",
        "outputId": "1d9ae916-e37f-4baf-ff60-bb673e6f7fed"
      }
    },
    {
      "cell_type": "code",
      "source": [
        "start = datetime.strptime(start, \"%Y-%m-%d\")\n",
        "end = datetime.strptime(end, \"%Y-%m-%d\")\n",
        "n = abs((end - start).days)"
      ],
      "outputs": [],
      "execution_count": 33,
      "metadata": {
        "outputHidden": false,
        "inputHidden": false,
        "id": "8VeHwUD4d9HA"
      }
    },
    {
      "cell_type": "code",
      "source": [
        "data.head()"
      ],
      "outputs": [
        {
          "output_type": "execute_result",
          "data": {
            "text/plain": [
              "                 Open       High        Low      Close  Adj Close     Volume\n",
              "Date                                                                        \n",
              "2016-01-04  25.652500  26.342501  25.500000  26.337500  24.151495  270597600\n",
              "2016-01-05  26.437500  26.462500  25.602501  25.677500  23.546272  223164000\n",
              "2016-01-06  25.139999  25.592501  24.967501  25.174999  23.085487  273829600\n",
              "2016-01-07  24.670000  25.032499  24.107500  24.112499  22.111170  324377600\n",
              "2016-01-08  24.637501  24.777500  24.190001  24.240000  22.228086  283192000"
            ],
            "text/html": [
              "\n",
              "  <div id=\"df-56b19f7d-434e-488a-8cea-c885ad254843\">\n",
              "    <div class=\"colab-df-container\">\n",
              "      <div>\n",
              "<style scoped>\n",
              "    .dataframe tbody tr th:only-of-type {\n",
              "        vertical-align: middle;\n",
              "    }\n",
              "\n",
              "    .dataframe tbody tr th {\n",
              "        vertical-align: top;\n",
              "    }\n",
              "\n",
              "    .dataframe thead th {\n",
              "        text-align: right;\n",
              "    }\n",
              "</style>\n",
              "<table border=\"1\" class=\"dataframe\">\n",
              "  <thead>\n",
              "    <tr style=\"text-align: right;\">\n",
              "      <th></th>\n",
              "      <th>Open</th>\n",
              "      <th>High</th>\n",
              "      <th>Low</th>\n",
              "      <th>Close</th>\n",
              "      <th>Adj Close</th>\n",
              "      <th>Volume</th>\n",
              "    </tr>\n",
              "    <tr>\n",
              "      <th>Date</th>\n",
              "      <th></th>\n",
              "      <th></th>\n",
              "      <th></th>\n",
              "      <th></th>\n",
              "      <th></th>\n",
              "      <th></th>\n",
              "    </tr>\n",
              "  </thead>\n",
              "  <tbody>\n",
              "    <tr>\n",
              "      <th>2016-01-04</th>\n",
              "      <td>25.652500</td>\n",
              "      <td>26.342501</td>\n",
              "      <td>25.500000</td>\n",
              "      <td>26.337500</td>\n",
              "      <td>24.151495</td>\n",
              "      <td>270597600</td>\n",
              "    </tr>\n",
              "    <tr>\n",
              "      <th>2016-01-05</th>\n",
              "      <td>26.437500</td>\n",
              "      <td>26.462500</td>\n",
              "      <td>25.602501</td>\n",
              "      <td>25.677500</td>\n",
              "      <td>23.546272</td>\n",
              "      <td>223164000</td>\n",
              "    </tr>\n",
              "    <tr>\n",
              "      <th>2016-01-06</th>\n",
              "      <td>25.139999</td>\n",
              "      <td>25.592501</td>\n",
              "      <td>24.967501</td>\n",
              "      <td>25.174999</td>\n",
              "      <td>23.085487</td>\n",
              "      <td>273829600</td>\n",
              "    </tr>\n",
              "    <tr>\n",
              "      <th>2016-01-07</th>\n",
              "      <td>24.670000</td>\n",
              "      <td>25.032499</td>\n",
              "      <td>24.107500</td>\n",
              "      <td>24.112499</td>\n",
              "      <td>22.111170</td>\n",
              "      <td>324377600</td>\n",
              "    </tr>\n",
              "    <tr>\n",
              "      <th>2016-01-08</th>\n",
              "      <td>24.637501</td>\n",
              "      <td>24.777500</td>\n",
              "      <td>24.190001</td>\n",
              "      <td>24.240000</td>\n",
              "      <td>22.228086</td>\n",
              "      <td>283192000</td>\n",
              "    </tr>\n",
              "  </tbody>\n",
              "</table>\n",
              "</div>\n",
              "      <button class=\"colab-df-convert\" onclick=\"convertToInteractive('df-56b19f7d-434e-488a-8cea-c885ad254843')\"\n",
              "              title=\"Convert this dataframe to an interactive table.\"\n",
              "              style=\"display:none;\">\n",
              "        \n",
              "  <svg xmlns=\"http://www.w3.org/2000/svg\" height=\"24px\"viewBox=\"0 0 24 24\"\n",
              "       width=\"24px\">\n",
              "    <path d=\"M0 0h24v24H0V0z\" fill=\"none\"/>\n",
              "    <path d=\"M18.56 5.44l.94 2.06.94-2.06 2.06-.94-2.06-.94-.94-2.06-.94 2.06-2.06.94zm-11 1L8.5 8.5l.94-2.06 2.06-.94-2.06-.94L8.5 2.5l-.94 2.06-2.06.94zm10 10l.94 2.06.94-2.06 2.06-.94-2.06-.94-.94-2.06-.94 2.06-2.06.94z\"/><path d=\"M17.41 7.96l-1.37-1.37c-.4-.4-.92-.59-1.43-.59-.52 0-1.04.2-1.43.59L10.3 9.45l-7.72 7.72c-.78.78-.78 2.05 0 2.83L4 21.41c.39.39.9.59 1.41.59.51 0 1.02-.2 1.41-.59l7.78-7.78 2.81-2.81c.8-.78.8-2.07 0-2.86zM5.41 20L4 18.59l7.72-7.72 1.47 1.35L5.41 20z\"/>\n",
              "  </svg>\n",
              "      </button>\n",
              "      \n",
              "  <style>\n",
              "    .colab-df-container {\n",
              "      display:flex;\n",
              "      flex-wrap:wrap;\n",
              "      gap: 12px;\n",
              "    }\n",
              "\n",
              "    .colab-df-convert {\n",
              "      background-color: #E8F0FE;\n",
              "      border: none;\n",
              "      border-radius: 50%;\n",
              "      cursor: pointer;\n",
              "      display: none;\n",
              "      fill: #1967D2;\n",
              "      height: 32px;\n",
              "      padding: 0 0 0 0;\n",
              "      width: 32px;\n",
              "    }\n",
              "\n",
              "    .colab-df-convert:hover {\n",
              "      background-color: #E2EBFA;\n",
              "      box-shadow: 0px 1px 2px rgba(60, 64, 67, 0.3), 0px 1px 3px 1px rgba(60, 64, 67, 0.15);\n",
              "      fill: #174EA6;\n",
              "    }\n",
              "\n",
              "    [theme=dark] .colab-df-convert {\n",
              "      background-color: #3B4455;\n",
              "      fill: #D2E3FC;\n",
              "    }\n",
              "\n",
              "    [theme=dark] .colab-df-convert:hover {\n",
              "      background-color: #434B5C;\n",
              "      box-shadow: 0px 1px 3px 1px rgba(0, 0, 0, 0.15);\n",
              "      filter: drop-shadow(0px 1px 2px rgba(0, 0, 0, 0.3));\n",
              "      fill: #FFFFFF;\n",
              "    }\n",
              "  </style>\n",
              "\n",
              "      <script>\n",
              "        const buttonEl =\n",
              "          document.querySelector('#df-56b19f7d-434e-488a-8cea-c885ad254843 button.colab-df-convert');\n",
              "        buttonEl.style.display =\n",
              "          google.colab.kernel.accessAllowed ? 'block' : 'none';\n",
              "\n",
              "        async function convertToInteractive(key) {\n",
              "          const element = document.querySelector('#df-56b19f7d-434e-488a-8cea-c885ad254843');\n",
              "          const dataTable =\n",
              "            await google.colab.kernel.invokeFunction('convertToInteractive',\n",
              "                                                     [key], {});\n",
              "          if (!dataTable) return;\n",
              "\n",
              "          const docLinkHtml = 'Like what you see? Visit the ' +\n",
              "            '<a target=\"_blank\" href=https://colab.research.google.com/notebooks/data_table.ipynb>data table notebook</a>'\n",
              "            + ' to learn more about interactive tables.';\n",
              "          element.innerHTML = '';\n",
              "          dataTable['output_type'] = 'display_data';\n",
              "          await google.colab.output.renderOutput(dataTable, element);\n",
              "          const docLink = document.createElement('div');\n",
              "          docLink.innerHTML = docLinkHtml;\n",
              "          element.appendChild(docLink);\n",
              "        }\n",
              "      </script>\n",
              "    </div>\n",
              "  </div>\n",
              "  "
            ]
          },
          "metadata": {},
          "execution_count": 34
        }
      ],
      "execution_count": 34,
      "metadata": {
        "outputHidden": false,
        "inputHidden": false,
        "colab": {
          "base_uri": "https://localhost:8080/",
          "height": 237
        },
        "id": "_PVk5Clvd9HA",
        "outputId": "6239c8d6-3e63-4875-c15a-ef9669e3d2c2"
      }
    },
    {
      "cell_type": "code",
      "source": [
        "stock_market.head()"
      ],
      "outputs": [
        {
          "output_type": "execute_result",
          "data": {
            "text/plain": [
              "                  Open        High         Low       Close   Adj Close  \\\n",
              "Date                                                                     \n",
              "2016-01-04  200.490005  201.029999  198.589996  201.020004  178.782715   \n",
              "2016-01-05  201.399994  201.899994  200.050003  201.360001  179.085098   \n",
              "2016-01-06  198.339996  200.059998  197.600006  198.820007  176.826035   \n",
              "2016-01-07  195.330002  197.440002  193.589996  194.050003  172.583725   \n",
              "2016-01-08  195.190002  195.850006  191.580002  191.919998  170.689316   \n",
              "\n",
              "               Volume  \n",
              "Date                   \n",
              "2016-01-04  222353500  \n",
              "2016-01-05  110845800  \n",
              "2016-01-06  152112600  \n",
              "2016-01-07  213436100  \n",
              "2016-01-08  209817200  "
            ],
            "text/html": [
              "\n",
              "  <div id=\"df-05e97ce4-6faf-4698-b43f-1bf4d332a8e6\">\n",
              "    <div class=\"colab-df-container\">\n",
              "      <div>\n",
              "<style scoped>\n",
              "    .dataframe tbody tr th:only-of-type {\n",
              "        vertical-align: middle;\n",
              "    }\n",
              "\n",
              "    .dataframe tbody tr th {\n",
              "        vertical-align: top;\n",
              "    }\n",
              "\n",
              "    .dataframe thead th {\n",
              "        text-align: right;\n",
              "    }\n",
              "</style>\n",
              "<table border=\"1\" class=\"dataframe\">\n",
              "  <thead>\n",
              "    <tr style=\"text-align: right;\">\n",
              "      <th></th>\n",
              "      <th>Open</th>\n",
              "      <th>High</th>\n",
              "      <th>Low</th>\n",
              "      <th>Close</th>\n",
              "      <th>Adj Close</th>\n",
              "      <th>Volume</th>\n",
              "    </tr>\n",
              "    <tr>\n",
              "      <th>Date</th>\n",
              "      <th></th>\n",
              "      <th></th>\n",
              "      <th></th>\n",
              "      <th></th>\n",
              "      <th></th>\n",
              "      <th></th>\n",
              "    </tr>\n",
              "  </thead>\n",
              "  <tbody>\n",
              "    <tr>\n",
              "      <th>2016-01-04</th>\n",
              "      <td>200.490005</td>\n",
              "      <td>201.029999</td>\n",
              "      <td>198.589996</td>\n",
              "      <td>201.020004</td>\n",
              "      <td>178.782715</td>\n",
              "      <td>222353500</td>\n",
              "    </tr>\n",
              "    <tr>\n",
              "      <th>2016-01-05</th>\n",
              "      <td>201.399994</td>\n",
              "      <td>201.899994</td>\n",
              "      <td>200.050003</td>\n",
              "      <td>201.360001</td>\n",
              "      <td>179.085098</td>\n",
              "      <td>110845800</td>\n",
              "    </tr>\n",
              "    <tr>\n",
              "      <th>2016-01-06</th>\n",
              "      <td>198.339996</td>\n",
              "      <td>200.059998</td>\n",
              "      <td>197.600006</td>\n",
              "      <td>198.820007</td>\n",
              "      <td>176.826035</td>\n",
              "      <td>152112600</td>\n",
              "    </tr>\n",
              "    <tr>\n",
              "      <th>2016-01-07</th>\n",
              "      <td>195.330002</td>\n",
              "      <td>197.440002</td>\n",
              "      <td>193.589996</td>\n",
              "      <td>194.050003</td>\n",
              "      <td>172.583725</td>\n",
              "      <td>213436100</td>\n",
              "    </tr>\n",
              "    <tr>\n",
              "      <th>2016-01-08</th>\n",
              "      <td>195.190002</td>\n",
              "      <td>195.850006</td>\n",
              "      <td>191.580002</td>\n",
              "      <td>191.919998</td>\n",
              "      <td>170.689316</td>\n",
              "      <td>209817200</td>\n",
              "    </tr>\n",
              "  </tbody>\n",
              "</table>\n",
              "</div>\n",
              "      <button class=\"colab-df-convert\" onclick=\"convertToInteractive('df-05e97ce4-6faf-4698-b43f-1bf4d332a8e6')\"\n",
              "              title=\"Convert this dataframe to an interactive table.\"\n",
              "              style=\"display:none;\">\n",
              "        \n",
              "  <svg xmlns=\"http://www.w3.org/2000/svg\" height=\"24px\"viewBox=\"0 0 24 24\"\n",
              "       width=\"24px\">\n",
              "    <path d=\"M0 0h24v24H0V0z\" fill=\"none\"/>\n",
              "    <path d=\"M18.56 5.44l.94 2.06.94-2.06 2.06-.94-2.06-.94-.94-2.06-.94 2.06-2.06.94zm-11 1L8.5 8.5l.94-2.06 2.06-.94-2.06-.94L8.5 2.5l-.94 2.06-2.06.94zm10 10l.94 2.06.94-2.06 2.06-.94-2.06-.94-.94-2.06-.94 2.06-2.06.94z\"/><path d=\"M17.41 7.96l-1.37-1.37c-.4-.4-.92-.59-1.43-.59-.52 0-1.04.2-1.43.59L10.3 9.45l-7.72 7.72c-.78.78-.78 2.05 0 2.83L4 21.41c.39.39.9.59 1.41.59.51 0 1.02-.2 1.41-.59l7.78-7.78 2.81-2.81c.8-.78.8-2.07 0-2.86zM5.41 20L4 18.59l7.72-7.72 1.47 1.35L5.41 20z\"/>\n",
              "  </svg>\n",
              "      </button>\n",
              "      \n",
              "  <style>\n",
              "    .colab-df-container {\n",
              "      display:flex;\n",
              "      flex-wrap:wrap;\n",
              "      gap: 12px;\n",
              "    }\n",
              "\n",
              "    .colab-df-convert {\n",
              "      background-color: #E8F0FE;\n",
              "      border: none;\n",
              "      border-radius: 50%;\n",
              "      cursor: pointer;\n",
              "      display: none;\n",
              "      fill: #1967D2;\n",
              "      height: 32px;\n",
              "      padding: 0 0 0 0;\n",
              "      width: 32px;\n",
              "    }\n",
              "\n",
              "    .colab-df-convert:hover {\n",
              "      background-color: #E2EBFA;\n",
              "      box-shadow: 0px 1px 2px rgba(60, 64, 67, 0.3), 0px 1px 3px 1px rgba(60, 64, 67, 0.15);\n",
              "      fill: #174EA6;\n",
              "    }\n",
              "\n",
              "    [theme=dark] .colab-df-convert {\n",
              "      background-color: #3B4455;\n",
              "      fill: #D2E3FC;\n",
              "    }\n",
              "\n",
              "    [theme=dark] .colab-df-convert:hover {\n",
              "      background-color: #434B5C;\n",
              "      box-shadow: 0px 1px 3px 1px rgba(0, 0, 0, 0.15);\n",
              "      filter: drop-shadow(0px 1px 2px rgba(0, 0, 0, 0.3));\n",
              "      fill: #FFFFFF;\n",
              "    }\n",
              "  </style>\n",
              "\n",
              "      <script>\n",
              "        const buttonEl =\n",
              "          document.querySelector('#df-05e97ce4-6faf-4698-b43f-1bf4d332a8e6 button.colab-df-convert');\n",
              "        buttonEl.style.display =\n",
              "          google.colab.kernel.accessAllowed ? 'block' : 'none';\n",
              "\n",
              "        async function convertToInteractive(key) {\n",
              "          const element = document.querySelector('#df-05e97ce4-6faf-4698-b43f-1bf4d332a8e6');\n",
              "          const dataTable =\n",
              "            await google.colab.kernel.invokeFunction('convertToInteractive',\n",
              "                                                     [key], {});\n",
              "          if (!dataTable) return;\n",
              "\n",
              "          const docLinkHtml = 'Like what you see? Visit the ' +\n",
              "            '<a target=\"_blank\" href=https://colab.research.google.com/notebooks/data_table.ipynb>data table notebook</a>'\n",
              "            + ' to learn more about interactive tables.';\n",
              "          element.innerHTML = '';\n",
              "          dataTable['output_type'] = 'display_data';\n",
              "          await google.colab.output.renderOutput(dataTable, element);\n",
              "          const docLink = document.createElement('div');\n",
              "          docLink.innerHTML = docLinkHtml;\n",
              "          element.appendChild(docLink);\n",
              "        }\n",
              "      </script>\n",
              "    </div>\n",
              "  </div>\n",
              "  "
            ]
          },
          "metadata": {},
          "execution_count": 35
        }
      ],
      "execution_count": 35,
      "metadata": {
        "outputHidden": false,
        "inputHidden": false,
        "colab": {
          "base_uri": "https://localhost:8080/",
          "height": 237
        },
        "id": "20sItlK6d9HA",
        "outputId": "34c2f3e1-94db-4e49-c765-97efe101a7ad"
      }
    },
    {
      "cell_type": "code",
      "source": [
        "rf = 0.01"
      ],
      "outputs": [],
      "execution_count": 36,
      "metadata": {
        "outputHidden": false,
        "inputHidden": false,
        "id": "EzZPFx3Nd9HB"
      }
    },
    {
      "cell_type": "code",
      "source": [
        "close_px = data[ 'Adj Close']\n",
        "returns = close_px.pct_change().dropna()"
      ],
      "outputs": [],
      "execution_count": 37,
      "metadata": {
        "outputHidden": false,
        "inputHidden": false,
        "id": "QBEHvwz6d9HC"
      }
    },
    {
      "cell_type": "code",
      "source": [
        "p = np.array(data['Adj Close'])\n",
        "mp = np.array(stock_market['Adj Close']) \n",
        "\n",
        "dollar_vol = np.array(data['Volume']*p)\n",
        "market_dollar_vol = np.array(stock_market['Volume']*mp)"
      ],
      "outputs": [],
      "execution_count": 38,
      "metadata": {
        "outputHidden": false,
        "inputHidden": false,
        "id": "PHECIJVpd9HC"
      }
    },
    {
      "cell_type": "code",
      "source": [
        "benchmark = stock_market['Adj Close'].pct_change().dropna()\n",
        "excess_returns = np.array(returns) - np.array(benchmark)"
      ],
      "outputs": [],
      "execution_count": 39,
      "metadata": {
        "outputHidden": false,
        "inputHidden": false,
        "id": "ZOqE5wwvd9HD"
      }
    },
    {
      "cell_type": "code",
      "source": [
        "data['returns'] = data[ 'Adj Close'].pct_change().dropna()\n",
        "benchmark['returns'] = stock_market['Adj Close'].pct_change().dropna()"
      ],
      "outputs": [],
      "execution_count": 40,
      "metadata": {
        "outputHidden": false,
        "inputHidden": false,
        "id": "BwSL2KM8d9HD"
      }
    },
    {
      "cell_type": "code",
      "source": [
        "data['rea_var'] = 252 * np.cumsum(data['returns']**2) / np.arange(len(data))\n",
        "data['rea_vol'] = np.sqrt(data['rea_var'])"
      ],
      "outputs": [],
      "execution_count": 41,
      "metadata": {
        "outputHidden": false,
        "inputHidden": false,
        "id": "T0kFzyMYd9HE"
      }
    },
    {
      "cell_type": "markdown",
      "source": [
        "Alpha is measure of performance on a risk-adjusted basis\n",
        "Alpha also known as \"Jensen index\".\n",
        "\n",
        "Beta is a measure of the volatility, or systematic risk or of a secruity or a portfolio. Beta is used in the capital asset pricing model (CAPM), a model that calculates the expected return of an asset based on its beta and expected market returns.\n",
        "\n",
        "R-Squared is a statisitcal measure that represents the percentage of a fund or security's movements that can be explained by movements in a benchmark index (S&P 500)."
      ],
      "metadata": {
        "id": "ZBjHINoNd9HE"
      }
    },
    {
      "cell_type": "code",
      "source": [
        "def adj_close_statistics(close_px):\n",
        "\tsta = scs.describe(close_px)\n",
        "\tprint(\"%14s %15s\" % ('statistic', 'value'))\n",
        "\tprint(30 * \"-\")\n",
        "\tprint(\"%14s %15.5f\" % ('size', sta[0]))\n",
        "\tprint(\"%14s %15.5f\" % ('min', sta[1][0]))\n",
        "\tprint(\"%14s %15.5f\" % ('max', sta[1][1]))\n",
        "\tprint(\"%14s %15.5f\" % ('mean', sta[2]))\n",
        "\tprint(\"%14s %15.5f\" % ('std', np.sqrt(sta[3])))\n",
        "\tprint(\"%14s %15.5f\" % ('skew', sta[4]))\n",
        "\tprint(\"%14s %15.5f\" % ('kurtosis', sta[5]))\n",
        "    \n",
        "adj_close_statistics(close_px)    "
      ],
      "outputs": [
        {
          "output_type": "stream",
          "name": "stdout",
          "text": [
            "     statistic           value\n",
            "------------------------------\n",
            "          size       754.00000\n",
            "           min        20.94961\n",
            "           max        55.89495\n",
            "          mean        35.07460\n",
            "           std         9.40876\n",
            "          skew         0.22706\n",
            "      kurtosis        -0.96764\n"
          ]
        }
      ],
      "execution_count": 42,
      "metadata": {
        "outputHidden": false,
        "inputHidden": false,
        "colab": {
          "base_uri": "https://localhost:8080/"
        },
        "id": "B2QoHARAd9HF",
        "outputId": "26772a69-e7ff-43e4-e4b3-84bda10b2796"
      }
    },
    {
      "cell_type": "code",
      "source": [
        "def print_stock_statistics(data):\n",
        "    print(\"RETURN SAMPLE STATISTICS\")\n",
        "    print(\"---------------------------------------------\")\n",
        "    print(\"Mean of Daily  Log Returns %9.6f\" % np.mean(returns))\n",
        "    print(\"Std  of Daily  Log Returns %9.6f\" % np.std(returns))\n",
        "    print(\"Mean of Annua. Log Returns %9.6f\" % (np.mean(returns) * 252))\n",
        "    print(\"Std  of Annua. Log Returns %9.6f\" % (np.std(returns) * math.sqrt(252)))\n",
        "    print(\"---------------------------------------------\")\n",
        "    print(\"Skew of Sample Log Returns %9.6f\" % scs.skew(returns))\n",
        "    print(\"Skew Normal Test p-value   %9.6f\" % scs.skewtest(returns)[1])\n",
        "    print(\"---------------------------------------------\")\n",
        "    print(\"Kurt of Sample Log Returns %9.6f\" % scs.kurtosis(returns))\n",
        "    print(\"Kurt Normal Test p-value   %9.6f\" % \\\n",
        "                scs.kurtosistest(returns)[1])\n",
        "    print(\"---------------------------------------------\")\n",
        "    print(\"Normal Test p-value        %9.6f\" % \\\n",
        "                scs.normaltest(returns)[1])\n",
        "    print(\"---------------------------------------------\")\n",
        "    print(\"Realized Volatility        %9.6f\" % data['rea_vol'].iloc[-1])\n",
        "    print(\"Realized Variance          %9.6f\" % data['rea_var'].iloc[-1])\n",
        "    print(\"---------------------------------------------\")\n",
        "    print(\"Anderson Normality Test:\t\t   \")\n",
        "    print(stats.anderson(returns))\n",
        "    print(\"---------------------------------------------\")\n",
        "    print(\"Shapiro_Wilk Test: \t\t      \t\t\t\")\n",
        "    print(stats.shapiro(returns))\n",
        "    print(\"Sharpe Ratio of Daily Returns:  \t\t\t\")\n",
        "    print(\"{0:.8f}\".format(np.mean(returns) / np.std(returns)))\n",
        "    print(\"Trading Sharpe for Daily:      \t\t\t\")\n",
        "    print(\"{0:.8f}\".format((n*6.5) * (np.mean(returns)-rf // np.std(returns)*np.sqrt(n*6.5))))\n",
        "    print(\"Sharpe of Annua. Returns w/ days:      \t\")\n",
        "    print(\"{0:.8f}\".format((252) * (np.mean(returns)-rf // np.std(returns)*np.sqrt(252))))\n",
        "    print(\"Sharpe of Annua. Returns w/ days & hours:\")\n",
        "    print(\"{0:.8f}\".format((252*6.5) * (np.mean(returns)-rf // np.std(returns)*np.sqrt(252*6.5))))\n",
        "    print(\"---------------------------------------------\")\n",
        "    print(\"Amihud Illiquidity \t\t  %9.6g\" % np.mean(np.divide(abs(returns),dollar_vol[1:])))\n",
        "    print(\"---------------------------------------------\")\n",
        "    print(\"Kelly Formula:\t\t\t       \")\n",
        "    print(\"{0:.8f}\".format(np.mean(returns) - rf // (np.std(returns))**2))\n",
        "    print(\"Compounded Levered Return: \t   \")\n",
        "    print(\"{0:.8f}\".format(rf + (((252) * (np.mean(returns)-rf / np.std(returns)*np.sqrt(252)))**2) // 2))\n",
        "    print(\"Compounded Unlevered Return:    \")\n",
        "    print(\"{0:.8f}\".format(((np.mean(returns))*252)-(((np.std(returns))*np.sqrt(252))**2) // 2))\n",
        "    return\n",
        "\n",
        "print_stock_statistics(data)"
      ],
      "outputs": [
        {
          "output_type": "stream",
          "name": "stdout",
          "text": [
            "RETURN SAMPLE STATISTICS\n",
            "---------------------------------------------\n",
            "Mean of Daily  Log Returns  0.000718\n",
            "Std  of Daily  Log Returns  0.014907\n",
            "Mean of Annua. Log Returns  0.180839\n",
            "Std  of Annua. Log Returns  0.236637\n",
            "---------------------------------------------\n",
            "Skew of Sample Log Returns -0.057077\n",
            "Skew Normal Test p-value    0.518844\n",
            "---------------------------------------------\n",
            "Kurt of Sample Log Returns  3.603215\n",
            "Kurt Normal Test p-value    0.000000\n",
            "---------------------------------------------\n",
            "Normal Test p-value         0.000000\n",
            "---------------------------------------------\n",
            "Realized Volatility         0.236911\n",
            "Realized Variance           0.056127\n",
            "---------------------------------------------\n",
            "Anderson Normality Test:\t\t   \n",
            "AndersonResult(statistic=11.294799575836805, critical_values=array([0.573, 0.653, 0.783, 0.913, 1.086]), significance_level=array([15. , 10. ,  5. ,  2.5,  1. ]))\n",
            "---------------------------------------------\n",
            "Shapiro_Wilk Test: \t\t      \t\t\t\n",
            "ShapiroResult(statistic=0.9423416256904602, pvalue=1.6322539298805141e-16)\n",
            "Sharpe Ratio of Daily Returns:  \t\t\t\n",
            "0.04814035\n",
            "Trading Sharpe for Daily:      \t\t\t\n",
            "5.11229494\n",
            "Sharpe of Annua. Returns w/ days:      \t\n",
            "0.18083918\n",
            "Sharpe of Annua. Returns w/ days & hours:\n",
            "1.17545468\n",
            "---------------------------------------------\n",
            "Amihud Illiquidity \t\t  2.11948e-12\n",
            "---------------------------------------------\n",
            "Kelly Formula:\t\t\t       \n",
            "-44.99928238\n",
            "Compounded Levered Return: \t   \n",
            "3600373.01000000\n",
            "Compounded Unlevered Return:    \n",
            "0.18083918\n"
          ]
        }
      ],
      "execution_count": 43,
      "metadata": {
        "outputHidden": false,
        "inputHidden": false,
        "colab": {
          "base_uri": "https://localhost:8080/"
        },
        "id": "pqUc5CKFd9HF",
        "outputId": "136109e8-1eaf-4fa9-bae1-532889d078c9"
      }
    },
    {
      "cell_type": "code",
      "source": [
        "def print_market_information(benchmark):\n",
        "    print(\"RETURN BENCHMARK STATISTICS\")\n",
        "    print(\"---------------------------------------------\")\n",
        "    print(\"Mean of Daily  Log Returns %9.6f\" % np.mean(benchmark['returns']))\n",
        "    print(\"Std  of Daily  Log Returns %9.6f\" % np.std(benchmark['returns']))\n",
        "    print(\"Mean of Annua. Log Returns %9.6f\" % (np.mean(benchmark['returns']) * 252))\n",
        "    print(\"Std  of Annua. Log Returns %9.6f\" % (np.std(benchmark['returns']) * math.sqrt(252)))\n",
        "    print(\"---------------------------------------------\")\n",
        "    print(\"Skew of Sample Log Returns %9.6f\" % scs.skew(benchmark['returns']))\n",
        "    print(\"Skew Normal Test p-value   %9.6f\" % scs.skewtest(benchmark['returns'])[1])\n",
        "    print(\"---------------------------------------------\")\n",
        "    print(\"Kurt of Sample Log Returns %9.6f\" % scs.kurtosis(benchmark['returns']))\n",
        "    print(\"Kurt Normal Test p-value   %9.6f\" % scs.kurtosistest(benchmark['returns'])[1])\n",
        "    print(\"---------------------------------------------\")\n",
        "    print(\"Normal Test p-value        %9.6f\" % scs.normaltest(benchmark['returns'])[1])\n",
        "    print(\"---------------------------------------------\")\n",
        "    print(\"Anderson Normality Test:\t\t   \")\n",
        "    print(stats.anderson(benchmark['returns']))\n",
        "    return\n",
        "\n",
        "print_market_information(benchmark)"
      ],
      "outputs": [
        {
          "output_type": "stream",
          "name": "stdout",
          "text": [
            "RETURN BENCHMARK STATISTICS\n",
            "---------------------------------------------\n",
            "Mean of Daily  Log Returns  0.000401\n",
            "Std  of Daily  Log Returns  0.008165\n",
            "Mean of Annua. Log Returns  0.101160\n",
            "Std  of Annua. Log Returns  0.129618\n",
            "---------------------------------------------\n",
            "Skew of Sample Log Returns -0.534585\n",
            "Skew Normal Test p-value    0.000000\n",
            "---------------------------------------------\n",
            "Kurt of Sample Log Returns  5.163876\n",
            "Kurt Normal Test p-value    0.000000\n",
            "---------------------------------------------\n",
            "Normal Test p-value         0.000000\n",
            "---------------------------------------------\n",
            "Anderson Normality Test:\t\t   \n",
            "AndersonResult(statistic=18.242088546893, critical_values=array([0.573, 0.653, 0.783, 0.913, 1.086]), significance_level=array([15. , 10. ,  5. ,  2.5,  1. ]))\n"
          ]
        }
      ],
      "execution_count": 44,
      "metadata": {
        "outputHidden": false,
        "inputHidden": false,
        "colab": {
          "base_uri": "https://localhost:8080/"
        },
        "id": "zCJ0B9Y0d9HH",
        "outputId": "d008ce32-1cf5-41cd-ee19-a44c6050c8f3"
      }
    },
    {
      "cell_type": "code",
      "source": [
        "def linreg(returns, benchmark):\n",
        "    X = benchmark\n",
        "    y = returns\n",
        "    beta, intercept, r_squared, p_value, std_err = stats.linregress(X, y)\n",
        "    alpha = np.mean(y) - beta * np.mean(X)\n",
        "    print(\"alpha \t= \", alpha)\n",
        "    print(\"beta  \t= \", beta)\n",
        "    print(\"r_squared\t= \", r_squared)\n",
        "    return beta, alpha, r_squared\n",
        "\n",
        "def print_market_stock(returns, benchmark):\n",
        "\ty = returns\n",
        "\tx = benchmark\n",
        "\tx = sm.add_constant(x)\n",
        "\tmodel = sm.OLS(y,x)\n",
        "\tresults = model.fit()\n",
        "\tprint(results.summary())\n",
        "\t\n",
        "# daily quotes and log returns\n",
        "def quotes_returns(returns):\n",
        "    ''' Plots quotes and returns. '''\n",
        "    plt.figure(figsize=(9, 6))\n",
        "    data['returns'].plot()\n",
        "    plt.title('Stock Daily Returns')\n",
        "    plt.ylabel('Daily log returns')\n",
        "    plt.grid(True)\n",
        "    plt.axis('tight')\n",
        "\n",
        "# histogram of annualized daily log returns\n",
        "def return_histogram(returns):\n",
        "    ''' Plots a histogram of the returns. '''\n",
        "    plt.figure(figsize=(9, 5))\n",
        "    x = np.linspace(min(returns), max(returns), 100)\n",
        "    plt.hist(np.array(returns), bins=50, normed=True)\n",
        "    y = dN(x, np.mean(returns), np.std(returns))\n",
        "    plt.plot(x, y, linewidth=2)\n",
        "    plt.xlabel('Log Returns')\n",
        "    plt.ylabel('Frequency/Probability')\n",
        "    plt.grid(True)\n",
        "\n",
        "# Q-Q plot of annualized daily log returns\n",
        "def return_qqplot(returns):\n",
        "    ''' Generates a Q-Q plot of the returns.'''\n",
        "    plt.figure(figsize=(9, 5))\n",
        "    sm.qqplot(returns, line='s')\n",
        "    plt.grid(True)\n",
        "    plt.title('Q-Q of Annualized Daily Log Returns')\n",
        "    plt.xlabel('Theoretical Quantiles')\n",
        "    plt.ylabel('Sample Quantiles')\n",
        "\n",
        "\n",
        "# realized volatility\n",
        "def realized_volatility(returns):\n",
        "    ''' Plots the realized volatility. '''\n",
        "    plt.figure(figsize=(9, 5))\n",
        "    data['rea_vol'].plot()\n",
        "    plt.title('Stock Volatility')\n",
        "    plt.ylabel('Realized Volatility')\n",
        "    plt.grid(True)\n",
        "\n",
        "# mean return, volatility and correlation (252 days moving = 1 year)\n",
        "def rolling_statistics(returns):\n",
        "    ''' Calculates and plots rolling statistics (mean, std, correlation). '''\n",
        "    plt.figure(figsize=(11, 8))\n",
        "    \n",
        "    plt.subplot(311)\n",
        "    mr = returns.rolling(252).mean() * 252\n",
        "    mr.plot()\n",
        "    plt.grid(True)\n",
        "    plt.ylabel('returns (252d)')\n",
        "    plt.axhline(mr.mean(), color='r', ls='dashed', lw=1.5)\n",
        "\n",
        "    plt.subplot(312)\n",
        "    vo = returns.rolling(252).std() * math.sqrt(252)\n",
        "    vo.plot()\n",
        "    plt.grid(True)\n",
        "    plt.ylabel('volatility (252d)')\n",
        "    plt.axhline(vo.mean(), color='r', ls='dashed', lw=1.5)\n",
        "    vx = plt.axis()\n",
        "\n",
        "    plt.subplot(313)\n",
        "    co = mr.rolling(252).corr(vo, 252)\n",
        "    co.plot()\n",
        "    plt.grid(True)\n",
        "    plt.ylabel('correlation (252d)')\n",
        "    cx = plt.axis()\n",
        "    plt.axis([vx[0], vx[1], cx[2], cx[3]])\n",
        "    plt.axhline(co.mean(), color='r', ls='dashed', lw=1.5)\n",
        "\t\n",
        "if __name__ == '__main__':\n",
        "    linreg(returns, benchmark['returns'])\n",
        "    print_market_stock(returns, benchmark['returns'])\n",
        "    quotes_returns(returns)\n",
        "    return_qqplot(returns)\n",
        "    realized_volatility(returns)\n",
        "    rolling_statistics(returns)"
      ],
      "outputs": [
        {
          "output_type": "stream",
          "name": "stdout",
          "text": [
            "alpha \t=  0.00024005699981565062\n",
            "beta  \t=  1.1896479248212788\n",
            "r_squared\t=  0.6516289052852877\n",
            "                            OLS Regression Results                            \n",
            "==============================================================================\n",
            "Dep. Variable:              Adj Close   R-squared:                       0.425\n",
            "Model:                            OLS   Adj. R-squared:                  0.424\n",
            "Method:                 Least Squares   F-statistic:                     554.2\n",
            "Date:                Thu, 11 Aug 2022   Prob (F-statistic):           3.25e-92\n",
            "Time:                        15:27:21   Log-Likelihood:                 2306.7\n",
            "No. Observations:                 753   AIC:                            -4609.\n",
            "Df Residuals:                     751   BIC:                            -4600.\n",
            "Df Model:                           1                                         \n",
            "Covariance Type:            nonrobust                                         \n",
            "==============================================================================\n",
            "                 coef    std err          t      P>|t|      [0.025      0.975]\n",
            "------------------------------------------------------------------------------\n",
            "const          0.0002      0.000      0.581      0.561      -0.001       0.001\n",
            "Adj Close      1.1896      0.051     23.542      0.000       1.090       1.289\n",
            "==============================================================================\n",
            "Omnibus:                      129.077   Durbin-Watson:                   1.710\n",
            "Prob(Omnibus):                  0.000   Jarque-Bera (JB):             1646.463\n",
            "Skew:                           0.307   Prob(JB):                         0.00\n",
            "Kurtosis:                      10.218   Cond. No.                         122.\n",
            "==============================================================================\n",
            "\n",
            "Warnings:\n",
            "[1] Standard Errors assume that the covariance matrix of the errors is correctly specified.\n"
          ]
        },
        {
          "output_type": "display_data",
          "data": {
            "text/plain": [
              "<Figure size 648x432 with 1 Axes>"
            ],
            "image/png": "[encoded data removed]"
          },
          "metadata": {
            "needs_background": "light"
          }
        },
        {
          "output_type": "display_data",
          "data": {
            "text/plain": [
              "<Figure size 648x360 with 0 Axes>"
            ]
          },
          "metadata": {}
        },
        {
          "output_type": "display_data",
          "data": {
            "text/plain": [
              "<Figure size 432x288 with 1 Axes>"
            ],
            "image/png": "[encoded data removed]"
          },
          "metadata": {
            "needs_background": "light"
          }
        },
        {
          "output_type": "display_data",
          "data": {
            "text/plain": [
              "<Figure size 648x360 with 1 Axes>"
            ],
            "image/png": "[encoded data removed]"
          },
          "metadata": {
            "needs_background": "light"
          }
        },
        {
          "output_type": "display_data",
          "data": {
            "text/plain": [
              "<Figure size 792x576 with 3 Axes>"
            ],
            "image/png": "[encoded data removed]"
          },
          "metadata": {
            "needs_background": "light"
          }
        }
      ],
      "execution_count": 45,
      "metadata": {
        "outputHidden": false,
        "inputHidden": false,
        "colab": {
          "base_uri": "https://localhost:8080/",
          "height": 1000
        },
        "id": "bBigruHTd9HJ",
        "outputId": "bc878717-4039-4483-ec34-aa568bb6855a"
      }
    }
  ],
  "metadata": {
    "kernel_info": {
      "name": "python3"
    },
    "language_info": {
      "pygments_lexer": "ipython3",
      "name": "python",
      "mimetype": "text/x-python",
      "codemirror_mode": {
        "version": 3,
        "name": "ipython"
      },
      "version": "3.5.5",
      "file_extension": ".py",
      "nbconvert_exporter": "python"
    },
    "kernelspec": {
      "name": "python3",
      "language": "python",
      "display_name": "Python 3"
    },
    "nteract": {
      "version": "0.15.0"
    },
    "colab": {
      "name": "Stock_&_Benchmark_Returns_Analysis.ipynb",
      "provenance": []
    }
  },
  "nbformat": 4,
  "nbformat_minor": 0
}