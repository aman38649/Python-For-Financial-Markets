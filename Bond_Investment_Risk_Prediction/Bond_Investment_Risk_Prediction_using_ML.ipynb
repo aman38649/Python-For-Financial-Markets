{
  "metadata": {
    "kernelspec": {
      "display_name": "Python 3 (ipykernel)",
      "language": "python",
      "name": "python3"
    },
    "language_info": {
      "codemirror_mode": {
        "name": "ipython",
        "version": 3
      },
      "file_extension": ".py",
      "mimetype": "text/x-python",
      "name": "python",
      "nbconvert_exporter": "python",
      "pygments_lexer": "ipython3",
      "version": "3.9.13"
    },
    "colab": {
      "provenance": []
    }
  },
  "nbformat_minor": 5,
  "nbformat": 4,
  "cells": [
    {
      "cell_type": "code",
      "source": [
        "import pandas as pd \n",
        "import numpy as np\n",
        "from matplotlib import pyplot,pylab as plt\n",
        "import warnings\n",
        "warnings.filterwarnings(\"ignore\")\n",
        "from sklearn.preprocessing import LabelEncoder,StandardScaler,MinMaxScaler\n",
        "from sklearn.model_selection import train_test_split,GridSearchCV\n",
        "from sklearn.linear_model import LinearRegression,Ridge,Lasso\n",
        "import seaborn as sns\n",
        "from scipy.stats import zscore\n",
        "from sklearn.metrics import r2_score,roc_auc_score,adjusted_rand_score\n",
        "import statsmodels.formula.api as sm\n",
        "from sklearn.ensemble import AdaBoostRegressor,RandomForestRegressor\n",
        "from sklearn.tree import DecisionTreeRegressor"
      ],
      "metadata": {
        "id": "K5Jf3h0z9wti"
      },
      "execution_count": 1,
      "outputs": [],
      "id": "K5Jf3h0z9wti"
    },
    {
      "cell_type": "code",
      "source": [
        "df=pd.read_csv(\"/content/Kern_County bond dataset 2.csv\")\n",
        "df"
      ],
      "metadata": {
        "colab": {
          "base_uri": "https://localhost:8080/",
          "height": 1000
        },
        "id": "GXyfwUy59wtl",
        "outputId": "bdfb8e40-45cb-4bb7-8806-0f50fd01c8ed"
      },
      "execution_count": 2,
      "outputs": [
        {
          "output_type": "execute_result",
          "data": {
            "text/plain": [
              "     CDIAC Number                                            Issuer  \\\n",
              "0       2022-1204                          Richland School District   \n",
              "1       1996-1769  Delano Joint Union High School District (CSCRPA)   \n",
              "2       2022-1205                          Richland School District   \n",
              "3       2015-1538                                       Bakersfield   \n",
              "4       2001-0720           Kern County Board of Education (CSCRPA)   \n",
              "...           ...                                               ...   \n",
              "1195    2008-1301                    Mojave Unified School District   \n",
              "1196    1994-1262                         Kern High School District   \n",
              "1197    1988-0037                                       Bakersfield   \n",
              "1198    2003-0562             North of River Sanitary District No 1   \n",
              "1199    2007-0941                         Beardsley School District   \n",
              "\n",
              "     Issuance Documents Sold Status               Sale Date ADTR Report  \\\n",
              "0             submited         SOLD  07/14/2022 12:00:00 AM    REPORTED   \n",
              "1              Pending         SOLD        12-11-1996 00:00  No Report    \n",
              "2             submited         SOLD  07/14/2022 12:00:00 AM    REPORTED   \n",
              "3             submited         SOLD        06-10-2015 00:00  No Report    \n",
              "4              Pending         SOLD  06/21/2001 12:00:00 AM  No Report    \n",
              "...                 ...         ...                     ...         ...   \n",
              "1195          submited         SOLD  01/15/2009 12:00:00 AM  No Report    \n",
              "1196           Pending         SOLD  07/28/1994 12:00:00 AM  No Report    \n",
              "1197           Pending         SOLD  04/19/1988 12:00:00 AM  No Report    \n",
              "1198          submited         SOLD  05/15/2003 12:00:00 AM  No Report    \n",
              "1199          submited         SOLD  07/18/2007 12:00:00 AM  No Report    \n",
              "\n",
              "     ADTR Filing Status ADTR Reportable ADTR Reportable Next Fiscal Year  \\\n",
              "0              PENDING                Y                              Yes   \n",
              "1                  N/A                N                              NaN   \n",
              "2              PENDING                Y                              Yes   \n",
              "3                  N/A                N                              NaN   \n",
              "4                  N/A                N                              NaN   \n",
              "...                 ...             ...                              ...   \n",
              "1195               N/A                N                              NaN   \n",
              "1196               N/A                N                              NaN   \n",
              "1197               N/A                N                              NaN   \n",
              "1198               N/A                N                              NaN   \n",
              "1199               N/A                N                              NaN   \n",
              "\n",
              "     ADTR Last Reported Year  ...                 Placement Agent  \\\n",
              "0                        NaN  ...  Raymond James & Associates Inc   \n",
              "1                        NaN  ...                             NaN   \n",
              "2                        NaN  ...  Raymond James & Associates Inc   \n",
              "3                        NaN  ...                             NaN   \n",
              "4                        NaN  ...                             NaN   \n",
              "...                      ...  ...                             ...   \n",
              "1195                     NaN  ...                             NaN   \n",
              "1196                     NaN  ...                             NaN   \n",
              "1197                     NaN  ...                             NaN   \n",
              "1198                     NaN  ...                             NaN   \n",
              "1199                     NaN  ...                             NaN   \n",
              "\n",
              "                      Financial Advisor Co-Financial Advisor  \\\n",
              "0         California Financial Services                  NaN   \n",
              "1                                   NaN                  NaN   \n",
              "2             California Public Finance                  NaN   \n",
              "3      Fieldman Rolapp & Associates Inc                  NaN   \n",
              "4                                   NaN                  NaN   \n",
              "...                                 ...                  ...   \n",
              "1195  Caldwell Flores Winters Inc / CFW                  NaN   \n",
              "1196        Dale Scott & Associates Inc                  NaN   \n",
              "1197                                NaN                  NaN   \n",
              "1198                                NaN                  NaN   \n",
              "1199          School Facilities Finance                  NaN   \n",
              "\n",
              "                              Bond Counsel Co-Bond Counsel  \\\n",
              "0             Norton Rose Fulbright US LLP             NaN   \n",
              "1       Orrick, Herrington & Sutcliffe LLP             NaN   \n",
              "2             Norton Rose Fulbright US LLP             NaN   \n",
              "3       Orrick, Herrington & Sutcliffe LLP             NaN   \n",
              "4       Orrick, Herrington & Sutcliffe LLP             NaN   \n",
              "...                                    ...             ...   \n",
              "1195  Kronick Moskovitz Tiedemann & Girard             NaN   \n",
              "1196               Jones Hall Hill & White             NaN   \n",
              "1197   Jackson Hargrove Hillison & Emerich             NaN   \n",
              "1198    Jones Hall A Professional Law Corp             NaN   \n",
              "1199    Jones Hall A Professional Law Corp             NaN   \n",
              "\n",
              "       Disclosure Counsel Borrower Counsel                           Trustee  \\\n",
              "0                     NaN              NaN    U.S. Bank National Association   \n",
              "1                     NaN              NaN      First Trust of California NA   \n",
              "2                     NaN              NaN    U.S. Bank National Association   \n",
              "3     Goodwin Procter LLP              NaN    U.S. Bank National Association   \n",
              "4                     NaN              NaN  US Bank Corporate Trust Services   \n",
              "...                   ...              ...                               ...   \n",
              "1195                  NaN              NaN    U.S. Bank National Association   \n",
              "1196                  NaN              NaN                       Kern County   \n",
              "1197                  NaN              NaN                               NaN   \n",
              "1198                  NaN              NaN    U.S. Bank National Association   \n",
              "1199                  NaN              NaN    U.S. Bank National Association   \n",
              "\n",
              "      Issue Costs Pct of Principal Amt  Total Issuance Costs  \n",
              "0                                 3.67             170000.00  \n",
              "1                                 0.00                  0.00  \n",
              "2                                10.07             135000.00  \n",
              "3                                 1.78              50843.91  \n",
              "4                                 0.00                  0.00  \n",
              "...                                ...                   ...  \n",
              "1195                              3.59             341516.05  \n",
              "1196                              0.00                  0.00  \n",
              "1197                              0.00             148460.00  \n",
              "1198                              0.00             118490.00  \n",
              "1199                              3.92             202971.00  \n",
              "\n",
              "[1200 rows x 55 columns]"
            ],
            "text/html": [
              "\n",
              "  <div id=\"df-62ddc3a6-1b53-433f-a06b-4660bcd51c11\">\n",
              "    <div class=\"colab-df-container\">\n",
              "      <div>\n",
              "<style scoped>\n",
              "    .dataframe tbody tr th:only-of-type {\n",
              "        vertical-align: middle;\n",
              "    }\n",
              "\n",
              "    .dataframe tbody tr th {\n",
              "        vertical-align: top;\n",
              "    }\n",
              "\n",
              "    .dataframe thead th {\n",
              "        text-align: right;\n",
              "    }\n",
              "</style>\n",
              "<table border=\"1\" class=\"dataframe\">\n",
              "  <thead>\n",
              "    <tr style=\"text-align: right;\">\n",
              "      <th></th>\n",
              "      <th>CDIAC Number</th>\n",
              "      <th>Issuer</th>\n",
              "      <th>Issuance Documents</th>\n",
              "      <th>Sold Status</th>\n",
              "      <th>Sale Date</th>\n",
              "      <th>ADTR Report</th>\n",
              "      <th>ADTR Filing Status</th>\n",
              "      <th>ADTR Reportable</th>\n",
              "      <th>ADTR Reportable Next Fiscal Year</th>\n",
              "      <th>ADTR Last Reported Year</th>\n",
              "      <th>...</th>\n",
              "      <th>Placement Agent</th>\n",
              "      <th>Financial Advisor</th>\n",
              "      <th>Co-Financial Advisor</th>\n",
              "      <th>Bond Counsel</th>\n",
              "      <th>Co-Bond Counsel</th>\n",
              "      <th>Disclosure Counsel</th>\n",
              "      <th>Borrower Counsel</th>\n",
              "      <th>Trustee</th>\n",
              "      <th>Issue Costs Pct of Principal Amt</th>\n",
              "      <th>Total Issuance Costs</th>\n",
              "    </tr>\n",
              "  </thead>\n",
              "  <tbody>\n",
              "    <tr>\n",
              "      <th>0</th>\n",
              "      <td>2022-1204</td>\n",
              "      <td>Richland School District</td>\n",
              "      <td>submited</td>\n",
              "      <td>SOLD</td>\n",
              "      <td>07/14/2022 12:00:00 AM</td>\n",
              "      <td>REPORTED</td>\n",
              "      <td>PENDING</td>\n",
              "      <td>Y</td>\n",
              "      <td>Yes</td>\n",
              "      <td>NaN</td>\n",
              "      <td>...</td>\n",
              "      <td>Raymond James &amp; Associates Inc</td>\n",
              "      <td>California Financial Services</td>\n",
              "      <td>NaN</td>\n",
              "      <td>Norton Rose Fulbright US LLP</td>\n",
              "      <td>NaN</td>\n",
              "      <td>NaN</td>\n",
              "      <td>NaN</td>\n",
              "      <td>U.S. Bank National Association</td>\n",
              "      <td>3.67</td>\n",
              "      <td>170000.00</td>\n",
              "    </tr>\n",
              "    <tr>\n",
              "      <th>1</th>\n",
              "      <td>1996-1769</td>\n",
              "      <td>Delano Joint Union High School District (CSCRPA)</td>\n",
              "      <td>Pending</td>\n",
              "      <td>SOLD</td>\n",
              "      <td>12-11-1996 00:00</td>\n",
              "      <td>No Report</td>\n",
              "      <td>N/A</td>\n",
              "      <td>N</td>\n",
              "      <td>NaN</td>\n",
              "      <td>NaN</td>\n",
              "      <td>...</td>\n",
              "      <td>NaN</td>\n",
              "      <td>NaN</td>\n",
              "      <td>NaN</td>\n",
              "      <td>Orrick, Herrington &amp; Sutcliffe LLP</td>\n",
              "      <td>NaN</td>\n",
              "      <td>NaN</td>\n",
              "      <td>NaN</td>\n",
              "      <td>First Trust of California NA</td>\n",
              "      <td>0.00</td>\n",
              "      <td>0.00</td>\n",
              "    </tr>\n",
              "    <tr>\n",
              "      <th>2</th>\n",
              "      <td>2022-1205</td>\n",
              "      <td>Richland School District</td>\n",
              "      <td>submited</td>\n",
              "      <td>SOLD</td>\n",
              "      <td>07/14/2022 12:00:00 AM</td>\n",
              "      <td>REPORTED</td>\n",
              "      <td>PENDING</td>\n",
              "      <td>Y</td>\n",
              "      <td>Yes</td>\n",
              "      <td>NaN</td>\n",
              "      <td>...</td>\n",
              "      <td>Raymond James &amp; Associates Inc</td>\n",
              "      <td>California Public Finance</td>\n",
              "      <td>NaN</td>\n",
              "      <td>Norton Rose Fulbright US LLP</td>\n",
              "      <td>NaN</td>\n",
              "      <td>NaN</td>\n",
              "      <td>NaN</td>\n",
              "      <td>U.S. Bank National Association</td>\n",
              "      <td>10.07</td>\n",
              "      <td>135000.00</td>\n",
              "    </tr>\n",
              "    <tr>\n",
              "      <th>3</th>\n",
              "      <td>2015-1538</td>\n",
              "      <td>Bakersfield</td>\n",
              "      <td>submited</td>\n",
              "      <td>SOLD</td>\n",
              "      <td>06-10-2015 00:00</td>\n",
              "      <td>No Report</td>\n",
              "      <td>N/A</td>\n",
              "      <td>N</td>\n",
              "      <td>NaN</td>\n",
              "      <td>NaN</td>\n",
              "      <td>...</td>\n",
              "      <td>NaN</td>\n",
              "      <td>Fieldman Rolapp &amp; Associates Inc</td>\n",
              "      <td>NaN</td>\n",
              "      <td>Orrick, Herrington &amp; Sutcliffe LLP</td>\n",
              "      <td>NaN</td>\n",
              "      <td>Goodwin Procter LLP</td>\n",
              "      <td>NaN</td>\n",
              "      <td>U.S. Bank National Association</td>\n",
              "      <td>1.78</td>\n",
              "      <td>50843.91</td>\n",
              "    </tr>\n",
              "    <tr>\n",
              "      <th>4</th>\n",
              "      <td>2001-0720</td>\n",
              "      <td>Kern County Board of Education (CSCRPA)</td>\n",
              "      <td>Pending</td>\n",
              "      <td>SOLD</td>\n",
              "      <td>06/21/2001 12:00:00 AM</td>\n",
              "      <td>No Report</td>\n",
              "      <td>N/A</td>\n",
              "      <td>N</td>\n",
              "      <td>NaN</td>\n",
              "      <td>NaN</td>\n",
              "      <td>...</td>\n",
              "      <td>NaN</td>\n",
              "      <td>NaN</td>\n",
              "      <td>NaN</td>\n",
              "      <td>Orrick, Herrington &amp; Sutcliffe LLP</td>\n",
              "      <td>NaN</td>\n",
              "      <td>NaN</td>\n",
              "      <td>NaN</td>\n",
              "      <td>US Bank Corporate Trust Services</td>\n",
              "      <td>0.00</td>\n",
              "      <td>0.00</td>\n",
              "    </tr>\n",
              "    <tr>\n",
              "      <th>...</th>\n",
              "      <td>...</td>\n",
              "      <td>...</td>\n",
              "      <td>...</td>\n",
              "      <td>...</td>\n",
              "      <td>...</td>\n",
              "      <td>...</td>\n",
              "      <td>...</td>\n",
              "      <td>...</td>\n",
              "      <td>...</td>\n",
              "      <td>...</td>\n",
              "      <td>...</td>\n",
              "      <td>...</td>\n",
              "      <td>...</td>\n",
              "      <td>...</td>\n",
              "      <td>...</td>\n",
              "      <td>...</td>\n",
              "      <td>...</td>\n",
              "      <td>...</td>\n",
              "      <td>...</td>\n",
              "      <td>...</td>\n",
              "      <td>...</td>\n",
              "    </tr>\n",
              "    <tr>\n",
              "      <th>1195</th>\n",
              "      <td>2008-1301</td>\n",
              "      <td>Mojave Unified School District</td>\n",
              "      <td>submited</td>\n",
              "      <td>SOLD</td>\n",
              "      <td>01/15/2009 12:00:00 AM</td>\n",
              "      <td>No Report</td>\n",
              "      <td>N/A</td>\n",
              "      <td>N</td>\n",
              "      <td>NaN</td>\n",
              "      <td>NaN</td>\n",
              "      <td>...</td>\n",
              "      <td>NaN</td>\n",
              "      <td>Caldwell Flores Winters Inc / CFW</td>\n",
              "      <td>NaN</td>\n",
              "      <td>Kronick Moskovitz Tiedemann &amp; Girard</td>\n",
              "      <td>NaN</td>\n",
              "      <td>NaN</td>\n",
              "      <td>NaN</td>\n",
              "      <td>U.S. Bank National Association</td>\n",
              "      <td>3.59</td>\n",
              "      <td>341516.05</td>\n",
              "    </tr>\n",
              "    <tr>\n",
              "      <th>1196</th>\n",
              "      <td>1994-1262</td>\n",
              "      <td>Kern High School District</td>\n",
              "      <td>Pending</td>\n",
              "      <td>SOLD</td>\n",
              "      <td>07/28/1994 12:00:00 AM</td>\n",
              "      <td>No Report</td>\n",
              "      <td>N/A</td>\n",
              "      <td>N</td>\n",
              "      <td>NaN</td>\n",
              "      <td>NaN</td>\n",
              "      <td>...</td>\n",
              "      <td>NaN</td>\n",
              "      <td>Dale Scott &amp; Associates Inc</td>\n",
              "      <td>NaN</td>\n",
              "      <td>Jones Hall Hill &amp; White</td>\n",
              "      <td>NaN</td>\n",
              "      <td>NaN</td>\n",
              "      <td>NaN</td>\n",
              "      <td>Kern County</td>\n",
              "      <td>0.00</td>\n",
              "      <td>0.00</td>\n",
              "    </tr>\n",
              "    <tr>\n",
              "      <th>1197</th>\n",
              "      <td>1988-0037</td>\n",
              "      <td>Bakersfield</td>\n",
              "      <td>Pending</td>\n",
              "      <td>SOLD</td>\n",
              "      <td>04/19/1988 12:00:00 AM</td>\n",
              "      <td>No Report</td>\n",
              "      <td>N/A</td>\n",
              "      <td>N</td>\n",
              "      <td>NaN</td>\n",
              "      <td>NaN</td>\n",
              "      <td>...</td>\n",
              "      <td>NaN</td>\n",
              "      <td>NaN</td>\n",
              "      <td>NaN</td>\n",
              "      <td>Jackson Hargrove Hillison &amp; Emerich</td>\n",
              "      <td>NaN</td>\n",
              "      <td>NaN</td>\n",
              "      <td>NaN</td>\n",
              "      <td>NaN</td>\n",
              "      <td>0.00</td>\n",
              "      <td>148460.00</td>\n",
              "    </tr>\n",
              "    <tr>\n",
              "      <th>1198</th>\n",
              "      <td>2003-0562</td>\n",
              "      <td>North of River Sanitary District No 1</td>\n",
              "      <td>submited</td>\n",
              "      <td>SOLD</td>\n",
              "      <td>05/15/2003 12:00:00 AM</td>\n",
              "      <td>No Report</td>\n",
              "      <td>N/A</td>\n",
              "      <td>N</td>\n",
              "      <td>NaN</td>\n",
              "      <td>NaN</td>\n",
              "      <td>...</td>\n",
              "      <td>NaN</td>\n",
              "      <td>NaN</td>\n",
              "      <td>NaN</td>\n",
              "      <td>Jones Hall A Professional Law Corp</td>\n",
              "      <td>NaN</td>\n",
              "      <td>NaN</td>\n",
              "      <td>NaN</td>\n",
              "      <td>U.S. Bank National Association</td>\n",
              "      <td>0.00</td>\n",
              "      <td>118490.00</td>\n",
              "    </tr>\n",
              "    <tr>\n",
              "      <th>1199</th>\n",
              "      <td>2007-0941</td>\n",
              "      <td>Beardsley School District</td>\n",
              "      <td>submited</td>\n",
              "      <td>SOLD</td>\n",
              "      <td>07/18/2007 12:00:00 AM</td>\n",
              "      <td>No Report</td>\n",
              "      <td>N/A</td>\n",
              "      <td>N</td>\n",
              "      <td>NaN</td>\n",
              "      <td>NaN</td>\n",
              "      <td>...</td>\n",
              "      <td>NaN</td>\n",
              "      <td>School Facilities Finance</td>\n",
              "      <td>NaN</td>\n",
              "      <td>Jones Hall A Professional Law Corp</td>\n",
              "      <td>NaN</td>\n",
              "      <td>NaN</td>\n",
              "      <td>NaN</td>\n",
              "      <td>U.S. Bank National Association</td>\n",
              "      <td>3.92</td>\n",
              "      <td>202971.00</td>\n",
              "    </tr>\n",
              "  </tbody>\n",
              "</table>\n",
              "<p>1200 rows × 55 columns</p>\n",
              "</div>\n",
              "      <button class=\"colab-df-convert\" onclick=\"convertToInteractive('df-62ddc3a6-1b53-433f-a06b-4660bcd51c11')\"\n",
              "              title=\"Convert this dataframe to an interactive table.\"\n",
              "              style=\"display:none;\">\n",
              "        \n",
              "  <svg xmlns=\"http://www.w3.org/2000/svg\" height=\"24px\"viewBox=\"0 0 24 24\"\n",
              "       width=\"24px\">\n",
              "    <path d=\"M0 0h24v24H0V0z\" fill=\"none\"/>\n",
              "    <path d=\"M18.56 5.44l.94 2.06.94-2.06 2.06-.94-2.06-.94-.94-2.06-.94 2.06-2.06.94zm-11 1L8.5 8.5l.94-2.06 2.06-.94-2.06-.94L8.5 2.5l-.94 2.06-2.06.94zm10 10l.94 2.06.94-2.06 2.06-.94-2.06-.94-.94-2.06-.94 2.06-2.06.94z\"/><path d=\"M17.41 7.96l-1.37-1.37c-.4-.4-.92-.59-1.43-.59-.52 0-1.04.2-1.43.59L10.3 9.45l-7.72 7.72c-.78.78-.78 2.05 0 2.83L4 21.41c.39.39.9.59 1.41.59.51 0 1.02-.2 1.41-.59l7.78-7.78 2.81-2.81c.8-.78.8-2.07 0-2.86zM5.41 20L4 18.59l7.72-7.72 1.47 1.35L5.41 20z\"/>\n",
              "  </svg>\n",
              "      </button>\n",
              "      \n",
              "  <style>\n",
              "    .colab-df-container {\n",
              "      display:flex;\n",
              "      flex-wrap:wrap;\n",
              "      gap: 12px;\n",
              "    }\n",
              "\n",
              "    .colab-df-convert {\n",
              "      background-color: #E8F0FE;\n",
              "      border: none;\n",
              "      border-radius: 50%;\n",
              "      cursor: pointer;\n",
              "      display: none;\n",
              "      fill: #1967D2;\n",
              "      height: 32px;\n",
              "      padding: 0 0 0 0;\n",
              "      width: 32px;\n",
              "    }\n",
              "\n",
              "    .colab-df-convert:hover {\n",
              "      background-color: #E2EBFA;\n",
              "      box-shadow: 0px 1px 2px rgba(60, 64, 67, 0.3), 0px 1px 3px 1px rgba(60, 64, 67, 0.15);\n",
              "      fill: #174EA6;\n",
              "    }\n",
              "\n",
              "    [theme=dark] .colab-df-convert {\n",
              "      background-color: #3B4455;\n",
              "      fill: #D2E3FC;\n",
              "    }\n",
              "\n",
              "    [theme=dark] .colab-df-convert:hover {\n",
              "      background-color: #434B5C;\n",
              "      box-shadow: 0px 1px 3px 1px rgba(0, 0, 0, 0.15);\n",
              "      filter: drop-shadow(0px 1px 2px rgba(0, 0, 0, 0.3));\n",
              "      fill: #FFFFFF;\n",
              "    }\n",
              "  </style>\n",
              "\n",
              "      <script>\n",
              "        const buttonEl =\n",
              "          document.querySelector('#df-62ddc3a6-1b53-433f-a06b-4660bcd51c11 button.colab-df-convert');\n",
              "        buttonEl.style.display =\n",
              "          google.colab.kernel.accessAllowed ? 'block' : 'none';\n",
              "\n",
              "        async function convertToInteractive(key) {\n",
              "          const element = document.querySelector('#df-62ddc3a6-1b53-433f-a06b-4660bcd51c11');\n",
              "          const dataTable =\n",
              "            await google.colab.kernel.invokeFunction('convertToInteractive',\n",
              "                                                     [key], {});\n",
              "          if (!dataTable) return;\n",
              "\n",
              "          const docLinkHtml = 'Like what you see? Visit the ' +\n",
              "            '<a target=\"_blank\" href=https://colab.research.google.com/notebooks/data_table.ipynb>data table notebook</a>'\n",
              "            + ' to learn more about interactive tables.';\n",
              "          element.innerHTML = '';\n",
              "          dataTable['output_type'] = 'display_data';\n",
              "          await google.colab.output.renderOutput(dataTable, element);\n",
              "          const docLink = document.createElement('div');\n",
              "          docLink.innerHTML = docLinkHtml;\n",
              "          element.appendChild(docLink);\n",
              "        }\n",
              "      </script>\n",
              "    </div>\n",
              "  </div>\n",
              "  "
            ]
          },
          "metadata": {},
          "execution_count": 2
        }
      ],
      "id": "GXyfwUy59wtl"
    },
    {
      "cell_type": "code",
      "source": [
        "df.shape"
      ],
      "metadata": {
        "colab": {
          "base_uri": "https://localhost:8080/"
        },
        "id": "Ps5Cu8St9wtn",
        "outputId": "b9c6dc25-0911-424b-f2f6-516fb99a2ec8"
      },
      "execution_count": 3,
      "outputs": [
        {
          "output_type": "execute_result",
          "data": {
            "text/plain": [
              "(1200, 55)"
            ]
          },
          "metadata": {},
          "execution_count": 3
        }
      ],
      "id": "Ps5Cu8St9wtn"
    },
    {
      "cell_type": "code",
      "source": [
        "df.size"
      ],
      "metadata": {
        "colab": {
          "base_uri": "https://localhost:8080/"
        },
        "id": "_KATNix79wtn",
        "outputId": "d39825af-ed24-4c03-d559-8c65347842aa"
      },
      "execution_count": 4,
      "outputs": [
        {
          "output_type": "execute_result",
          "data": {
            "text/plain": [
              "66000"
            ]
          },
          "metadata": {},
          "execution_count": 4
        }
      ],
      "id": "_KATNix79wtn"
    },
    {
      "cell_type": "code",
      "source": [
        "df.describe()"
      ],
      "metadata": {
        "colab": {
          "base_uri": "https://localhost:8080/",
          "height": 362
        },
        "id": "LnA_iuH39wto",
        "outputId": "bd37660e-0ca6-44b1-f635-873033e78630"
      },
      "execution_count": 5,
      "outputs": [
        {
          "output_type": "execute_result",
          "data": {
            "text/plain": [
              "       Principal Amount     New Money  Refunding Amount  \\\n",
              "count      1.200000e+03  1.200000e+03      1.081000e+03   \n",
              "mean       1.250888e+07  8.618718e+06      4.318402e+06   \n",
              "std        2.665435e+07  2.256718e+07      1.655262e+07   \n",
              "min        1.000000e+04 -1.309768e+06      0.000000e+00   \n",
              "25%        2.000000e+06  5.000000e+05      0.000000e+00   \n",
              "50%        4.563000e+06  2.682260e+06      0.000000e+00   \n",
              "75%        1.088905e+07  6.960277e+06      1.768974e+06   \n",
              "max        2.381771e+08  2.278184e+08      2.381771e+08   \n",
              "\n",
              "       Net Issue Discount/Premium  TIC Interest Rate  NIC Interest Rate  \\\n",
              "count                9.190000e+02         559.000000         847.000000   \n",
              "mean                 2.385701e+05           3.797231           3.989185   \n",
              "std                  1.180353e+06           3.472626           2.679650   \n",
              "min                 -6.337712e+06           0.000000           0.000000   \n",
              "25%                  0.000000e+00           2.577500           2.312000   \n",
              "50%                  0.000000e+00           3.687000           3.851000   \n",
              "75%                  6.706200e+04           4.777000           5.709500   \n",
              "max                  2.552913e+07          69.604000          28.271000   \n",
              "\n",
              "       Lender  Co-Financial Advisor  Co-Bond Counsel  \\\n",
              "count     0.0                   0.0              0.0   \n",
              "mean      NaN                   NaN              NaN   \n",
              "std       NaN                   NaN              NaN   \n",
              "min       NaN                   NaN              NaN   \n",
              "25%       NaN                   NaN              NaN   \n",
              "50%       NaN                   NaN              NaN   \n",
              "75%       NaN                   NaN              NaN   \n",
              "max       NaN                   NaN              NaN   \n",
              "\n",
              "       Issue Costs Pct of Principal Amt  Total Issuance Costs  \n",
              "count                       1198.000000          1.198000e+03  \n",
              "mean                           1.262304          1.599789e+05  \n",
              "std                            2.195228          2.673541e+05  \n",
              "min                            0.000000          0.000000e+00  \n",
              "25%                            0.000000          0.000000e+00  \n",
              "50%                            0.030000          6.511163e+04  \n",
              "75%                            1.950000          2.183755e+05  \n",
              "max                           30.420000          3.114696e+06  "
            ],
            "text/html": [
              "\n",
              "  <div id=\"df-6e901edf-8a85-479f-b64c-3a5ea8112a27\">\n",
              "    <div class=\"colab-df-container\">\n",
              "      <div>\n",
              "<style scoped>\n",
              "    .dataframe tbody tr th:only-of-type {\n",
              "        vertical-align: middle;\n",
              "    }\n",
              "\n",
              "    .dataframe tbody tr th {\n",
              "        vertical-align: top;\n",
              "    }\n",
              "\n",
              "    .dataframe thead th {\n",
              "        text-align: right;\n",
              "    }\n",
              "</style>\n",
              "<table border=\"1\" class=\"dataframe\">\n",
              "  <thead>\n",
              "    <tr style=\"text-align: right;\">\n",
              "      <th></th>\n",
              "      <th>Principal Amount</th>\n",
              "      <th>New Money</th>\n",
              "      <th>Refunding Amount</th>\n",
              "      <th>Net Issue Discount/Premium</th>\n",
              "      <th>TIC Interest Rate</th>\n",
              "      <th>NIC Interest Rate</th>\n",
              "      <th>Lender</th>\n",
              "      <th>Co-Financial Advisor</th>\n",
              "      <th>Co-Bond Counsel</th>\n",
              "      <th>Issue Costs Pct of Principal Amt</th>\n",
              "      <th>Total Issuance Costs</th>\n",
              "    </tr>\n",
              "  </thead>\n",
              "  <tbody>\n",
              "    <tr>\n",
              "      <th>count</th>\n",
              "      <td>1.200000e+03</td>\n",
              "      <td>1.200000e+03</td>\n",
              "      <td>1.081000e+03</td>\n",
              "      <td>9.190000e+02</td>\n",
              "      <td>559.000000</td>\n",
              "      <td>847.000000</td>\n",
              "      <td>0.0</td>\n",
              "      <td>0.0</td>\n",
              "      <td>0.0</td>\n",
              "      <td>1198.000000</td>\n",
              "      <td>1.198000e+03</td>\n",
              "    </tr>\n",
              "    <tr>\n",
              "      <th>mean</th>\n",
              "      <td>1.250888e+07</td>\n",
              "      <td>8.618718e+06</td>\n",
              "      <td>4.318402e+06</td>\n",
              "      <td>2.385701e+05</td>\n",
              "      <td>3.797231</td>\n",
              "      <td>3.989185</td>\n",
              "      <td>NaN</td>\n",
              "      <td>NaN</td>\n",
              "      <td>NaN</td>\n",
              "      <td>1.262304</td>\n",
              "      <td>1.599789e+05</td>\n",
              "    </tr>\n",
              "    <tr>\n",
              "      <th>std</th>\n",
              "      <td>2.665435e+07</td>\n",
              "      <td>2.256718e+07</td>\n",
              "      <td>1.655262e+07</td>\n",
              "      <td>1.180353e+06</td>\n",
              "      <td>3.472626</td>\n",
              "      <td>2.679650</td>\n",
              "      <td>NaN</td>\n",
              "      <td>NaN</td>\n",
              "      <td>NaN</td>\n",
              "      <td>2.195228</td>\n",
              "      <td>2.673541e+05</td>\n",
              "    </tr>\n",
              "    <tr>\n",
              "      <th>min</th>\n",
              "      <td>1.000000e+04</td>\n",
              "      <td>-1.309768e+06</td>\n",
              "      <td>0.000000e+00</td>\n",
              "      <td>-6.337712e+06</td>\n",
              "      <td>0.000000</td>\n",
              "      <td>0.000000</td>\n",
              "      <td>NaN</td>\n",
              "      <td>NaN</td>\n",
              "      <td>NaN</td>\n",
              "      <td>0.000000</td>\n",
              "      <td>0.000000e+00</td>\n",
              "    </tr>\n",
              "    <tr>\n",
              "      <th>25%</th>\n",
              "      <td>2.000000e+06</td>\n",
              "      <td>5.000000e+05</td>\n",
              "      <td>0.000000e+00</td>\n",
              "      <td>0.000000e+00</td>\n",
              "      <td>2.577500</td>\n",
              "      <td>2.312000</td>\n",
              "      <td>NaN</td>\n",
              "      <td>NaN</td>\n",
              "      <td>NaN</td>\n",
              "      <td>0.000000</td>\n",
              "      <td>0.000000e+00</td>\n",
              "    </tr>\n",
              "    <tr>\n",
              "      <th>50%</th>\n",
              "      <td>4.563000e+06</td>\n",
              "      <td>2.682260e+06</td>\n",
              "      <td>0.000000e+00</td>\n",
              "      <td>0.000000e+00</td>\n",
              "      <td>3.687000</td>\n",
              "      <td>3.851000</td>\n",
              "      <td>NaN</td>\n",
              "      <td>NaN</td>\n",
              "      <td>NaN</td>\n",
              "      <td>0.030000</td>\n",
              "      <td>6.511163e+04</td>\n",
              "    </tr>\n",
              "    <tr>\n",
              "      <th>75%</th>\n",
              "      <td>1.088905e+07</td>\n",
              "      <td>6.960277e+06</td>\n",
              "      <td>1.768974e+06</td>\n",
              "      <td>6.706200e+04</td>\n",
              "      <td>4.777000</td>\n",
              "      <td>5.709500</td>\n",
              "      <td>NaN</td>\n",
              "      <td>NaN</td>\n",
              "      <td>NaN</td>\n",
              "      <td>1.950000</td>\n",
              "      <td>2.183755e+05</td>\n",
              "    </tr>\n",
              "    <tr>\n",
              "      <th>max</th>\n",
              "      <td>2.381771e+08</td>\n",
              "      <td>2.278184e+08</td>\n",
              "      <td>2.381771e+08</td>\n",
              "      <td>2.552913e+07</td>\n",
              "      <td>69.604000</td>\n",
              "      <td>28.271000</td>\n",
              "      <td>NaN</td>\n",
              "      <td>NaN</td>\n",
              "      <td>NaN</td>\n",
              "      <td>30.420000</td>\n",
              "      <td>3.114696e+06</td>\n",
              "    </tr>\n",
              "  </tbody>\n",
              "</table>\n",
              "</div>\n",
              "      <button class=\"colab-df-convert\" onclick=\"convertToInteractive('df-6e901edf-8a85-479f-b64c-3a5ea8112a27')\"\n",
              "              title=\"Convert this dataframe to an interactive table.\"\n",
              "              style=\"display:none;\">\n",
              "        \n",
              "  <svg xmlns=\"http://www.w3.org/2000/svg\" height=\"24px\"viewBox=\"0 0 24 24\"\n",
              "       width=\"24px\">\n",
              "    <path d=\"M0 0h24v24H0V0z\" fill=\"none\"/>\n",
              "    <path d=\"M18.56 5.44l.94 2.06.94-2.06 2.06-.94-2.06-.94-.94-2.06-.94 2.06-2.06.94zm-11 1L8.5 8.5l.94-2.06 2.06-.94-2.06-.94L8.5 2.5l-.94 2.06-2.06.94zm10 10l.94 2.06.94-2.06 2.06-.94-2.06-.94-.94-2.06-.94 2.06-2.06.94z\"/><path d=\"M17.41 7.96l-1.37-1.37c-.4-.4-.92-.59-1.43-.59-.52 0-1.04.2-1.43.59L10.3 9.45l-7.72 7.72c-.78.78-.78 2.05 0 2.83L4 21.41c.39.39.9.59 1.41.59.51 0 1.02-.2 1.41-.59l7.78-7.78 2.81-2.81c.8-.78.8-2.07 0-2.86zM5.41 20L4 18.59l7.72-7.72 1.47 1.35L5.41 20z\"/>\n",
              "  </svg>\n",
              "      </button>\n",
              "      \n",
              "  <style>\n",
              "    .colab-df-container {\n",
              "      display:flex;\n",
              "      flex-wrap:wrap;\n",
              "      gap: 12px;\n",
              "    }\n",
              "\n",
              "    .colab-df-convert {\n",
              "      background-color: #E8F0FE;\n",
              "      border: none;\n",
              "      border-radius: 50%;\n",
              "      cursor: pointer;\n",
              "      display: none;\n",
              "      fill: #1967D2;\n",
              "      height: 32px;\n",
              "      padding: 0 0 0 0;\n",
              "      width: 32px;\n",
              "    }\n",
              "\n",
              "    .colab-df-convert:hover {\n",
              "      background-color: #E2EBFA;\n",
              "      box-shadow: 0px 1px 2px rgba(60, 64, 67, 0.3), 0px 1px 3px 1px rgba(60, 64, 67, 0.15);\n",
              "      fill: #174EA6;\n",
              "    }\n",
              "\n",
              "    [theme=dark] .colab-df-convert {\n",
              "      background-color: #3B4455;\n",
              "      fill: #D2E3FC;\n",
              "    }\n",
              "\n",
              "    [theme=dark] .colab-df-convert:hover {\n",
              "      background-color: #434B5C;\n",
              "      box-shadow: 0px 1px 3px 1px rgba(0, 0, 0, 0.15);\n",
              "      filter: drop-shadow(0px 1px 2px rgba(0, 0, 0, 0.3));\n",
              "      fill: #FFFFFF;\n",
              "    }\n",
              "  </style>\n",
              "\n",
              "      <script>\n",
              "        const buttonEl =\n",
              "          document.querySelector('#df-6e901edf-8a85-479f-b64c-3a5ea8112a27 button.colab-df-convert');\n",
              "        buttonEl.style.display =\n",
              "          google.colab.kernel.accessAllowed ? 'block' : 'none';\n",
              "\n",
              "        async function convertToInteractive(key) {\n",
              "          const element = document.querySelector('#df-6e901edf-8a85-479f-b64c-3a5ea8112a27');\n",
              "          const dataTable =\n",
              "            await google.colab.kernel.invokeFunction('convertToInteractive',\n",
              "                                                     [key], {});\n",
              "          if (!dataTable) return;\n",
              "\n",
              "          const docLinkHtml = 'Like what you see? Visit the ' +\n",
              "            '<a target=\"_blank\" href=https://colab.research.google.com/notebooks/data_table.ipynb>data table notebook</a>'\n",
              "            + ' to learn more about interactive tables.';\n",
              "          element.innerHTML = '';\n",
              "          dataTable['output_type'] = 'display_data';\n",
              "          await google.colab.output.renderOutput(dataTable, element);\n",
              "          const docLink = document.createElement('div');\n",
              "          docLink.innerHTML = docLinkHtml;\n",
              "          element.appendChild(docLink);\n",
              "        }\n",
              "      </script>\n",
              "    </div>\n",
              "  </div>\n",
              "  "
            ]
          },
          "metadata": {},
          "execution_count": 5
        }
      ],
      "id": "LnA_iuH39wto"
    },
    {
      "cell_type": "code",
      "source": [
        "df.info()"
      ],
      "metadata": {
        "colab": {
          "base_uri": "https://localhost:8080/"
        },
        "id": "7Gy0lQ179wto",
        "outputId": "b1cf5228-f97f-4aee-f0ba-2ea7ba3186ee"
      },
      "execution_count": 6,
      "outputs": [
        {
          "output_type": "stream",
          "name": "stdout",
          "text": [
            "<class 'pandas.core.frame.DataFrame'>\n",
            "RangeIndex: 1200 entries, 0 to 1199\n",
            "Data columns (total 55 columns):\n",
            " #   Column                             Non-Null Count  Dtype  \n",
            "---  ------                             --------------  -----  \n",
            " 0   CDIAC Number                       1200 non-null   object \n",
            " 1   Issuer                             1200 non-null   object \n",
            " 2   Issuance Documents                 1200 non-null   object \n",
            " 3   Sold Status                        1200 non-null   object \n",
            " 4   Sale Date                          1200 non-null   object \n",
            " 5   ADTR Report                        1200 non-null   object \n",
            " 6   ADTR Filing Status                 1200 non-null   object \n",
            " 7   ADTR Reportable                    1200 non-null   object \n",
            " 8   ADTR Reportable Next Fiscal Year   151 non-null    object \n",
            " 9   ADTR Last Reported Year            117 non-null    object \n",
            " 10  Debt Policy                        158 non-null    object \n",
            " 11  Issuer County                      1200 non-null   object \n",
            " 12  MKR Authority                      1200 non-null   object \n",
            " 13  Local Obligation                   1200 non-null   object \n",
            " 14  MKR CDIAC Number                   8 non-null      object \n",
            " 15  Issuer Group                       1200 non-null   object \n",
            " 16  Issuer Type                        1200 non-null   object \n",
            " 17  Project Name                       1012 non-null   object \n",
            " 18  Principal Amount                   1200 non-null   float64\n",
            " 19  New Money                          1200 non-null   float64\n",
            " 20  Refunding Amount                   1081 non-null   float64\n",
            " 21  Net Issue Discount/Premium         919 non-null    float64\n",
            " 22  Environmental/Social Impact Bonds  1191 non-null   object \n",
            " 23  Debt Type                          1200 non-null   object \n",
            " 24  Purpose                            1198 non-null   object \n",
            " 25  Source of Repayment                1199 non-null   object \n",
            " 26  TIC Interest Rate                  559 non-null    float64\n",
            " 27  NIC Interest Rate                  847 non-null    float64\n",
            " 28  Interest Type                      915 non-null    object \n",
            " 29  Other Interest Type                6 non-null      object \n",
            " 30  Federally Taxable                  1200 non-null   object \n",
            " 31  First Optional Call Date           480 non-null    object \n",
            " 32  Final Maturity Date                1057 non-null   object \n",
            " 33  CAB Flag                           750 non-null    object \n",
            " 34  S and P Rating                     1198 non-null   object \n",
            " 35  Moody Rating                       1198 non-null   object \n",
            " 36  Fitch Rating                       1198 non-null   object \n",
            " 37  Other Rating                       1198 non-null   object \n",
            " 38  Guarantor Flag                     579 non-null    object \n",
            " 39  Guarantor                          513 non-null    object \n",
            " 40  Sale Type (Comp/Neg)               1200 non-null   object \n",
            " 41  Private Placement Flag             1200 non-null   object \n",
            " 42  Underwriter                        1024 non-null   object \n",
            " 43  Lender                             0 non-null      float64\n",
            " 44  Purchaser                          123 non-null    object \n",
            " 45  Placement Agent                    52 non-null     object \n",
            " 46  Financial Advisor                  657 non-null    object \n",
            " 47  Co-Financial Advisor               0 non-null      float64\n",
            " 48  Bond Counsel                       1189 non-null   object \n",
            " 49  Co-Bond Counsel                    0 non-null      float64\n",
            " 50  Disclosure Counsel                 227 non-null    object \n",
            " 51  Borrower Counsel                   2 non-null      object \n",
            " 52  Trustee                            814 non-null    object \n",
            " 53  Issue Costs Pct of Principal Amt   1198 non-null   float64\n",
            " 54  Total Issuance Costs               1198 non-null   float64\n",
            "dtypes: float64(11), object(44)\n",
            "memory usage: 515.8+ KB\n"
          ]
        }
      ],
      "id": "7Gy0lQ179wto"
    },
    {
      "cell_type": "code",
      "source": [
        "df.nunique()"
      ],
      "metadata": {
        "colab": {
          "base_uri": "https://localhost:8080/"
        },
        "id": "C2daZjax9wto",
        "outputId": "8ce4021c-1c91-4b4c-ee88-3f552a197630"
      },
      "execution_count": 7,
      "outputs": [
        {
          "output_type": "execute_result",
          "data": {
            "text/plain": [
              "CDIAC Number                         1200\n",
              "Issuer                                178\n",
              "Issuance Documents                      3\n",
              "Sold Status                             2\n",
              "Sale Date                             833\n",
              "ADTR Report                             3\n",
              "ADTR Filing Status                      4\n",
              "ADTR Reportable                         2\n",
              "ADTR Reportable Next Fiscal Year        1\n",
              "ADTR Last Reported Year                 4\n",
              "Debt Policy                             2\n",
              "Issuer County                           1\n",
              "MKR Authority                           2\n",
              "Local Obligation                        2\n",
              "MKR CDIAC Number                        8\n",
              "Issuer Group                            6\n",
              "Issuer Type                            23\n",
              "Project Name                          403\n",
              "Principal Amount                      882\n",
              "New Money                             745\n",
              "Refunding Amount                      301\n",
              "Net Issue Discount/Premium            342\n",
              "Environmental/Social Impact Bonds       2\n",
              "Debt Type                              23\n",
              "Purpose                                29\n",
              "Source of Repayment                    13\n",
              "TIC Interest Rate                     447\n",
              "NIC Interest Rate                     581\n",
              "Interest Type                           4\n",
              "Other Interest Type                     6\n",
              "Federally Taxable                       3\n",
              "First Optional Call Date              247\n",
              "Final Maturity Date                   477\n",
              "CAB Flag                                2\n",
              "S and P Rating                         51\n",
              "Moody Rating                           38\n",
              "Fitch Rating                           16\n",
              "Other Rating                            3\n",
              "Guarantor Flag                          3\n",
              "Guarantor                              27\n",
              "Sale Type (Comp/Neg)                    2\n",
              "Private Placement Flag                  3\n",
              "Underwriter                           138\n",
              "Lender                                  0\n",
              "Purchaser                              50\n",
              "Placement Agent                        13\n",
              "Financial Advisor                      62\n",
              "Co-Financial Advisor                    0\n",
              "Bond Counsel                           65\n",
              "Co-Bond Counsel                         0\n",
              "Disclosure Counsel                     22\n",
              "Borrower Counsel                        2\n",
              "Trustee                                40\n",
              "Issue Costs Pct of Principal Amt      376\n",
              "Total Issuance Costs                  789\n",
              "dtype: int64"
            ]
          },
          "metadata": {},
          "execution_count": 7
        }
      ],
      "id": "C2daZjax9wto"
    },
    {
      "cell_type": "markdown",
      "source": [
        "## checking for null values"
      ],
      "metadata": {
        "id": "HqPF0bZx9wtp"
      },
      "id": "HqPF0bZx9wtp"
    },
    {
      "cell_type": "code",
      "source": [
        "df.isnull().sum()"
      ],
      "metadata": {
        "colab": {
          "base_uri": "https://localhost:8080/"
        },
        "id": "hGhVfLff9wtq",
        "outputId": "7e096f2d-9293-412e-e3f2-5f606d9f6bb4"
      },
      "execution_count": 8,
      "outputs": [
        {
          "output_type": "execute_result",
          "data": {
            "text/plain": [
              "CDIAC Number                            0\n",
              "Issuer                                  0\n",
              "Issuance Documents                      0\n",
              "Sold Status                             0\n",
              "Sale Date                               0\n",
              "ADTR Report                             0\n",
              "ADTR Filing Status                      0\n",
              "ADTR Reportable                         0\n",
              "ADTR Reportable Next Fiscal Year     1049\n",
              "ADTR Last Reported Year              1083\n",
              "Debt Policy                          1042\n",
              "Issuer County                           0\n",
              "MKR Authority                           0\n",
              "Local Obligation                        0\n",
              "MKR CDIAC Number                     1192\n",
              "Issuer Group                            0\n",
              "Issuer Type                             0\n",
              "Project Name                          188\n",
              "Principal Amount                        0\n",
              "New Money                               0\n",
              "Refunding Amount                      119\n",
              "Net Issue Discount/Premium            281\n",
              "Environmental/Social Impact Bonds       9\n",
              "Debt Type                               0\n",
              "Purpose                                 2\n",
              "Source of Repayment                     1\n",
              "TIC Interest Rate                     641\n",
              "NIC Interest Rate                     353\n",
              "Interest Type                         285\n",
              "Other Interest Type                  1194\n",
              "Federally Taxable                       0\n",
              "First Optional Call Date              720\n",
              "Final Maturity Date                   143\n",
              "CAB Flag                              450\n",
              "S and P Rating                          2\n",
              "Moody Rating                            2\n",
              "Fitch Rating                            2\n",
              "Other Rating                            2\n",
              "Guarantor Flag                        621\n",
              "Guarantor                             687\n",
              "Sale Type (Comp/Neg)                    0\n",
              "Private Placement Flag                  0\n",
              "Underwriter                           176\n",
              "Lender                               1200\n",
              "Purchaser                            1077\n",
              "Placement Agent                      1148\n",
              "Financial Advisor                     543\n",
              "Co-Financial Advisor                 1200\n",
              "Bond Counsel                           11\n",
              "Co-Bond Counsel                      1200\n",
              "Disclosure Counsel                    973\n",
              "Borrower Counsel                     1198\n",
              "Trustee                               386\n",
              "Issue Costs Pct of Principal Amt        2\n",
              "Total Issuance Costs                    2\n",
              "dtype: int64"
            ]
          },
          "metadata": {},
          "execution_count": 8
        }
      ],
      "id": "hGhVfLff9wtq"
    },
    {
      "cell_type": "markdown",
      "source": [
        "### Replacing null value"
      ],
      "metadata": {
        "id": "jpYoTHNg9wtr"
      },
      "id": "jpYoTHNg9wtr"
    },
    {
      "cell_type": "code",
      "source": [
        "mode= df[\"ADTR Reportable Next Fiscal Year\"].mode().values[0]\n",
        "df[\"ADTR Reportable Next Fiscal Year\"]=df[\"ADTR Reportable Next Fiscal Year\"].fillna(mode)"
      ],
      "metadata": {
        "id": "yh5uQg1z9wts"
      },
      "execution_count": 9,
      "outputs": [],
      "id": "yh5uQg1z9wts"
    },
    {
      "cell_type": "code",
      "source": [
        "mode= df[\"ADTR Last Reported Year\"].mode().values[0]\n",
        "df[\"ADTR Last Reported Year\"]=df[\"ADTR Last Reported Year\"].fillna(mode)"
      ],
      "metadata": {
        "id": "2u9xkTwW9wts"
      },
      "execution_count": 10,
      "outputs": [],
      "id": "2u9xkTwW9wts"
    },
    {
      "cell_type": "code",
      "source": [
        "mode= df[\"Debt Policy\"].mode().values[0]\n",
        "df[\"Debt Policy\"]=df[\"Debt Policy\"].fillna(mode)"
      ],
      "metadata": {
        "id": "84NnTcA-9wtt"
      },
      "execution_count": 11,
      "outputs": [],
      "id": "84NnTcA-9wtt"
    },
    {
      "cell_type": "code",
      "source": [
        "mode= df[\"MKR CDIAC Number\"].mode().values[0]\n",
        "df[\"MKR CDIAC Number\"]=df[\"MKR CDIAC Number\"].fillna(mode)"
      ],
      "metadata": {
        "id": "eM9G9lMt9wtu"
      },
      "execution_count": 12,
      "outputs": [],
      "id": "eM9G9lMt9wtu"
    },
    {
      "cell_type": "code",
      "source": [
        "mode= df[\"Project Name\"].mode().values[0]\n",
        "df[\"Project Name\"]=df[\"Project Name\"].fillna(mode)"
      ],
      "metadata": {
        "id": "v1MmutaU9wtu"
      },
      "execution_count": 13,
      "outputs": [],
      "id": "v1MmutaU9wtu"
    },
    {
      "cell_type": "code",
      "source": [
        "mean= df[\"Refunding Amount\"].mean()\n",
        "df[\"Refunding Amount\"]=df[\"Refunding Amount\"].fillna(mean)"
      ],
      "metadata": {
        "id": "GiuPJGma9wtv"
      },
      "execution_count": 14,
      "outputs": [],
      "id": "GiuPJGma9wtv"
    },
    {
      "cell_type": "code",
      "source": [
        "mean= df[\"Net Issue Discount/Premium\"].mean()\n",
        "df[\"Net Issue Discount/Premium\"]=df[\"Net Issue Discount/Premium\"].fillna(mean)"
      ],
      "metadata": {
        "id": "o6WMD1gg9wtv"
      },
      "execution_count": 15,
      "outputs": [],
      "id": "o6WMD1gg9wtv"
    },
    {
      "cell_type": "code",
      "source": [
        "mode= df[\"Environmental/Social Impact Bonds\"].mode().values[0]\n",
        "df[\"Environmental/Social Impact Bonds\"]=df[\"Environmental/Social Impact Bonds\"].fillna(mode)"
      ],
      "metadata": {
        "id": "qpXClHnu9wtw"
      },
      "execution_count": 16,
      "outputs": [],
      "id": "qpXClHnu9wtw"
    },
    {
      "cell_type": "code",
      "source": [
        "mode= df[\"Purpose\"].mode().values[0]\n",
        "df[\"Purpose\"]=df[\"Purpose\"].fillna(mode)"
      ],
      "metadata": {
        "id": "m-UsP9GO9wtw"
      },
      "execution_count": 17,
      "outputs": [],
      "id": "m-UsP9GO9wtw"
    },
    {
      "cell_type": "code",
      "source": [
        "mode= df[\"Source of Repayment\"].mode().values[0]\n",
        "df[\"Source of Repayment\"]=df[\"Source of Repayment\"].fillna(mode)"
      ],
      "metadata": {
        "id": "z_cf87ga9wtw"
      },
      "execution_count": 18,
      "outputs": [],
      "id": "z_cf87ga9wtw"
    },
    {
      "cell_type": "code",
      "source": [
        "mean= df[\"TIC Interest Rate\"].mean()\n",
        "df[\"TIC Interest Rate\"]=df[\"TIC Interest Rate\"].fillna(mean)"
      ],
      "metadata": {
        "id": "xmG2qZq_9wtx"
      },
      "execution_count": 19,
      "outputs": [],
      "id": "xmG2qZq_9wtx"
    },
    {
      "cell_type": "code",
      "source": [
        "mean= df[\"NIC Interest Rate\"].mean()\n",
        "df[\"NIC Interest Rate\"]=df[\"NIC Interest Rate\"].fillna(mean)"
      ],
      "metadata": {
        "id": "NFarlMYQ9wtx"
      },
      "execution_count": 20,
      "outputs": [],
      "id": "NFarlMYQ9wtx"
    },
    {
      "cell_type": "code",
      "source": [
        "mode= df[\"Interest Type\"].mode().values[0]\n",
        "df[\"Interest Type\"]=df[\"Interest Type\"].fillna(mode)"
      ],
      "metadata": {
        "id": "sYA1Wgoc9wty"
      },
      "execution_count": 21,
      "outputs": [],
      "id": "sYA1Wgoc9wty"
    },
    {
      "cell_type": "code",
      "source": [
        "mode= df[\"Other Interest Type\"].mode().values[0]\n",
        "df[\"Other Interest Type\"]=df[\"Other Interest Type\"].fillna(mode)"
      ],
      "metadata": {
        "id": "TB01z33b9wty"
      },
      "execution_count": 22,
      "outputs": [],
      "id": "TB01z33b9wty"
    },
    {
      "cell_type": "code",
      "source": [
        "mode= df[\"First Optional Call Date\"].mode().values[0]\n",
        "df[\"First Optional Call Date\"]=df[\"First Optional Call Date\"].fillna(mode)"
      ],
      "metadata": {
        "id": "p4onT5Qx9wty"
      },
      "execution_count": 23,
      "outputs": [],
      "id": "p4onT5Qx9wty"
    },
    {
      "cell_type": "code",
      "source": [
        "mode= df[\"Final Maturity Date\"].mode().values[0]\n",
        "df[\"Final Maturity Date\"]=df[\"Final Maturity Date\"].fillna(mode)"
      ],
      "metadata": {
        "id": "3sh0aBwU9wtz"
      },
      "execution_count": 24,
      "outputs": [],
      "id": "3sh0aBwU9wtz"
    },
    {
      "cell_type": "code",
      "source": [
        "mode= df[\"CAB Flag\"].mode().values[0]\n",
        "df[\"CAB Flag\"]=df[\"CAB Flag\"].fillna(mode)"
      ],
      "metadata": {
        "id": "Knrsp-eR9wtz"
      },
      "execution_count": 25,
      "outputs": [],
      "id": "Knrsp-eR9wtz"
    },
    {
      "cell_type": "code",
      "source": [
        "mode= df[\"S and P Rating\"].mode().values[0]\n",
        "df[\"S and P Rating\"]=df[\"S and P Rating\"].fillna(mode)"
      ],
      "metadata": {
        "id": "bkUjGjOF9wtz"
      },
      "execution_count": 26,
      "outputs": [],
      "id": "bkUjGjOF9wtz"
    },
    {
      "cell_type": "code",
      "source": [
        "mode= df[\"Moody Rating\"].mode().values[0]\n",
        "df[\"Moody Rating\"]=df[\"Moody Rating\"].fillna(mode)"
      ],
      "metadata": {
        "id": "djKKi7Sj9wt0"
      },
      "execution_count": 27,
      "outputs": [],
      "id": "djKKi7Sj9wt0"
    },
    {
      "cell_type": "code",
      "source": [
        "mode= df[\"Fitch Rating\"].mode().values[0]\n",
        "df[\"Fitch Rating\"]=df[\"Fitch Rating\"].fillna(mode)"
      ],
      "metadata": {
        "id": "SRrF1_hr9wt0"
      },
      "execution_count": 28,
      "outputs": [],
      "id": "SRrF1_hr9wt0"
    },
    {
      "cell_type": "code",
      "source": [
        "mode= df[\"Other Rating\"].mode().values[0]\n",
        "df[\"Other Rating\"]=df[\"Other Rating\"].fillna(mode)"
      ],
      "metadata": {
        "id": "9DjgO-_E9wt0"
      },
      "execution_count": 29,
      "outputs": [],
      "id": "9DjgO-_E9wt0"
    },
    {
      "cell_type": "code",
      "source": [
        "mode= df[\"Guarantor Flag\"].mode().values[0]\n",
        "df[\"Guarantor Flag\"]=df[\"Guarantor Flag\"].fillna(mode)"
      ],
      "metadata": {
        "id": "9E7HH0439wt0"
      },
      "execution_count": 30,
      "outputs": [],
      "id": "9E7HH0439wt0"
    },
    {
      "cell_type": "code",
      "source": [
        "mode= df[\"Guarantor\"].mode().values[0]\n",
        "df[\"Guarantor\"]=df[\"Guarantor\"].fillna(mode)"
      ],
      "metadata": {
        "id": "OoqBlrH79wt0"
      },
      "execution_count": 31,
      "outputs": [],
      "id": "OoqBlrH79wt0"
    },
    {
      "cell_type": "code",
      "source": [
        "mode= df[\"Underwriter\"].mode().values[0]\n",
        "df[\"Underwriter\"]=df[\"Underwriter\"].fillna(mode)"
      ],
      "metadata": {
        "id": "z3dbnoS69wt1"
      },
      "execution_count": 32,
      "outputs": [],
      "id": "z3dbnoS69wt1"
    },
    {
      "cell_type": "code",
      "source": [
        "mean= df[\"Lender\"].mean()\n",
        "df[\"Lender\"]=df[\"Lender\"].fillna(mean)"
      ],
      "metadata": {
        "id": "qDFcf2DK9wt1"
      },
      "execution_count": 33,
      "outputs": [],
      "id": "qDFcf2DK9wt1"
    },
    {
      "cell_type": "code",
      "source": [
        "mode= df[\"Purchaser\"].mode().values[0]\n",
        "df[\"Purchaser\"]=df[\"Purchaser\"].fillna(mode)"
      ],
      "metadata": {
        "id": "Vf1uDVLD9wt1"
      },
      "execution_count": 34,
      "outputs": [],
      "id": "Vf1uDVLD9wt1"
    },
    {
      "cell_type": "code",
      "source": [
        "mode= df[\"Placement Agent\"].mode().values[0]\n",
        "df[\"Placement Agent\"]=df[\"Placement Agent\"].fillna(mode)"
      ],
      "metadata": {
        "id": "iqCEMn7I9wt1"
      },
      "execution_count": 35,
      "outputs": [],
      "id": "iqCEMn7I9wt1"
    },
    {
      "cell_type": "code",
      "source": [
        "mode= df[\"Financial Advisor\"].mode().values[0]\n",
        "df[\"Financial Advisor\"]=df[\"Financial Advisor\"].fillna(mode)"
      ],
      "metadata": {
        "id": "0ujFi07R9wt2"
      },
      "execution_count": 36,
      "outputs": [],
      "id": "0ujFi07R9wt2"
    },
    {
      "cell_type": "code",
      "source": [
        "mean= df[\"Co-Financial Advisor\"].mean()\n",
        "df[\"Co-Financial Advisor\"]=df[\"Co-Financial Advisor\"].fillna(mean)"
      ],
      "metadata": {
        "id": "P13Gszjc9wt2"
      },
      "execution_count": 37,
      "outputs": [],
      "id": "P13Gszjc9wt2"
    },
    {
      "cell_type": "code",
      "source": [
        "mode = df[\"Bond Counsel\"].mode().values[0]\n",
        "df[\"Bond Counsel\"]=df[\"Bond Counsel\"].fillna(mode)"
      ],
      "metadata": {
        "id": "WCjA7Bnt9wt2"
      },
      "execution_count": 38,
      "outputs": [],
      "id": "WCjA7Bnt9wt2"
    },
    {
      "cell_type": "code",
      "source": [
        "mode = df[\"Disclosure Counsel\"].mode().values[0]\n",
        "df[\"Disclosure Counsel\"]=df[\"Disclosure Counsel\"].fillna(mode)"
      ],
      "metadata": {
        "id": "dCXn3Oyy9wt2"
      },
      "execution_count": 39,
      "outputs": [],
      "id": "dCXn3Oyy9wt2"
    },
    {
      "cell_type": "code",
      "source": [
        "mode = df[\"Trustee\"].mode().values[0]\n",
        "df[\"Trustee\"]=df[\"Trustee\"].fillna(mode)"
      ],
      "metadata": {
        "id": "jf4h5-_E9wt3"
      },
      "execution_count": 40,
      "outputs": [],
      "id": "jf4h5-_E9wt3"
    },
    {
      "cell_type": "code",
      "source": [
        "mean= df[\"Issue Costs Pct of Principal Amt\"].mean()\n",
        "df[\"Issue Costs Pct of Principal Amt\"]=df[\"Issue Costs Pct of Principal Amt\"].fillna(mean)"
      ],
      "metadata": {
        "id": "nO6u8uN39wt3"
      },
      "execution_count": 41,
      "outputs": [],
      "id": "nO6u8uN39wt3"
    },
    {
      "cell_type": "code",
      "source": [
        "mean= df[\"Total Issuance Costs\"].mean()\n",
        "df[\"Total Issuance Costs\"]=df[\"Total Issuance Costs\"].fillna(mean)"
      ],
      "metadata": {
        "id": "-CjlAygR9wt3"
      },
      "execution_count": 42,
      "outputs": [],
      "id": "-CjlAygR9wt3"
    },
    {
      "cell_type": "code",
      "source": [
        "df.isnull().sum()"
      ],
      "metadata": {
        "colab": {
          "base_uri": "https://localhost:8080/"
        },
        "id": "uGJjH3F19wt3",
        "outputId": "d05bf2ad-89aa-482d-d08e-d11616850bea"
      },
      "execution_count": 43,
      "outputs": [
        {
          "output_type": "execute_result",
          "data": {
            "text/plain": [
              "CDIAC Number                            0\n",
              "Issuer                                  0\n",
              "Issuance Documents                      0\n",
              "Sold Status                             0\n",
              "Sale Date                               0\n",
              "ADTR Report                             0\n",
              "ADTR Filing Status                      0\n",
              "ADTR Reportable                         0\n",
              "ADTR Reportable Next Fiscal Year        0\n",
              "ADTR Last Reported Year                 0\n",
              "Debt Policy                             0\n",
              "Issuer County                           0\n",
              "MKR Authority                           0\n",
              "Local Obligation                        0\n",
              "MKR CDIAC Number                        0\n",
              "Issuer Group                            0\n",
              "Issuer Type                             0\n",
              "Project Name                            0\n",
              "Principal Amount                        0\n",
              "New Money                               0\n",
              "Refunding Amount                        0\n",
              "Net Issue Discount/Premium              0\n",
              "Environmental/Social Impact Bonds       0\n",
              "Debt Type                               0\n",
              "Purpose                                 0\n",
              "Source of Repayment                     0\n",
              "TIC Interest Rate                       0\n",
              "NIC Interest Rate                       0\n",
              "Interest Type                           0\n",
              "Other Interest Type                     0\n",
              "Federally Taxable                       0\n",
              "First Optional Call Date                0\n",
              "Final Maturity Date                     0\n",
              "CAB Flag                                0\n",
              "S and P Rating                          0\n",
              "Moody Rating                            0\n",
              "Fitch Rating                            0\n",
              "Other Rating                            0\n",
              "Guarantor Flag                          0\n",
              "Guarantor                               0\n",
              "Sale Type (Comp/Neg)                    0\n",
              "Private Placement Flag                  0\n",
              "Underwriter                             0\n",
              "Lender                               1200\n",
              "Purchaser                               0\n",
              "Placement Agent                         0\n",
              "Financial Advisor                       0\n",
              "Co-Financial Advisor                 1200\n",
              "Bond Counsel                            0\n",
              "Co-Bond Counsel                      1200\n",
              "Disclosure Counsel                      0\n",
              "Borrower Counsel                     1198\n",
              "Trustee                                 0\n",
              "Issue Costs Pct of Principal Amt        0\n",
              "Total Issuance Costs                    0\n",
              "dtype: int64"
            ]
          },
          "metadata": {},
          "execution_count": 43
        }
      ],
      "id": "uGJjH3F19wt3"
    },
    {
      "cell_type": "markdown",
      "source": [
        "### As we can see that there are not a single value in column like lender,co-financial advisor,co-bond counsel,borrower counsel (only have 2 values). so we can drop this columns"
      ],
      "metadata": {
        "id": "89nQ3HTb9wt4"
      },
      "id": "89nQ3HTb9wt4"
    },
    {
      "cell_type": "markdown",
      "source": [
        "# Droping the columns"
      ],
      "metadata": {
        "id": "tyjiAbIU9wt4"
      },
      "id": "tyjiAbIU9wt4"
    },
    {
      "cell_type": "code",
      "source": [
        "df.drop(columns=[\"CDIAC Number\",\"Issuer\",\"MKR CDIAC Number\",\"Fitch Rating\",\"Other Rating\",\"Lender\",\"Co-Financial Advisor\",\"Co-Bond Counsel\",\"Borrower Counsel\",\"Issuer County\",\"TIC Interest Rate\",\"NIC Interest Rate\",\"Net Issue Discount/Premium\",\"Sale Date\",\"Project Name\",\"Trustee\",\"ADTR Reportable Next Fiscal Year\"],inplace=True)"
      ],
      "metadata": {
        "id": "Kdl7V1_I9wt4"
      },
      "execution_count": 44,
      "outputs": [],
      "id": "Kdl7V1_I9wt4"
    },
    {
      "cell_type": "code",
      "source": [
        "df"
      ],
      "metadata": {
        "scrolled": true,
        "colab": {
          "base_uri": "https://localhost:8080/",
          "height": 1000
        },
        "id": "Vr-JTSW49wt4",
        "outputId": "2906f5e2-62c0-489b-c104-a820a3c16e0f"
      },
      "execution_count": 45,
      "outputs": [
        {
          "output_type": "execute_result",
          "data": {
            "text/plain": [
              "     Issuance Documents Sold Status ADTR Report ADTR Filing Status  \\\n",
              "0             submited         SOLD    REPORTED           PENDING    \n",
              "1              Pending         SOLD  No Report                N/A    \n",
              "2             submited         SOLD    REPORTED           PENDING    \n",
              "3             submited         SOLD  No Report                N/A    \n",
              "4              Pending         SOLD  No Report                N/A    \n",
              "...                 ...         ...         ...                ...   \n",
              "1195          submited         SOLD  No Report                N/A    \n",
              "1196           Pending         SOLD  No Report                N/A    \n",
              "1197           Pending         SOLD  No Report                N/A    \n",
              "1198          submited         SOLD  No Report                N/A    \n",
              "1199          submited         SOLD  No Report                N/A    \n",
              "\n",
              "     ADTR Reportable ADTR Last Reported Year Debt Policy MKR Authority  \\\n",
              "0                  Y  06/30/2022 12:00:00 AM           Y            NO   \n",
              "1                  N  06/30/2022 12:00:00 AM           Y            NO   \n",
              "2                  Y  06/30/2022 12:00:00 AM           Y            NO   \n",
              "3                  N  06/30/2022 12:00:00 AM           Y            NO   \n",
              "4                  N  06/30/2022 12:00:00 AM           Y            NO   \n",
              "...              ...                     ...         ...           ...   \n",
              "1195               N  06/30/2022 12:00:00 AM           Y            NO   \n",
              "1196               N  06/30/2022 12:00:00 AM           Y            NO   \n",
              "1197               N  06/30/2022 12:00:00 AM           Y            NO   \n",
              "1198               N  06/30/2022 12:00:00 AM           Y            NO   \n",
              "1199               N  06/30/2022 12:00:00 AM           Y            NO   \n",
              "\n",
              "     Local Obligation       Issuer Group  ... Sale Type (Comp/Neg)  \\\n",
              "0                  NO       K-14 Schools  ...                  Neg   \n",
              "1                  NO       K-14 Schools  ...                  Neg   \n",
              "2                  NO       K-14 Schools  ...                  Neg   \n",
              "3                  NO             Cities  ...                  Neg   \n",
              "4                  NO           Counties  ...                  Neg   \n",
              "...               ...                ...  ...                  ...   \n",
              "1195               NO       K-14 Schools  ...                  Neg   \n",
              "1196               NO       K-14 Schools  ...                 Comp   \n",
              "1197               NO             Cities  ...                  Neg   \n",
              "1198               NO  Special Districts  ...                  Neg   \n",
              "1199               NO       K-14 Schools  ...                  Neg   \n",
              "\n",
              "      Private Placement Flag  \\\n",
              "0                        YES   \n",
              "1                         NO   \n",
              "2                        YES   \n",
              "3                         NO   \n",
              "4                         NO   \n",
              "...                      ...   \n",
              "1195                      NO   \n",
              "1196                      NO   \n",
              "1197                      NO   \n",
              "1198                      NO   \n",
              "1199                      NO   \n",
              "\n",
              "                                            Underwriter  \\\n",
              "0                                    Piper Jaffray & Co   \n",
              "1                            Piper Jaffray Incorporated   \n",
              "2                                    Piper Jaffray & Co   \n",
              "3                         Stifel Nicolaus & Company Inc   \n",
              "4                              US Bancorp Piper Jaffray   \n",
              "...                                                 ...   \n",
              "1195                         Banc of America Securities   \n",
              "1196                          Oppenheimer & Company Inc   \n",
              "1197                                M L Stern & Company   \n",
              "1198  Brandis Tallman, A Division of Oppenheimer & C...   \n",
              "1199                           Chilton & Associates Inc   \n",
              "\n",
              "                                  Purchaser  \\\n",
              "0     First Foundation Public Finance Trust   \n",
              "1                        City National Bank   \n",
              "2     First Foundation Public Finance Trust   \n",
              "3                        City National Bank   \n",
              "4                        City National Bank   \n",
              "...                                     ...   \n",
              "1195                     City National Bank   \n",
              "1196                     City National Bank   \n",
              "1197                     City National Bank   \n",
              "1198                     City National Bank   \n",
              "1199                     City National Bank   \n",
              "\n",
              "                                        Placement Agent  \\\n",
              "0                        Raymond James & Associates Inc   \n",
              "1     Brandis Tallman, A Division of Oppenheimer & C...   \n",
              "2                        Raymond James & Associates Inc   \n",
              "3     Brandis Tallman, A Division of Oppenheimer & C...   \n",
              "4     Brandis Tallman, A Division of Oppenheimer & C...   \n",
              "...                                                 ...   \n",
              "1195  Brandis Tallman, A Division of Oppenheimer & C...   \n",
              "1196  Brandis Tallman, A Division of Oppenheimer & C...   \n",
              "1197  Brandis Tallman, A Division of Oppenheimer & C...   \n",
              "1198  Brandis Tallman, A Division of Oppenheimer & C...   \n",
              "1199  Brandis Tallman, A Division of Oppenheimer & C...   \n",
              "\n",
              "                      Financial Advisor                          Bond Counsel  \\\n",
              "0         California Financial Services          Norton Rose Fulbright US LLP   \n",
              "1      Fieldman Rolapp & Associates Inc    Orrick, Herrington & Sutcliffe LLP   \n",
              "2             California Public Finance          Norton Rose Fulbright US LLP   \n",
              "3      Fieldman Rolapp & Associates Inc    Orrick, Herrington & Sutcliffe LLP   \n",
              "4      Fieldman Rolapp & Associates Inc    Orrick, Herrington & Sutcliffe LLP   \n",
              "...                                 ...                                   ...   \n",
              "1195  Caldwell Flores Winters Inc / CFW  Kronick Moskovitz Tiedemann & Girard   \n",
              "1196        Dale Scott & Associates Inc               Jones Hall Hill & White   \n",
              "1197   Fieldman Rolapp & Associates Inc   Jackson Hargrove Hillison & Emerich   \n",
              "1198   Fieldman Rolapp & Associates Inc    Jones Hall A Professional Law Corp   \n",
              "1199          School Facilities Finance    Jones Hall A Professional Law Corp   \n",
              "\n",
              "                      Disclosure Counsel Issue Costs Pct of Principal Amt  \\\n",
              "0     Jones Hall A Professional Law Corp                             3.67   \n",
              "1     Jones Hall A Professional Law Corp                             0.00   \n",
              "2     Jones Hall A Professional Law Corp                            10.07   \n",
              "3                    Goodwin Procter LLP                             1.78   \n",
              "4     Jones Hall A Professional Law Corp                             0.00   \n",
              "...                                  ...                              ...   \n",
              "1195  Jones Hall A Professional Law Corp                             3.59   \n",
              "1196  Jones Hall A Professional Law Corp                             0.00   \n",
              "1197  Jones Hall A Professional Law Corp                             0.00   \n",
              "1198  Jones Hall A Professional Law Corp                             0.00   \n",
              "1199  Jones Hall A Professional Law Corp                             3.92   \n",
              "\n",
              "     Total Issuance Costs  \n",
              "0               170000.00  \n",
              "1                    0.00  \n",
              "2               135000.00  \n",
              "3                50843.91  \n",
              "4                    0.00  \n",
              "...                   ...  \n",
              "1195            341516.05  \n",
              "1196                 0.00  \n",
              "1197            148460.00  \n",
              "1198            118490.00  \n",
              "1199            202971.00  \n",
              "\n",
              "[1200 rows x 38 columns]"
            ],
            "text/html": [
              "\n",
              "  <div id=\"df-25dc4987-1c06-492f-a633-e9224aa7314c\">\n",
              "    <div class=\"colab-df-container\">\n",
              "      <div>\n",
              "<style scoped>\n",
              "    .dataframe tbody tr th:only-of-type {\n",
              "        vertical-align: middle;\n",
              "    }\n",
              "\n",
              "    .dataframe tbody tr th {\n",
              "        vertical-align: top;\n",
              "    }\n",
              "\n",
              "    .dataframe thead th {\n",
              "        text-align: right;\n",
              "    }\n",
              "</style>\n",
              "<table border=\"1\" class=\"dataframe\">\n",
              "  <thead>\n",
              "    <tr style=\"text-align: right;\">\n",
              "      <th></th>\n",
              "      <th>Issuance Documents</th>\n",
              "      <th>Sold Status</th>\n",
              "      <th>ADTR Report</th>\n",
              "      <th>ADTR Filing Status</th>\n",
              "      <th>ADTR Reportable</th>\n",
              "      <th>ADTR Last Reported Year</th>\n",
              "      <th>Debt Policy</th>\n",
              "      <th>MKR Authority</th>\n",
              "      <th>Local Obligation</th>\n",
              "      <th>Issuer Group</th>\n",
              "      <th>...</th>\n",
              "      <th>Sale Type (Comp/Neg)</th>\n",
              "      <th>Private Placement Flag</th>\n",
              "      <th>Underwriter</th>\n",
              "      <th>Purchaser</th>\n",
              "      <th>Placement Agent</th>\n",
              "      <th>Financial Advisor</th>\n",
              "      <th>Bond Counsel</th>\n",
              "      <th>Disclosure Counsel</th>\n",
              "      <th>Issue Costs Pct of Principal Amt</th>\n",
              "      <th>Total Issuance Costs</th>\n",
              "    </tr>\n",
              "  </thead>\n",
              "  <tbody>\n",
              "    <tr>\n",
              "      <th>0</th>\n",
              "      <td>submited</td>\n",
              "      <td>SOLD</td>\n",
              "      <td>REPORTED</td>\n",
              "      <td>PENDING</td>\n",
              "      <td>Y</td>\n",
              "      <td>06/30/2022 12:00:00 AM</td>\n",
              "      <td>Y</td>\n",
              "      <td>NO</td>\n",
              "      <td>NO</td>\n",
              "      <td>K-14 Schools</td>\n",
              "      <td>...</td>\n",
              "      <td>Neg</td>\n",
              "      <td>YES</td>\n",
              "      <td>Piper Jaffray &amp; Co</td>\n",
              "      <td>First Foundation Public Finance Trust</td>\n",
              "      <td>Raymond James &amp; Associates Inc</td>\n",
              "      <td>California Financial Services</td>\n",
              "      <td>Norton Rose Fulbright US LLP</td>\n",
              "      <td>Jones Hall A Professional Law Corp</td>\n",
              "      <td>3.67</td>\n",
              "      <td>170000.00</td>\n",
              "    </tr>\n",
              "    <tr>\n",
              "      <th>1</th>\n",
              "      <td>Pending</td>\n",
              "      <td>SOLD</td>\n",
              "      <td>No Report</td>\n",
              "      <td>N/A</td>\n",
              "      <td>N</td>\n",
              "      <td>06/30/2022 12:00:00 AM</td>\n",
              "      <td>Y</td>\n",
              "      <td>NO</td>\n",
              "      <td>NO</td>\n",
              "      <td>K-14 Schools</td>\n",
              "      <td>...</td>\n",
              "      <td>Neg</td>\n",
              "      <td>NO</td>\n",
              "      <td>Piper Jaffray Incorporated</td>\n",
              "      <td>City National Bank</td>\n",
              "      <td>Brandis Tallman, A Division of Oppenheimer &amp; C...</td>\n",
              "      <td>Fieldman Rolapp &amp; Associates Inc</td>\n",
              "      <td>Orrick, Herrington &amp; Sutcliffe LLP</td>\n",
              "      <td>Jones Hall A Professional Law Corp</td>\n",
              "      <td>0.00</td>\n",
              "      <td>0.00</td>\n",
              "    </tr>\n",
              "    <tr>\n",
              "      <th>2</th>\n",
              "      <td>submited</td>\n",
              "      <td>SOLD</td>\n",
              "      <td>REPORTED</td>\n",
              "      <td>PENDING</td>\n",
              "      <td>Y</td>\n",
              "      <td>06/30/2022 12:00:00 AM</td>\n",
              "      <td>Y</td>\n",
              "      <td>NO</td>\n",
              "      <td>NO</td>\n",
              "      <td>K-14 Schools</td>\n",
              "      <td>...</td>\n",
              "      <td>Neg</td>\n",
              "      <td>YES</td>\n",
              "      <td>Piper Jaffray &amp; Co</td>\n",
              "      <td>First Foundation Public Finance Trust</td>\n",
              "      <td>Raymond James &amp; Associates Inc</td>\n",
              "      <td>California Public Finance</td>\n",
              "      <td>Norton Rose Fulbright US LLP</td>\n",
              "      <td>Jones Hall A Professional Law Corp</td>\n",
              "      <td>10.07</td>\n",
              "      <td>135000.00</td>\n",
              "    </tr>\n",
              "    <tr>\n",
              "      <th>3</th>\n",
              "      <td>submited</td>\n",
              "      <td>SOLD</td>\n",
              "      <td>No Report</td>\n",
              "      <td>N/A</td>\n",
              "      <td>N</td>\n",
              "      <td>06/30/2022 12:00:00 AM</td>\n",
              "      <td>Y</td>\n",
              "      <td>NO</td>\n",
              "      <td>NO</td>\n",
              "      <td>Cities</td>\n",
              "      <td>...</td>\n",
              "      <td>Neg</td>\n",
              "      <td>NO</td>\n",
              "      <td>Stifel Nicolaus &amp; Company Inc</td>\n",
              "      <td>City National Bank</td>\n",
              "      <td>Brandis Tallman, A Division of Oppenheimer &amp; C...</td>\n",
              "      <td>Fieldman Rolapp &amp; Associates Inc</td>\n",
              "      <td>Orrick, Herrington &amp; Sutcliffe LLP</td>\n",
              "      <td>Goodwin Procter LLP</td>\n",
              "      <td>1.78</td>\n",
              "      <td>50843.91</td>\n",
              "    </tr>\n",
              "    <tr>\n",
              "      <th>4</th>\n",
              "      <td>Pending</td>\n",
              "      <td>SOLD</td>\n",
              "      <td>No Report</td>\n",
              "      <td>N/A</td>\n",
              "      <td>N</td>\n",
              "      <td>06/30/2022 12:00:00 AM</td>\n",
              "      <td>Y</td>\n",
              "      <td>NO</td>\n",
              "      <td>NO</td>\n",
              "      <td>Counties</td>\n",
              "      <td>...</td>\n",
              "      <td>Neg</td>\n",
              "      <td>NO</td>\n",
              "      <td>US Bancorp Piper Jaffray</td>\n",
              "      <td>City National Bank</td>\n",
              "      <td>Brandis Tallman, A Division of Oppenheimer &amp; C...</td>\n",
              "      <td>Fieldman Rolapp &amp; Associates Inc</td>\n",
              "      <td>Orrick, Herrington &amp; Sutcliffe LLP</td>\n",
              "      <td>Jones Hall A Professional Law Corp</td>\n",
              "      <td>0.00</td>\n",
              "      <td>0.00</td>\n",
              "    </tr>\n",
              "    <tr>\n",
              "      <th>...</th>\n",
              "      <td>...</td>\n",
              "      <td>...</td>\n",
              "      <td>...</td>\n",
              "      <td>...</td>\n",
              "      <td>...</td>\n",
              "      <td>...</td>\n",
              "      <td>...</td>\n",
              "      <td>...</td>\n",
              "      <td>...</td>\n",
              "      <td>...</td>\n",
              "      <td>...</td>\n",
              "      <td>...</td>\n",
              "      <td>...</td>\n",
              "      <td>...</td>\n",
              "      <td>...</td>\n",
              "      <td>...</td>\n",
              "      <td>...</td>\n",
              "      <td>...</td>\n",
              "      <td>...</td>\n",
              "      <td>...</td>\n",
              "      <td>...</td>\n",
              "    </tr>\n",
              "    <tr>\n",
              "      <th>1195</th>\n",
              "      <td>submited</td>\n",
              "      <td>SOLD</td>\n",
              "      <td>No Report</td>\n",
              "      <td>N/A</td>\n",
              "      <td>N</td>\n",
              "      <td>06/30/2022 12:00:00 AM</td>\n",
              "      <td>Y</td>\n",
              "      <td>NO</td>\n",
              "      <td>NO</td>\n",
              "      <td>K-14 Schools</td>\n",
              "      <td>...</td>\n",
              "      <td>Neg</td>\n",
              "      <td>NO</td>\n",
              "      <td>Banc of America Securities</td>\n",
              "      <td>City National Bank</td>\n",
              "      <td>Brandis Tallman, A Division of Oppenheimer &amp; C...</td>\n",
              "      <td>Caldwell Flores Winters Inc / CFW</td>\n",
              "      <td>Kronick Moskovitz Tiedemann &amp; Girard</td>\n",
              "      <td>Jones Hall A Professional Law Corp</td>\n",
              "      <td>3.59</td>\n",
              "      <td>341516.05</td>\n",
              "    </tr>\n",
              "    <tr>\n",
              "      <th>1196</th>\n",
              "      <td>Pending</td>\n",
              "      <td>SOLD</td>\n",
              "      <td>No Report</td>\n",
              "      <td>N/A</td>\n",
              "      <td>N</td>\n",
              "      <td>06/30/2022 12:00:00 AM</td>\n",
              "      <td>Y</td>\n",
              "      <td>NO</td>\n",
              "      <td>NO</td>\n",
              "      <td>K-14 Schools</td>\n",
              "      <td>...</td>\n",
              "      <td>Comp</td>\n",
              "      <td>NO</td>\n",
              "      <td>Oppenheimer &amp; Company Inc</td>\n",
              "      <td>City National Bank</td>\n",
              "      <td>Brandis Tallman, A Division of Oppenheimer &amp; C...</td>\n",
              "      <td>Dale Scott &amp; Associates Inc</td>\n",
              "      <td>Jones Hall Hill &amp; White</td>\n",
              "      <td>Jones Hall A Professional Law Corp</td>\n",
              "      <td>0.00</td>\n",
              "      <td>0.00</td>\n",
              "    </tr>\n",
              "    <tr>\n",
              "      <th>1197</th>\n",
              "      <td>Pending</td>\n",
              "      <td>SOLD</td>\n",
              "      <td>No Report</td>\n",
              "      <td>N/A</td>\n",
              "      <td>N</td>\n",
              "      <td>06/30/2022 12:00:00 AM</td>\n",
              "      <td>Y</td>\n",
              "      <td>NO</td>\n",
              "      <td>NO</td>\n",
              "      <td>Cities</td>\n",
              "      <td>...</td>\n",
              "      <td>Neg</td>\n",
              "      <td>NO</td>\n",
              "      <td>M L Stern &amp; Company</td>\n",
              "      <td>City National Bank</td>\n",
              "      <td>Brandis Tallman, A Division of Oppenheimer &amp; C...</td>\n",
              "      <td>Fieldman Rolapp &amp; Associates Inc</td>\n",
              "      <td>Jackson Hargrove Hillison &amp; Emerich</td>\n",
              "      <td>Jones Hall A Professional Law Corp</td>\n",
              "      <td>0.00</td>\n",
              "      <td>148460.00</td>\n",
              "    </tr>\n",
              "    <tr>\n",
              "      <th>1198</th>\n",
              "      <td>submited</td>\n",
              "      <td>SOLD</td>\n",
              "      <td>No Report</td>\n",
              "      <td>N/A</td>\n",
              "      <td>N</td>\n",
              "      <td>06/30/2022 12:00:00 AM</td>\n",
              "      <td>Y</td>\n",
              "      <td>NO</td>\n",
              "      <td>NO</td>\n",
              "      <td>Special Districts</td>\n",
              "      <td>...</td>\n",
              "      <td>Neg</td>\n",
              "      <td>NO</td>\n",
              "      <td>Brandis Tallman, A Division of Oppenheimer &amp; C...</td>\n",
              "      <td>City National Bank</td>\n",
              "      <td>Brandis Tallman, A Division of Oppenheimer &amp; C...</td>\n",
              "      <td>Fieldman Rolapp &amp; Associates Inc</td>\n",
              "      <td>Jones Hall A Professional Law Corp</td>\n",
              "      <td>Jones Hall A Professional Law Corp</td>\n",
              "      <td>0.00</td>\n",
              "      <td>118490.00</td>\n",
              "    </tr>\n",
              "    <tr>\n",
              "      <th>1199</th>\n",
              "      <td>submited</td>\n",
              "      <td>SOLD</td>\n",
              "      <td>No Report</td>\n",
              "      <td>N/A</td>\n",
              "      <td>N</td>\n",
              "      <td>06/30/2022 12:00:00 AM</td>\n",
              "      <td>Y</td>\n",
              "      <td>NO</td>\n",
              "      <td>NO</td>\n",
              "      <td>K-14 Schools</td>\n",
              "      <td>...</td>\n",
              "      <td>Neg</td>\n",
              "      <td>NO</td>\n",
              "      <td>Chilton &amp; Associates Inc</td>\n",
              "      <td>City National Bank</td>\n",
              "      <td>Brandis Tallman, A Division of Oppenheimer &amp; C...</td>\n",
              "      <td>School Facilities Finance</td>\n",
              "      <td>Jones Hall A Professional Law Corp</td>\n",
              "      <td>Jones Hall A Professional Law Corp</td>\n",
              "      <td>3.92</td>\n",
              "      <td>202971.00</td>\n",
              "    </tr>\n",
              "  </tbody>\n",
              "</table>\n",
              "<p>1200 rows × 38 columns</p>\n",
              "</div>\n",
              "      <button class=\"colab-df-convert\" onclick=\"convertToInteractive('df-25dc4987-1c06-492f-a633-e9224aa7314c')\"\n",
              "              title=\"Convert this dataframe to an interactive table.\"\n",
              "              style=\"display:none;\">\n",
              "        \n",
              "  <svg xmlns=\"http://www.w3.org/2000/svg\" height=\"24px\"viewBox=\"0 0 24 24\"\n",
              "       width=\"24px\">\n",
              "    <path d=\"M0 0h24v24H0V0z\" fill=\"none\"/>\n",
              "    <path d=\"M18.56 5.44l.94 2.06.94-2.06 2.06-.94-2.06-.94-.94-2.06-.94 2.06-2.06.94zm-11 1L8.5 8.5l.94-2.06 2.06-.94-2.06-.94L8.5 2.5l-.94 2.06-2.06.94zm10 10l.94 2.06.94-2.06 2.06-.94-2.06-.94-.94-2.06-.94 2.06-2.06.94z\"/><path d=\"M17.41 7.96l-1.37-1.37c-.4-.4-.92-.59-1.43-.59-.52 0-1.04.2-1.43.59L10.3 9.45l-7.72 7.72c-.78.78-.78 2.05 0 2.83L4 21.41c.39.39.9.59 1.41.59.51 0 1.02-.2 1.41-.59l7.78-7.78 2.81-2.81c.8-.78.8-2.07 0-2.86zM5.41 20L4 18.59l7.72-7.72 1.47 1.35L5.41 20z\"/>\n",
              "  </svg>\n",
              "      </button>\n",
              "      \n",
              "  <style>\n",
              "    .colab-df-container {\n",
              "      display:flex;\n",
              "      flex-wrap:wrap;\n",
              "      gap: 12px;\n",
              "    }\n",
              "\n",
              "    .colab-df-convert {\n",
              "      background-color: #E8F0FE;\n",
              "      border: none;\n",
              "      border-radius: 50%;\n",
              "      cursor: pointer;\n",
              "      display: none;\n",
              "      fill: #1967D2;\n",
              "      height: 32px;\n",
              "      padding: 0 0 0 0;\n",
              "      width: 32px;\n",
              "    }\n",
              "\n",
              "    .colab-df-convert:hover {\n",
              "      background-color: #E2EBFA;\n",
              "      box-shadow: 0px 1px 2px rgba(60, 64, 67, 0.3), 0px 1px 3px 1px rgba(60, 64, 67, 0.15);\n",
              "      fill: #174EA6;\n",
              "    }\n",
              "\n",
              "    [theme=dark] .colab-df-convert {\n",
              "      background-color: #3B4455;\n",
              "      fill: #D2E3FC;\n",
              "    }\n",
              "\n",
              "    [theme=dark] .colab-df-convert:hover {\n",
              "      background-color: #434B5C;\n",
              "      box-shadow: 0px 1px 3px 1px rgba(0, 0, 0, 0.15);\n",
              "      filter: drop-shadow(0px 1px 2px rgba(0, 0, 0, 0.3));\n",
              "      fill: #FFFFFF;\n",
              "    }\n",
              "  </style>\n",
              "\n",
              "      <script>\n",
              "        const buttonEl =\n",
              "          document.querySelector('#df-25dc4987-1c06-492f-a633-e9224aa7314c button.colab-df-convert');\n",
              "        buttonEl.style.display =\n",
              "          google.colab.kernel.accessAllowed ? 'block' : 'none';\n",
              "\n",
              "        async function convertToInteractive(key) {\n",
              "          const element = document.querySelector('#df-25dc4987-1c06-492f-a633-e9224aa7314c');\n",
              "          const dataTable =\n",
              "            await google.colab.kernel.invokeFunction('convertToInteractive',\n",
              "                                                     [key], {});\n",
              "          if (!dataTable) return;\n",
              "\n",
              "          const docLinkHtml = 'Like what you see? Visit the ' +\n",
              "            '<a target=\"_blank\" href=https://colab.research.google.com/notebooks/data_table.ipynb>data table notebook</a>'\n",
              "            + ' to learn more about interactive tables.';\n",
              "          element.innerHTML = '';\n",
              "          dataTable['output_type'] = 'display_data';\n",
              "          await google.colab.output.renderOutput(dataTable, element);\n",
              "          const docLink = document.createElement('div');\n",
              "          docLink.innerHTML = docLinkHtml;\n",
              "          element.appendChild(docLink);\n",
              "        }\n",
              "      </script>\n",
              "    </div>\n",
              "  </div>\n",
              "  "
            ]
          },
          "metadata": {},
          "execution_count": 45
        }
      ],
      "id": "Vr-JTSW49wt4"
    },
    {
      "cell_type": "markdown",
      "source": [
        "# looking for duplicate values"
      ],
      "metadata": {
        "id": "FRcnG6xZ9wt5"
      },
      "id": "FRcnG6xZ9wt5"
    },
    {
      "cell_type": "code",
      "source": [
        "df.duplicated().sum()"
      ],
      "metadata": {
        "colab": {
          "base_uri": "https://localhost:8080/"
        },
        "id": "HHZ-kiDf9wt5",
        "outputId": "ea634df1-d0a2-4274-a472-37f5bdbef1a3"
      },
      "execution_count": 46,
      "outputs": [
        {
          "output_type": "execute_result",
          "data": {
            "text/plain": [
              "2"
            ]
          },
          "metadata": {},
          "execution_count": 46
        }
      ],
      "id": "HHZ-kiDf9wt5"
    },
    {
      "cell_type": "code",
      "source": [
        "df.drop_duplicates(inplace=True)"
      ],
      "metadata": {
        "id": "Yd1HJr5F9wt5"
      },
      "execution_count": 47,
      "outputs": [],
      "id": "Yd1HJr5F9wt5"
    },
    {
      "cell_type": "code",
      "source": [
        "df.duplicated().sum()"
      ],
      "metadata": {
        "colab": {
          "base_uri": "https://localhost:8080/"
        },
        "id": "6S22US7T9wt5",
        "outputId": "4bb8c97f-792f-429f-c8f4-82bc4a64945a"
      },
      "execution_count": 48,
      "outputs": [
        {
          "output_type": "execute_result",
          "data": {
            "text/plain": [
              "0"
            ]
          },
          "metadata": {},
          "execution_count": 48
        }
      ],
      "id": "6S22US7T9wt5"
    },
    {
      "cell_type": "markdown",
      "source": [
        "# looking for outliers"
      ],
      "metadata": {
        "id": "KlcUNCge9wt6"
      },
      "id": "KlcUNCge9wt6"
    },
    {
      "cell_type": "code",
      "source": [
        "\n",
        "plt.figure(figsize=(30,30))\n",
        "plt.subplot(4,2,1)\n",
        "sns.boxplot(df[\"Principal Amount\"])\n",
        "plt.subplot(4,2,2)\n",
        "sns.boxplot(df[\"New Money\"])\n",
        "plt.subplot(4,2,3)\n",
        "sns.boxplot(df[\"Refunding Amount\"])\n",
        "\n"
      ],
      "metadata": {
        "scrolled": true,
        "colab": {
          "base_uri": "https://localhost:8080/",
          "height": 808
        },
        "id": "rYUKL16u9wt6",
        "outputId": "2bef531a-24f5-4984-abb6-697a55600dfe"
      },
      "execution_count": 49,
      "outputs": [
        {
          "output_type": "execute_result",
          "data": {
            "text/plain": [
              "<matplotlib.axes._subplots.AxesSubplot at 0x7ff19b3ef6d0>"
            ]
          },
          "metadata": {},
          "execution_count": 49
        },
        {
          "output_type": "display_data",
          "data": {
            "text/plain": [
              "<Figure size 2160x2160 with 3 Axes>"
            ],
            "image/png": "[encoded data removed]"
          },
          "metadata": {
            "needs_background": "light"
          }
        }
      ],
      "id": "rYUKL16u9wt6"
    },
    {
      "cell_type": "code",
      "source": [
        "plt.figure(figsize=(30,30))\n",
        "plt.subplot(2,2,1)\n",
        "sns.boxplot(df[\"Issue Costs Pct of Principal Amt\"])\n",
        "plt.subplot(2,2,2)\n",
        "sns.boxplot(df[\"Total Issuance Costs\"])\n"
      ],
      "metadata": {
        "colab": {
          "base_uri": "https://localhost:8080/",
          "height": 772
        },
        "id": "PZlhnZR99wt6",
        "outputId": "fd0586ef-4e48-4f45-e870-f49bc1fd42da"
      },
      "execution_count": 50,
      "outputs": [
        {
          "output_type": "execute_result",
          "data": {
            "text/plain": [
              "<matplotlib.axes._subplots.AxesSubplot at 0x7ff19977b550>"
            ]
          },
          "metadata": {},
          "execution_count": 50
        },
        {
          "output_type": "display_data",
          "data": {
            "text/plain": [
              "<Figure size 2160x2160 with 2 Axes>"
            ],
            "image/png": "[encoded data removed]"
          },
          "metadata": {
            "needs_background": "light"
          }
        }
      ],
      "id": "PZlhnZR99wt6"
    },
    {
      "cell_type": "markdown",
      "source": [
        "### Treating the outliers"
      ],
      "metadata": {
        "id": "8kHl3IuS9wt6"
      },
      "id": "8kHl3IuS9wt6"
    },
    {
      "cell_type": "code",
      "source": [
        "mean = df['Principal Amount'].mean()\n",
        "median = df['Principal Amount'].median()\n",
        "df['Principal Amount'] = np.where(df['Principal Amount'] > median,mean, df['Principal Amount'])"
      ],
      "metadata": {
        "id": "QLIWveII9wt7"
      },
      "execution_count": 51,
      "outputs": [],
      "id": "QLIWveII9wt7"
    },
    {
      "cell_type": "code",
      "source": [
        "mean = df['New Money'].mean()\n",
        "median = df['New Money'].median()\n",
        "df['New Money'] = np.where(df['New Money'] > median,mean, df['New Money'])"
      ],
      "metadata": {
        "id": "dqKy7sY89wt7"
      },
      "execution_count": 52,
      "outputs": [],
      "id": "dqKy7sY89wt7"
    },
    {
      "cell_type": "code",
      "source": [
        "mean = df['Refunding Amount'].mean()\n",
        "median = df['Refunding Amount'].median()\n",
        "df['Refunding Amount'] = np.where(df['Refunding Amount'] > median,mean, df['Refunding Amount'])"
      ],
      "metadata": {
        "id": "iSWAQrvW9wt7"
      },
      "execution_count": 53,
      "outputs": [],
      "id": "iSWAQrvW9wt7"
    },
    {
      "cell_type": "code",
      "source": [
        "mean = df['Issue Costs Pct of Principal Amt'].mean()\n",
        "median = df['Issue Costs Pct of Principal Amt'].median()\n",
        "df['Issue Costs Pct of Principal Amt'] = np.where(df['Issue Costs Pct of Principal Amt'] > median,mean, df['Issue Costs Pct of Principal Amt'])"
      ],
      "metadata": {
        "id": "rAUO5Hk09wt7"
      },
      "execution_count": 54,
      "outputs": [],
      "id": "rAUO5Hk09wt7"
    },
    {
      "cell_type": "code",
      "source": [
        "mean = df['Total Issuance Costs'].mean()\n",
        "median = df['Total Issuance Costs'].median()\n",
        "df['Total Issuance Costs'] = np.where(df['Total Issuance Costs'] > median,mean, df['Total Issuance Costs'])"
      ],
      "metadata": {
        "id": "z8zfpq4X9wt8"
      },
      "execution_count": 55,
      "outputs": [],
      "id": "z8zfpq4X9wt8"
    },
    {
      "cell_type": "code",
      "source": [
        "plt.figure(figsize=(30,30))\n",
        "plt.subplot(4,2,1)\n",
        "sns.boxplot(df[\"Principal Amount\"])\n",
        "plt.subplot(4,2,2)\n",
        "sns.boxplot(df[\"New Money\"])\n",
        "plt.subplot(4,2,3)\n",
        "sns.boxplot(df[\"Refunding Amount\"])\n"
      ],
      "metadata": {
        "colab": {
          "base_uri": "https://localhost:8080/",
          "height": 808
        },
        "id": "D-tuYnaU9wt8",
        "outputId": "3cf48cc0-141a-4e64-8a4a-f456b99435fd"
      },
      "execution_count": 56,
      "outputs": [
        {
          "output_type": "execute_result",
          "data": {
            "text/plain": [
              "<matplotlib.axes._subplots.AxesSubplot at 0x7ff1996b6970>"
            ]
          },
          "metadata": {},
          "execution_count": 56
        },
        {
          "output_type": "display_data",
          "data": {
            "text/plain": [
              "<Figure size 2160x2160 with 3 Axes>"
            ],
            "image/png": "[encoded data removed]"
          },
          "metadata": {
            "needs_background": "light"
          }
        }
      ],
      "id": "D-tuYnaU9wt8"
    },
    {
      "cell_type": "code",
      "source": [
        "plt.figure(figsize=(30,30))\n",
        "\n",
        "\n",
        "plt.subplot(2,2,3)\n",
        "sns.boxplot(df[\"Issue Costs Pct of Principal Amt\"])\n",
        "plt.subplot(2,2,4)\n",
        "sns.boxplot(df[\"Total Issuance Costs\"])"
      ],
      "metadata": {
        "colab": {
          "base_uri": "https://localhost:8080/",
          "height": 772
        },
        "id": "6ckXhrwZ9wt8",
        "outputId": "d10b6b57-2d8a-4d42-9580-ac8063172fb1"
      },
      "execution_count": 57,
      "outputs": [
        {
          "output_type": "execute_result",
          "data": {
            "text/plain": [
              "<matplotlib.axes._subplots.AxesSubplot at 0x7ff1995fd130>"
            ]
          },
          "metadata": {},
          "execution_count": 57
        },
        {
          "output_type": "display_data",
          "data": {
            "text/plain": [
              "<Figure size 2160x2160 with 2 Axes>"
            ],
            "image/png": "[encoded data removed]"
          },
          "metadata": {
            "needs_background": "light"
          }
        }
      ],
      "id": "6ckXhrwZ9wt8"
    },
    {
      "cell_type": "markdown",
      "source": [
        "### AS we can see that the 4 5 6 graphs are showing outliers on the tail of the barplot its reason is as followes:\n",
        "It means that they are relatively high values compared to the rest of the data.\n",
        "\n",
        "so we will use quantile method to remove the tail outliers\n"
      ],
      "metadata": {
        "id": "CQI2mG-89wt9"
      },
      "id": "CQI2mG-89wt9"
    },
    {
      "cell_type": "markdown",
      "source": [
        "## As we can see that the data is clean and we can proceed towards visualization part "
      ],
      "metadata": {
        "id": "p5m3pcUv9wt9"
      },
      "id": "p5m3pcUv9wt9"
    },
    {
      "cell_type": "markdown",
      "source": [
        "# data visualization"
      ],
      "metadata": {
        "id": "u2nNz0ms9wt-"
      },
      "id": "u2nNz0ms9wt-"
    },
    {
      "cell_type": "code",
      "source": [
        "sns.pairplot(df)"
      ],
      "metadata": {
        "colab": {
          "base_uri": "https://localhost:8080/",
          "height": 920
        },
        "id": "GpYfL1St9wt-",
        "outputId": "9321bde0-b9f7-4845-9fed-dd5b1262bc43"
      },
      "execution_count": 58,
      "outputs": [
        {
          "output_type": "execute_result",
          "data": {
            "text/plain": [
              "<seaborn.axisgrid.PairGrid at 0x7ff19958fbe0>"
            ]
          },
          "metadata": {},
          "execution_count": 58
        },
        {
          "output_type": "display_data",
          "data": {
            "text/plain": [
              "<Figure size 900x900 with 30 Axes>"
            ],
            "image/png": "[encoded data removed]"
          },
          "metadata": {
            "needs_background": "light"
          }
        }
      ],
      "id": "GpYfL1St9wt-"
    },
    {
      "cell_type": "code",
      "source": [
        "plt.figure(figsize=(10,10))\n",
        "plt.subplot(2,2,1)\n",
        "sns.countplot(\"Issuance Documents\",hue=\"ADTR Report\",data=df)\n",
        "plt.subplot(2,2,2)\n",
        "sns.countplot(\"Issuance Documents\",hue=\"ADTR Reportable\",data=df)\n",
        "\n",
        "\n"
      ],
      "metadata": {
        "colab": {
          "base_uri": "https://localhost:8080/",
          "height": 326
        },
        "id": "JvCVso599wt_",
        "outputId": "d7bf3195-7f00-49c6-90e7-5234d2fd2cea"
      },
      "execution_count": 59,
      "outputs": [
        {
          "output_type": "execute_result",
          "data": {
            "text/plain": [
              "<matplotlib.axes._subplots.AxesSubplot at 0x7ff19a70cf40>"
            ]
          },
          "metadata": {},
          "execution_count": 59
        },
        {
          "output_type": "display_data",
          "data": {
            "text/plain": [
              "<Figure size 720x720 with 2 Axes>"
            ],
            "image/png": "[encoded data removed]"
          },
          "metadata": {
            "needs_background": "light"
          }
        }
      ],
      "id": "JvCVso599wt_"
    },
    {
      "cell_type": "markdown",
      "source": [
        "## insights: \n",
        "\n",
        "1.  As we can see that the or organization who submited but not reported for ADTR report(annual debt transparancy report) is higher as compared to the organization who submited the report.\n",
        "\n",
        "   this means that investers can only invest in 150 bonds for now as per the data provided for now. for non reported bonds the credit      ratings will not be available for now as per data\n",
        "\n",
        "   for pending and non submitted non reported organizations are high in no.\n",
        "   \n",
        "\n",
        "\n",
        "\n",
        "2.  As we can see that the no. organizations whose issuance docs are submited but ADTR is not repotable are higher as compared to reportable ADTR organizations this means there are only 150 bonds in which investers can invest other than that all are high risk bonds for now\n",
        "\n",
        "\n",
        "3. as we can see that the organization who have submited there issuance docs. but are not reportable will be able to report for ADTR by next fiscal year same goes for pending and non-submited \n",
        "\n"
      ],
      "metadata": {
        "id": "scCOPCCH9wt_"
      },
      "id": "scCOPCCH9wt_"
    },
    {
      "cell_type": "code",
      "source": [
        "plt.figure(figsize=(10,10))\n",
        "plt.subplot(2,2,1)\n",
        "sns.countplot(df[\"MKR Authority\"])\n",
        "plt.subplot(2,2,2)\n",
        "sns.countplot(df[\"Local Obligation\"])"
      ],
      "metadata": {
        "colab": {
          "base_uri": "https://localhost:8080/",
          "height": 326
        },
        "id": "kRlOrc__9wuA",
        "outputId": "3b13b491-3b0d-4ae9-c72e-4fcb2aa7a5d8"
      },
      "execution_count": 60,
      "outputs": [
        {
          "output_type": "execute_result",
          "data": {
            "text/plain": [
              "<matplotlib.axes._subplots.AxesSubplot at 0x7ff19a902700>"
            ]
          },
          "metadata": {},
          "execution_count": 60
        },
        {
          "output_type": "display_data",
          "data": {
            "text/plain": [
              "<Figure size 720x720 with 2 Axes>"
            ],
            "image/png": "[encoded data removed]"
          },
          "metadata": {
            "needs_background": "light"
          }
        }
      ],
      "id": "kRlOrc__9wuA"
    },
    {
      "cell_type": "markdown",
      "source": [
        "# insights:\n",
        "\n",
        "1. MKR : Maker typically refers to a corporation, government, or other organization that seeks to raise capital by issuing debt      securities in the form of bonds. The Maker uses the proceeds from the sale of bonds to fund its operations, pay off   existing    debt, or for other purposes.\n",
        "\n",
        "   MKR authority signifies the issuar of the bond\n",
        "\n",
        "   as we can see that the rate of no is higher as compared to yes this means investing in the for now is highly volatile as the data because issuer is not a Municipal Bond insurer or Municipal Bond Rating Agency.\n",
        "   \n",
        "   \n",
        "2. As we can see in second graph in local obligation is high whic means that the bond is not tied to a kern county local area or jurisdiction, but rather has a broader, national reach."
      ],
      "metadata": {
        "id": "J2tLeMl79wuA"
      },
      "id": "J2tLeMl79wuA"
    },
    {
      "cell_type": "code",
      "source": [
        "plt.figure(figsize=(20,10))\n",
        "plt.subplot(2,2,1)\n",
        "sns.countplot(df[\"Issuer Group\"])\n",
        "plt.subplot(2,2,2)\n",
        "sns.countplot(df[\"Issuer Group\"])"
      ],
      "metadata": {
        "scrolled": true,
        "colab": {
          "base_uri": "https://localhost:8080/",
          "height": 326
        },
        "id": "4NbwZ0nJ9wuA",
        "outputId": "d389e422-c458-4836-d0ea-553ae568659e"
      },
      "execution_count": 61,
      "outputs": [
        {
          "output_type": "execute_result",
          "data": {
            "text/plain": [
              "<matplotlib.axes._subplots.AxesSubplot at 0x7ff19a790190>"
            ]
          },
          "metadata": {},
          "execution_count": 61
        },
        {
          "output_type": "display_data",
          "data": {
            "text/plain": [
              "<Figure size 1440x720 with 2 Axes>"
            ],
            "image/png": "[encoded data removed]"
          },
          "metadata": {
            "needs_background": "light"
          }
        }
      ],
      "id": "4NbwZ0nJ9wuA"
    },
    {
      "cell_type": "markdown",
      "source": [
        "# Insights:\n",
        "\n",
        "1. As we can see that the of schools in issuer group is higher as compared to government \n",
        "\n",
        "2. jpa & marks-ross is bond which inlude mutiple govenment project in single bond \n",
        "\n",
        "3. mello roos is a tax district in california which helps community project whith financing"
      ],
      "metadata": {
        "id": "gyg9qXVk9wuB"
      },
      "id": "gyg9qXVk9wuB"
    },
    {
      "cell_type": "code",
      "source": [
        "plt.figure(figsize=(50,10))\n",
        "sns.countplot(df[\"S and P Rating\"])"
      ],
      "metadata": {
        "colab": {
          "base_uri": "https://localhost:8080/",
          "height": 363
        },
        "id": "f5d9SF3E9wuB",
        "outputId": "daca8843-0657-47c0-ac80-fe2206b0572a"
      },
      "execution_count": 62,
      "outputs": [
        {
          "output_type": "execute_result",
          "data": {
            "text/plain": [
              "<matplotlib.axes._subplots.AxesSubplot at 0x7ff19a51f280>"
            ]
          },
          "metadata": {},
          "execution_count": 62
        },
        {
          "output_type": "display_data",
          "data": {
            "text/plain": [
              "<Figure size 3600x720 with 1 Axes>"
            ],
            "image/png": "[encoded data removed]"
          },
          "metadata": {
            "needs_background": "light"
          }
        }
      ],
      "id": "f5d9SF3E9wuB"
    },
    {
      "cell_type": "markdown",
      "source": [
        "# insights:\n",
        "\n",
        "1. As we can see that non rated organization are higher in no. . as we saw in the graph before most of the organization will be gettng their ADTR report next fiscal year\n",
        "\n",
        "2. But still the count of organizations with good ratings is high"
      ],
      "metadata": {
        "id": "bPr4By-49wuB"
      },
      "id": "bPr4By-49wuB"
    },
    {
      "cell_type": "code",
      "source": [
        "plt.figure(figsize=(50,10))\n",
        "sns.barplot(\"S and P Rating\",\"Principal Amount\",data=df,ci=True)\n"
      ],
      "metadata": {
        "colab": {
          "base_uri": "https://localhost:8080/",
          "height": 369
        },
        "id": "hf3p09nP9wuC",
        "outputId": "f66479bd-9dce-4763-a51d-965672067b24"
      },
      "execution_count": 63,
      "outputs": [
        {
          "output_type": "execute_result",
          "data": {
            "text/plain": [
              "<matplotlib.axes._subplots.AxesSubplot at 0x7ff19a373070>"
            ]
          },
          "metadata": {},
          "execution_count": 63
        },
        {
          "output_type": "display_data",
          "data": {
            "text/plain": [
              "<Figure size 3600x720 with 1 Axes>"
            ],
            "image/png": "[encoded data removed]"
          },
          "metadata": {
            "needs_background": "light"
          }
        }
      ],
      "id": "hf3p09nP9wuC"
    },
    {
      "cell_type": "markdown",
      "source": [
        "# insight:\n",
        "\n",
        "1. pricipal amount is properly distributed among all the organizations"
      ],
      "metadata": {
        "id": "4vHoaJZJ9wuC"
      },
      "id": "4vHoaJZJ9wuC"
    },
    {
      "cell_type": "code",
      "source": [
        "sns.countplot(\"CAB Flag\",data=df)"
      ],
      "metadata": {
        "scrolled": true,
        "colab": {
          "base_uri": "https://localhost:8080/",
          "height": 296
        },
        "id": "IznIBPfX9wuC",
        "outputId": "aa496676-c31b-47cd-af07-b30ea54f80c4"
      },
      "execution_count": 64,
      "outputs": [
        {
          "output_type": "execute_result",
          "data": {
            "text/plain": [
              "<matplotlib.axes._subplots.AxesSubplot at 0x7ff19a4ad820>"
            ]
          },
          "metadata": {},
          "execution_count": 64
        },
        {
          "output_type": "display_data",
          "data": {
            "text/plain": [
              "<Figure size 432x288 with 1 Axes>"
            ],
            "image/png": "[encoded data removed]"
          },
          "metadata": {
            "needs_background": "light"
          }
        }
      ],
      "id": "IznIBPfX9wuC"
    },
    {
      "cell_type": "markdown",
      "source": [
        "# insights:\n",
        "\n",
        "1. as we can see that the rate of no in CAB (call away bond) is higher as compared to yes\n",
        "   \n",
        "   whch means that in most of the bond issuer can not call or take the bond out even if the issuer have good cedit score \n",
        "   or issuer feels there is a financial risk in proceeding ahead\n"
      ],
      "metadata": {
        "id": "11AAaF4T9wuC"
      },
      "id": "11AAaF4T9wuC"
    },
    {
      "cell_type": "code",
      "source": [
        "plt.figure(figsize=(70,30))\n",
        "plt.subplot(2,2,1)\n",
        "sns.distplot(df[\"Principal Amount\"])\n",
        "plt.subplot(2,2,2)\n",
        "sns.distplot(df[\"Total Issuance Costs\"])\n",
        "plt.subplot(2,2,3)\n",
        "sns.histplot(df[\"S and P Rating\"],kde=True)\n"
      ],
      "metadata": {
        "colab": {
          "base_uri": "https://localhost:8080/",
          "height": 710
        },
        "id": "YczTaa6u9wuD",
        "outputId": "a500bb96-094a-4540-f163-6083274ce706"
      },
      "execution_count": 65,
      "outputs": [
        {
          "output_type": "execute_result",
          "data": {
            "text/plain": [
              "<matplotlib.axes._subplots.AxesSubplot at 0x7ff19883e2e0>"
            ]
          },
          "metadata": {},
          "execution_count": 65
        },
        {
          "output_type": "display_data",
          "data": {
            "text/plain": [
              "<Figure size 5040x2160 with 3 Axes>"
            ],
            "image/png": "[encoded data removed]"
          },
          "metadata": {
            "needs_background": "light"
          }
        }
      ],
      "id": "YczTaa6u9wuD"
    },
    {
      "cell_type": "markdown",
      "source": [
        "### As we can see taht the data is not normally distributed and it is having a huge range seo we have to standardize it "
      ],
      "metadata": {
        "id": "T0F_6Pof9wuD"
      },
      "id": "T0F_6Pof9wuD"
    },
    {
      "cell_type": "markdown",
      "source": [
        "# encoding"
      ],
      "metadata": {
        "id": "LkwylwqG9wuD"
      },
      "id": "LkwylwqG9wuD"
    },
    {
      "cell_type": "code",
      "source": [
        "le=LabelEncoder()\n",
        "df[\"Issuance Documents\"]=le.fit_transform(df[\"Issuance Documents\"])\n",
        "df[\"Sold Status\"]=le.fit_transform(df[\"Sold Status\"])\n",
        "df[\"ADTR Report\"]=le.fit_transform(df[\"ADTR Report\"])\n",
        "df[\"ADTR Filing Status\"]=le.fit_transform(df[\"ADTR Filing Status\"])\n",
        "df[\"ADTR Reportable\"]=le.fit_transform(df[\"ADTR Reportable\"])\n",
        "df[\"Sold Status\"]=le.fit_transform(df[\"Sold Status\"])\n",
        "\n",
        "df[\"ADTR Last Reported Year\"]=le.fit_transform(df[\"ADTR Last Reported Year\"])\n",
        "df[\"Debt Policy\"]=le.fit_transform(df[\"Debt Policy\"])\n",
        "df[\"Sold Status\"]=le.fit_transform(df[\"Sold Status\"])\n",
        "df[\"MKR Authority\"]=le.fit_transform(df[\"MKR Authority\"])\n",
        "df[\"Local Obligation\"]=le.fit_transform(df[\"Local Obligation\"])\n",
        "df[\"Issuer Group\"]=le.fit_transform(df[\"Issuer Group\"])\n",
        "df[\"Issuer Type\"]=le.fit_transform(df[\"Issuer Type\"])\n",
        "df[\"Environmental/Social Impact Bonds\"]=le.fit_transform(df[\"Environmental/Social Impact Bonds\"])\n",
        "df[\"Debt Type\"]=le.fit_transform(df[\"Debt Type\"])\n",
        "\n",
        "df[\"Purpose\"]=le.fit_transform(df[\"Purpose\"])\n",
        "df[\"Source of Repayment\"]=le.fit_transform(df[\"Source of Repayment\"])\n",
        "df[\"Interest Type\"]=le.fit_transform(df[\"Interest Type\"])\n",
        "df[\"Other Interest Type\"]=le.fit_transform(df[\"Other Interest Type\"])\n",
        "df[\"Federally Taxable\"]=le.fit_transform(df[\"Federally Taxable\"])\n",
        "\n",
        "df[\"CAB Flag\"]=le.fit_transform(df[\"CAB Flag\"])\n",
        "df[\"S and P Rating\"]=le.fit_transform(df[\"S and P Rating\"])\n",
        "df[\"Moody Rating\"]=le.fit_transform(df[\"Moody Rating\"])\n",
        "df[\"Guarantor Flag\"]=le.fit_transform(df[\"Guarantor Flag\"])\n",
        "df[\"Guarantor\"]=le.fit_transform(df[\"Guarantor\"])\n",
        "df[\"Sale Type (Comp/Neg)\"]=le.fit_transform(df[\"Sale Type (Comp/Neg)\"])\n",
        "df[\"Private Placement Flag\"]=le.fit_transform(df[\"Private Placement Flag\"])\n"
      ],
      "metadata": {
        "id": "8Nb0QI0-9wuE"
      },
      "execution_count": 66,
      "outputs": [],
      "id": "8Nb0QI0-9wuE"
    },
    {
      "cell_type": "code",
      "source": [
        "ohe=pd.get_dummies(df,columns=[\"Underwriter\",\"Total Issuance Costs\",\"Disclosure Counsel\",\"Bond Counsel\",\"Financial Advisor\",\"Placement Agent\",\"Purchaser\",\"Final Maturity Date\",\"First Optional Call Date\"])\n",
        "df=ohe\n",
        "df"
      ],
      "metadata": {
        "scrolled": true,
        "colab": {
          "base_uri": "https://localhost:8080/",
          "height": 575
        },
        "id": "7HPUhr159wuE",
        "outputId": "3a2523a9-6a37-4f3a-945a-ac422e952324"
      },
      "execution_count": 67,
      "outputs": [
        {
          "output_type": "execute_result",
          "data": {
            "text/plain": [
              "      Issuance Documents  Sold Status  ADTR Report  ADTR Filing Status  \\\n",
              "0                      2            1            2                   3   \n",
              "1                      1            1            0                   1   \n",
              "2                      2            1            2                   3   \n",
              "3                      2            1            0                   1   \n",
              "4                      1            1            0                   1   \n",
              "...                  ...          ...          ...                 ...   \n",
              "1195                   2            1            0                   1   \n",
              "1196                   1            1            0                   1   \n",
              "1197                   1            1            0                   1   \n",
              "1198                   2            1            0                   1   \n",
              "1199                   2            1            0                   1   \n",
              "\n",
              "      ADTR Reportable  ADTR Last Reported Year  Debt Policy  MKR Authority  \\\n",
              "0                   1                        3            1              0   \n",
              "1                   0                        3            1              0   \n",
              "2                   1                        3            1              0   \n",
              "3                   0                        3            1              0   \n",
              "4                   0                        3            1              0   \n",
              "...               ...                      ...          ...            ...   \n",
              "1195                0                        3            1              0   \n",
              "1196                0                        3            1              0   \n",
              "1197                0                        3            1              0   \n",
              "1198                0                        3            1              0   \n",
              "1199                0                        3            1              0   \n",
              "\n",
              "      Local Obligation  Issuer Group  ...  \\\n",
              "0                    0             3  ...   \n",
              "1                    0             3  ...   \n",
              "2                    0             3  ...   \n",
              "3                    0             0  ...   \n",
              "4                    0             1  ...   \n",
              "...                ...           ...  ...   \n",
              "1195                 0             3  ...   \n",
              "1196                 0             3  ...   \n",
              "1197                 0             0  ...   \n",
              "1198                 0             5  ...   \n",
              "1199                 0             3  ...   \n",
              "\n",
              "      First Optional Call Date_12-01-2022 00:00  \\\n",
              "0                                             0   \n",
              "1                                             0   \n",
              "2                                             0   \n",
              "3                                             0   \n",
              "4                                             0   \n",
              "...                                         ...   \n",
              "1195                                          0   \n",
              "1196                                          0   \n",
              "1197                                          0   \n",
              "1198                                          0   \n",
              "1199                                          0   \n",
              "\n",
              "      First Optional Call Date_12-01-2024 00:00  \\\n",
              "0                                             0   \n",
              "1                                             0   \n",
              "2                                             0   \n",
              "3                                             0   \n",
              "4                                             0   \n",
              "...                                         ...   \n",
              "1195                                          0   \n",
              "1196                                          0   \n",
              "1197                                          0   \n",
              "1198                                          0   \n",
              "1199                                          0   \n",
              "\n",
              "      First Optional Call Date_12-01-2025 00:00  \\\n",
              "0                                             0   \n",
              "1                                             0   \n",
              "2                                             0   \n",
              "3                                             0   \n",
              "4                                             0   \n",
              "...                                         ...   \n",
              "1195                                          0   \n",
              "1196                                          0   \n",
              "1197                                          0   \n",
              "1198                                          0   \n",
              "1199                                          0   \n",
              "\n",
              "      First Optional Call Date_12-01-2027 00:00  \\\n",
              "0                                             0   \n",
              "1                                             0   \n",
              "2                                             0   \n",
              "3                                             0   \n",
              "4                                             0   \n",
              "...                                         ...   \n",
              "1195                                          0   \n",
              "1196                                          0   \n",
              "1197                                          0   \n",
              "1198                                          0   \n",
              "1199                                          0   \n",
              "\n",
              "      First Optional Call Date_12-01-2030 00:00  \\\n",
              "0                                             0   \n",
              "1                                             0   \n",
              "2                                             0   \n",
              "3                                             0   \n",
              "4                                             0   \n",
              "...                                         ...   \n",
              "1195                                          0   \n",
              "1196                                          0   \n",
              "1197                                          0   \n",
              "1198                                          0   \n",
              "1199                                          0   \n",
              "\n",
              "      First Optional Call Date_12-08-2020 00:00  \\\n",
              "0                                             0   \n",
              "1                                             0   \n",
              "2                                             0   \n",
              "3                                             0   \n",
              "4                                             0   \n",
              "...                                         ...   \n",
              "1195                                          0   \n",
              "1196                                          0   \n",
              "1197                                          0   \n",
              "1198                                          0   \n",
              "1199                                          0   \n",
              "\n",
              "      First Optional Call Date_12/15/2009 12:00:00 AM  \\\n",
              "0                                                   0   \n",
              "1                                                   0   \n",
              "2                                                   0   \n",
              "3                                                   0   \n",
              "4                                                   0   \n",
              "...                                               ...   \n",
              "1195                                                0   \n",
              "1196                                                0   \n",
              "1197                                                0   \n",
              "1198                                                0   \n",
              "1199                                                0   \n",
              "\n",
              "      First Optional Call Date_12/22/2016 12:00:00 AM  \\\n",
              "0                                                   0   \n",
              "1                                                   0   \n",
              "2                                                   0   \n",
              "3                                                   0   \n",
              "4                                                   0   \n",
              "...                                               ...   \n",
              "1195                                                0   \n",
              "1196                                                0   \n",
              "1197                                                0   \n",
              "1198                                                0   \n",
              "1199                                                0   \n",
              "\n",
              "      First Optional Call Date_12/23/2008 12:00:00 AM  \\\n",
              "0                                                   0   \n",
              "1                                                   0   \n",
              "2                                                   0   \n",
              "3                                                   0   \n",
              "4                                                   0   \n",
              "...                                               ...   \n",
              "1195                                                0   \n",
              "1196                                                0   \n",
              "1197                                                0   \n",
              "1198                                                0   \n",
              "1199                                                0   \n",
              "\n",
              "      First Optional Call Date_12/26/2019 12:00:00 AM  \n",
              "0                                                   0  \n",
              "1                                                   0  \n",
              "2                                                   0  \n",
              "3                                                   0  \n",
              "4                                                   0  \n",
              "...                                               ...  \n",
              "1195                                                0  \n",
              "1196                                                0  \n",
              "1197                                                0  \n",
              "1198                                                0  \n",
              "1199                                                0  \n",
              "\n",
              "[1198 rows x 1302 columns]"
            ],
            "text/html": [
              "\n",
              "  <div id=\"df-25cea9f2-0c9c-4c35-badf-b4d1f537c45e\">\n",
              "    <div class=\"colab-df-container\">\n",
              "      <div>\n",
              "<style scoped>\n",
              "    .dataframe tbody tr th:only-of-type {\n",
              "        vertical-align: middle;\n",
              "    }\n",
              "\n",
              "    .dataframe tbody tr th {\n",
              "        vertical-align: top;\n",
              "    }\n",
              "\n",
              "    .dataframe thead th {\n",
              "        text-align: right;\n",
              "    }\n",
              "</style>\n",
              "<table border=\"1\" class=\"dataframe\">\n",
              "  <thead>\n",
              "    <tr style=\"text-align: right;\">\n",
              "      <th></th>\n",
              "      <th>Issuance Documents</th>\n",
              "      <th>Sold Status</th>\n",
              "      <th>ADTR Report</th>\n",
              "      <th>ADTR Filing Status</th>\n",
              "      <th>ADTR Reportable</th>\n",
              "      <th>ADTR Last Reported Year</th>\n",
              "      <th>Debt Policy</th>\n",
              "      <th>MKR Authority</th>\n",
              "      <th>Local Obligation</th>\n",
              "      <th>Issuer Group</th>\n",
              "      <th>...</th>\n",
              "      <th>First Optional Call Date_12-01-2022 00:00</th>\n",
              "      <th>First Optional Call Date_12-01-2024 00:00</th>\n",
              "      <th>First Optional Call Date_12-01-2025 00:00</th>\n",
              "      <th>First Optional Call Date_12-01-2027 00:00</th>\n",
              "      <th>First Optional Call Date_12-01-2030 00:00</th>\n",
              "      <th>First Optional Call Date_12-08-2020 00:00</th>\n",
              "      <th>First Optional Call Date_12/15/2009 12:00:00 AM</th>\n",
              "      <th>First Optional Call Date_12/22/2016 12:00:00 AM</th>\n",
              "      <th>First Optional Call Date_12/23/2008 12:00:00 AM</th>\n",
              "      <th>First Optional Call Date_12/26/2019 12:00:00 AM</th>\n",
              "    </tr>\n",
              "  </thead>\n",
              "  <tbody>\n",
              "    <tr>\n",
              "      <th>0</th>\n",
              "      <td>2</td>\n",
              "      <td>1</td>\n",
              "      <td>2</td>\n",
              "      <td>3</td>\n",
              "      <td>1</td>\n",
              "      <td>3</td>\n",
              "      <td>1</td>\n",
              "      <td>0</td>\n",
              "      <td>0</td>\n",
              "      <td>3</td>\n",
              "      <td>...</td>\n",
              "      <td>0</td>\n",
              "      <td>0</td>\n",
              "      <td>0</td>\n",
              "      <td>0</td>\n",
              "      <td>0</td>\n",
              "      <td>0</td>\n",
              "      <td>0</td>\n",
              "      <td>0</td>\n",
              "      <td>0</td>\n",
              "      <td>0</td>\n",
              "    </tr>\n",
              "    <tr>\n",
              "      <th>1</th>\n",
              "      <td>1</td>\n",
              "      <td>1</td>\n",
              "      <td>0</td>\n",
              "      <td>1</td>\n",
              "      <td>0</td>\n",
              "      <td>3</td>\n",
              "      <td>1</td>\n",
              "      <td>0</td>\n",
              "      <td>0</td>\n",
              "      <td>3</td>\n",
              "      <td>...</td>\n",
              "      <td>0</td>\n",
              "      <td>0</td>\n",
              "      <td>0</td>\n",
              "      <td>0</td>\n",
              "      <td>0</td>\n",
              "      <td>0</td>\n",
              "      <td>0</td>\n",
              "      <td>0</td>\n",
              "      <td>0</td>\n",
              "      <td>0</td>\n",
              "    </tr>\n",
              "    <tr>\n",
              "      <th>2</th>\n",
              "      <td>2</td>\n",
              "      <td>1</td>\n",
              "      <td>2</td>\n",
              "      <td>3</td>\n",
              "      <td>1</td>\n",
              "      <td>3</td>\n",
              "      <td>1</td>\n",
              "      <td>0</td>\n",
              "      <td>0</td>\n",
              "      <td>3</td>\n",
              "      <td>...</td>\n",
              "      <td>0</td>\n",
              "      <td>0</td>\n",
              "      <td>0</td>\n",
              "      <td>0</td>\n",
              "      <td>0</td>\n",
              "      <td>0</td>\n",
              "      <td>0</td>\n",
              "      <td>0</td>\n",
              "      <td>0</td>\n",
              "      <td>0</td>\n",
              "    </tr>\n",
              "    <tr>\n",
              "      <th>3</th>\n",
              "      <td>2</td>\n",
              "      <td>1</td>\n",
              "      <td>0</td>\n",
              "      <td>1</td>\n",
              "      <td>0</td>\n",
              "      <td>3</td>\n",
              "      <td>1</td>\n",
              "      <td>0</td>\n",
              "      <td>0</td>\n",
              "      <td>0</td>\n",
              "      <td>...</td>\n",
              "      <td>0</td>\n",
              "      <td>0</td>\n",
              "      <td>0</td>\n",
              "      <td>0</td>\n",
              "      <td>0</td>\n",
              "      <td>0</td>\n",
              "      <td>0</td>\n",
              "      <td>0</td>\n",
              "      <td>0</td>\n",
              "      <td>0</td>\n",
              "    </tr>\n",
              "    <tr>\n",
              "      <th>4</th>\n",
              "      <td>1</td>\n",
              "      <td>1</td>\n",
              "      <td>0</td>\n",
              "      <td>1</td>\n",
              "      <td>0</td>\n",
              "      <td>3</td>\n",
              "      <td>1</td>\n",
              "      <td>0</td>\n",
              "      <td>0</td>\n",
              "      <td>1</td>\n",
              "      <td>...</td>\n",
              "      <td>0</td>\n",
              "      <td>0</td>\n",
              "      <td>0</td>\n",
              "      <td>0</td>\n",
              "      <td>0</td>\n",
              "      <td>0</td>\n",
              "      <td>0</td>\n",
              "      <td>0</td>\n",
              "      <td>0</td>\n",
              "      <td>0</td>\n",
              "    </tr>\n",
              "    <tr>\n",
              "      <th>...</th>\n",
              "      <td>...</td>\n",
              "      <td>...</td>\n",
              "      <td>...</td>\n",
              "      <td>...</td>\n",
              "      <td>...</td>\n",
              "      <td>...</td>\n",
              "      <td>...</td>\n",
              "      <td>...</td>\n",
              "      <td>...</td>\n",
              "      <td>...</td>\n",
              "      <td>...</td>\n",
              "      <td>...</td>\n",
              "      <td>...</td>\n",
              "      <td>...</td>\n",
              "      <td>...</td>\n",
              "      <td>...</td>\n",
              "      <td>...</td>\n",
              "      <td>...</td>\n",
              "      <td>...</td>\n",
              "      <td>...</td>\n",
              "      <td>...</td>\n",
              "    </tr>\n",
              "    <tr>\n",
              "      <th>1195</th>\n",
              "      <td>2</td>\n",
              "      <td>1</td>\n",
              "      <td>0</td>\n",
              "      <td>1</td>\n",
              "      <td>0</td>\n",
              "      <td>3</td>\n",
              "      <td>1</td>\n",
              "      <td>0</td>\n",
              "      <td>0</td>\n",
              "      <td>3</td>\n",
              "      <td>...</td>\n",
              "      <td>0</td>\n",
              "      <td>0</td>\n",
              "      <td>0</td>\n",
              "      <td>0</td>\n",
              "      <td>0</td>\n",
              "      <td>0</td>\n",
              "      <td>0</td>\n",
              "      <td>0</td>\n",
              "      <td>0</td>\n",
              "      <td>0</td>\n",
              "    </tr>\n",
              "    <tr>\n",
              "      <th>1196</th>\n",
              "      <td>1</td>\n",
              "      <td>1</td>\n",
              "      <td>0</td>\n",
              "      <td>1</td>\n",
              "      <td>0</td>\n",
              "      <td>3</td>\n",
              "      <td>1</td>\n",
              "      <td>0</td>\n",
              "      <td>0</td>\n",
              "      <td>3</td>\n",
              "      <td>...</td>\n",
              "      <td>0</td>\n",
              "      <td>0</td>\n",
              "      <td>0</td>\n",
              "      <td>0</td>\n",
              "      <td>0</td>\n",
              "      <td>0</td>\n",
              "      <td>0</td>\n",
              "      <td>0</td>\n",
              "      <td>0</td>\n",
              "      <td>0</td>\n",
              "    </tr>\n",
              "    <tr>\n",
              "      <th>1197</th>\n",
              "      <td>1</td>\n",
              "      <td>1</td>\n",
              "      <td>0</td>\n",
              "      <td>1</td>\n",
              "      <td>0</td>\n",
              "      <td>3</td>\n",
              "      <td>1</td>\n",
              "      <td>0</td>\n",
              "      <td>0</td>\n",
              "      <td>0</td>\n",
              "      <td>...</td>\n",
              "      <td>0</td>\n",
              "      <td>0</td>\n",
              "      <td>0</td>\n",
              "      <td>0</td>\n",
              "      <td>0</td>\n",
              "      <td>0</td>\n",
              "      <td>0</td>\n",
              "      <td>0</td>\n",
              "      <td>0</td>\n",
              "      <td>0</td>\n",
              "    </tr>\n",
              "    <tr>\n",
              "      <th>1198</th>\n",
              "      <td>2</td>\n",
              "      <td>1</td>\n",
              "      <td>0</td>\n",
              "      <td>1</td>\n",
              "      <td>0</td>\n",
              "      <td>3</td>\n",
              "      <td>1</td>\n",
              "      <td>0</td>\n",
              "      <td>0</td>\n",
              "      <td>5</td>\n",
              "      <td>...</td>\n",
              "      <td>0</td>\n",
              "      <td>0</td>\n",
              "      <td>0</td>\n",
              "      <td>0</td>\n",
              "      <td>0</td>\n",
              "      <td>0</td>\n",
              "      <td>0</td>\n",
              "      <td>0</td>\n",
              "      <td>0</td>\n",
              "      <td>0</td>\n",
              "    </tr>\n",
              "    <tr>\n",
              "      <th>1199</th>\n",
              "      <td>2</td>\n",
              "      <td>1</td>\n",
              "      <td>0</td>\n",
              "      <td>1</td>\n",
              "      <td>0</td>\n",
              "      <td>3</td>\n",
              "      <td>1</td>\n",
              "      <td>0</td>\n",
              "      <td>0</td>\n",
              "      <td>3</td>\n",
              "      <td>...</td>\n",
              "      <td>0</td>\n",
              "      <td>0</td>\n",
              "      <td>0</td>\n",
              "      <td>0</td>\n",
              "      <td>0</td>\n",
              "      <td>0</td>\n",
              "      <td>0</td>\n",
              "      <td>0</td>\n",
              "      <td>0</td>\n",
              "      <td>0</td>\n",
              "    </tr>\n",
              "  </tbody>\n",
              "</table>\n",
              "<p>1198 rows × 1302 columns</p>\n",
              "</div>\n",
              "      <button class=\"colab-df-convert\" onclick=\"convertToInteractive('df-25cea9f2-0c9c-4c35-badf-b4d1f537c45e')\"\n",
              "              title=\"Convert this dataframe to an interactive table.\"\n",
              "              style=\"display:none;\">\n",
              "        \n",
              "  <svg xmlns=\"http://www.w3.org/2000/svg\" height=\"24px\"viewBox=\"0 0 24 24\"\n",
              "       width=\"24px\">\n",
              "    <path d=\"M0 0h24v24H0V0z\" fill=\"none\"/>\n",
              "    <path d=\"M18.56 5.44l.94 2.06.94-2.06 2.06-.94-2.06-.94-.94-2.06-.94 2.06-2.06.94zm-11 1L8.5 8.5l.94-2.06 2.06-.94-2.06-.94L8.5 2.5l-.94 2.06-2.06.94zm10 10l.94 2.06.94-2.06 2.06-.94-2.06-.94-.94-2.06-.94 2.06-2.06.94z\"/><path d=\"M17.41 7.96l-1.37-1.37c-.4-.4-.92-.59-1.43-.59-.52 0-1.04.2-1.43.59L10.3 9.45l-7.72 7.72c-.78.78-.78 2.05 0 2.83L4 21.41c.39.39.9.59 1.41.59.51 0 1.02-.2 1.41-.59l7.78-7.78 2.81-2.81c.8-.78.8-2.07 0-2.86zM5.41 20L4 18.59l7.72-7.72 1.47 1.35L5.41 20z\"/>\n",
              "  </svg>\n",
              "      </button>\n",
              "      \n",
              "  <style>\n",
              "    .colab-df-container {\n",
              "      display:flex;\n",
              "      flex-wrap:wrap;\n",
              "      gap: 12px;\n",
              "    }\n",
              "\n",
              "    .colab-df-convert {\n",
              "      background-color: #E8F0FE;\n",
              "      border: none;\n",
              "      border-radius: 50%;\n",
              "      cursor: pointer;\n",
              "      display: none;\n",
              "      fill: #1967D2;\n",
              "      height: 32px;\n",
              "      padding: 0 0 0 0;\n",
              "      width: 32px;\n",
              "    }\n",
              "\n",
              "    .colab-df-convert:hover {\n",
              "      background-color: #E2EBFA;\n",
              "      box-shadow: 0px 1px 2px rgba(60, 64, 67, 0.3), 0px 1px 3px 1px rgba(60, 64, 67, 0.15);\n",
              "      fill: #174EA6;\n",
              "    }\n",
              "\n",
              "    [theme=dark] .colab-df-convert {\n",
              "      background-color: #3B4455;\n",
              "      fill: #D2E3FC;\n",
              "    }\n",
              "\n",
              "    [theme=dark] .colab-df-convert:hover {\n",
              "      background-color: #434B5C;\n",
              "      box-shadow: 0px 1px 3px 1px rgba(0, 0, 0, 0.15);\n",
              "      filter: drop-shadow(0px 1px 2px rgba(0, 0, 0, 0.3));\n",
              "      fill: #FFFFFF;\n",
              "    }\n",
              "  </style>\n",
              "\n",
              "      <script>\n",
              "        const buttonEl =\n",
              "          document.querySelector('#df-25cea9f2-0c9c-4c35-badf-b4d1f537c45e button.colab-df-convert');\n",
              "        buttonEl.style.display =\n",
              "          google.colab.kernel.accessAllowed ? 'block' : 'none';\n",
              "\n",
              "        async function convertToInteractive(key) {\n",
              "          const element = document.querySelector('#df-25cea9f2-0c9c-4c35-badf-b4d1f537c45e');\n",
              "          const dataTable =\n",
              "            await google.colab.kernel.invokeFunction('convertToInteractive',\n",
              "                                                     [key], {});\n",
              "          if (!dataTable) return;\n",
              "\n",
              "          const docLinkHtml = 'Like what you see? Visit the ' +\n",
              "            '<a target=\"_blank\" href=https://colab.research.google.com/notebooks/data_table.ipynb>data table notebook</a>'\n",
              "            + ' to learn more about interactive tables.';\n",
              "          element.innerHTML = '';\n",
              "          dataTable['output_type'] = 'display_data';\n",
              "          await google.colab.output.renderOutput(dataTable, element);\n",
              "          const docLink = document.createElement('div');\n",
              "          docLink.innerHTML = docLinkHtml;\n",
              "          element.appendChild(docLink);\n",
              "        }\n",
              "      </script>\n",
              "    </div>\n",
              "  </div>\n",
              "  "
            ]
          },
          "metadata": {},
          "execution_count": 67
        }
      ],
      "id": "7HPUhr159wuE"
    },
    {
      "cell_type": "code",
      "source": [
        "df.nunique()"
      ],
      "metadata": {
        "scrolled": true,
        "colab": {
          "base_uri": "https://localhost:8080/"
        },
        "id": "pMcXSs8w9wuE",
        "outputId": "1f45b40e-996f-42ed-ed18-e4a5d6e31525"
      },
      "execution_count": 68,
      "outputs": [
        {
          "output_type": "execute_result",
          "data": {
            "text/plain": [
              "Issuance Documents                                 3\n",
              "Sold Status                                        2\n",
              "ADTR Report                                        3\n",
              "ADTR Filing Status                                 4\n",
              "ADTR Reportable                                    2\n",
              "                                                  ..\n",
              "First Optional Call Date_12-08-2020 00:00          2\n",
              "First Optional Call Date_12/15/2009 12:00:00 AM    2\n",
              "First Optional Call Date_12/22/2016 12:00:00 AM    2\n",
              "First Optional Call Date_12/23/2008 12:00:00 AM    2\n",
              "First Optional Call Date_12/26/2019 12:00:00 AM    2\n",
              "Length: 1302, dtype: int64"
            ]
          },
          "metadata": {},
          "execution_count": 68
        }
      ],
      "id": "pMcXSs8w9wuE"
    },
    {
      "cell_type": "markdown",
      "source": [
        "# corellation "
      ],
      "metadata": {
        "id": "Kp7nWV909wuF"
      },
      "id": "Kp7nWV909wuF"
    },
    {
      "cell_type": "code",
      "source": [
        "df.corr()"
      ],
      "metadata": {
        "colab": {
          "base_uri": "https://localhost:8080/",
          "height": 870
        },
        "id": "nW0_4I7f9wuF",
        "outputId": "d620db63-808f-4997-c1ad-2a29832d1b4d"
      },
      "execution_count": 71,
      "outputs": [
        {
          "output_type": "execute_result",
          "data": {
            "text/plain": [
              "                                                 Issuance Documents  \\\n",
              "Issuance Documents                                         1.000000   \n",
              "Sold Status                                                0.027858   \n",
              "ADTR Report                                                0.277328   \n",
              "ADTR Filing Status                                         0.232318   \n",
              "ADTR Reportable                                            0.279301   \n",
              "...                                                             ...   \n",
              "First Optional Call Date_12-08-2020 00:00                  0.032059   \n",
              "First Optional Call Date_12/15/2009 12:00:00 AM            0.022660   \n",
              "First Optional Call Date_12/22/2016 12:00:00 AM            0.022660   \n",
              "First Optional Call Date_12/23/2008 12:00:00 AM            0.022660   \n",
              "First Optional Call Date_12/26/2019 12:00:00 AM            0.022660   \n",
              "\n",
              "                                                 Sold Status  ADTR Report  \\\n",
              "Issuance Documents                                  0.027858     0.277328   \n",
              "Sold Status                                         1.000000    -0.045929   \n",
              "ADTR Report                                        -0.045929     1.000000   \n",
              "ADTR Filing Status                                  0.012459     0.912576   \n",
              "ADTR Reportable                                     0.015530     0.998111   \n",
              "...                                                      ...          ...   \n",
              "First Optional Call Date_12-08-2020 00:00           0.001672     0.107476   \n",
              "First Optional Call Date_12/15/2009 12:00:00 AM     0.001182    -0.011039   \n",
              "First Optional Call Date_12/22/2016 12:00:00 AM     0.001182    -0.011039   \n",
              "First Optional Call Date_12/23/2008 12:00:00 AM     0.001182    -0.011039   \n",
              "First Optional Call Date_12/26/2019 12:00:00 AM     0.001182     0.075966   \n",
              "\n",
              "                                                 ADTR Filing Status  \\\n",
              "Issuance Documents                                         0.232318   \n",
              "Sold Status                                                0.012459   \n",
              "ADTR Report                                                0.912576   \n",
              "ADTR Filing Status                                         1.000000   \n",
              "ADTR Reportable                                            0.914196   \n",
              "...                                                             ...   \n",
              "First Optional Call Date_12-08-2020 00:00                  0.060349   \n",
              "First Optional Call Date_12/15/2009 12:00:00 AM           -0.008806   \n",
              "First Optional Call Date_12/22/2016 12:00:00 AM           -0.008806   \n",
              "First Optional Call Date_12/23/2008 12:00:00 AM           -0.008806   \n",
              "First Optional Call Date_12/26/2019 12:00:00 AM            0.042655   \n",
              "\n",
              "                                                 ADTR Reportable  \\\n",
              "Issuance Documents                                      0.279301   \n",
              "Sold Status                                             0.015530   \n",
              "ADTR Report                                             0.998111   \n",
              "ADTR Filing Status                                      0.914196   \n",
              "ADTR Reportable                                         1.000000   \n",
              "...                                                          ...   \n",
              "First Optional Call Date_12-08-2020 00:00               0.107680   \n",
              "First Optional Call Date_12/15/2009 12:00:00 AM        -0.010977   \n",
              "First Optional Call Date_12/22/2016 12:00:00 AM        -0.010977   \n",
              "First Optional Call Date_12/23/2008 12:00:00 AM        -0.010977   \n",
              "First Optional Call Date_12/26/2019 12:00:00 AM         0.076109   \n",
              "\n",
              "                                                 ADTR Last Reported Year  \\\n",
              "Issuance Documents                                             -0.126094   \n",
              "Sold Status                                                    -0.007339   \n",
              "ADTR Report                                                    -0.351646   \n",
              "ADTR Filing Status                                             -0.122844   \n",
              "ADTR Reportable                                                -0.352426   \n",
              "...                                                                  ...   \n",
              "First Optional Call Date_12-08-2020 00:00                      -0.155483   \n",
              "First Optional Call Date_12/15/2009 12:00:00 AM                 0.005187   \n",
              "First Optional Call Date_12/22/2016 12:00:00 AM                 0.005187   \n",
              "First Optional Call Date_12/23/2008 12:00:00 AM                 0.005187   \n",
              "First Optional Call Date_12/26/2019 12:00:00 AM                 0.005187   \n",
              "\n",
              "                                                 Debt Policy  MKR Authority  \\\n",
              "Issuance Documents                                 -0.058484       0.055621   \n",
              "Sold Status                                         0.220982       0.002901   \n",
              "ADTR Report                                        -0.199706       0.150873   \n",
              "ADTR Filing Status                                 -0.184403       0.104703   \n",
              "ADTR Reportable                                    -0.186303       0.151192   \n",
              "...                                                      ...            ...   \n",
              "First Optional Call Date_12-08-2020 00:00           0.003752      -0.002901   \n",
              "First Optional Call Date_12/15/2009 12:00:00 AM     0.002652      -0.002051   \n",
              "First Optional Call Date_12/22/2016 12:00:00 AM     0.002652      -0.002051   \n",
              "First Optional Call Date_12/23/2008 12:00:00 AM     0.002652      -0.002051   \n",
              "First Optional Call Date_12/26/2019 12:00:00 AM     0.002652      -0.002051   \n",
              "\n",
              "                                                 Local Obligation  \\\n",
              "Issuance Documents                                       0.028009   \n",
              "Sold Status                                              0.003135   \n",
              "ADTR Report                                              0.102590   \n",
              "ADTR Filing Status                                       0.035141   \n",
              "ADTR Reportable                                          0.102878   \n",
              "...                                                           ...   \n",
              "First Optional Call Date_12-08-2020 00:00               -0.003135   \n",
              "First Optional Call Date_12/15/2009 12:00:00 AM         -0.002216   \n",
              "First Optional Call Date_12/22/2016 12:00:00 AM         -0.002216   \n",
              "First Optional Call Date_12/23/2008 12:00:00 AM         -0.002216   \n",
              "First Optional Call Date_12/26/2019 12:00:00 AM         -0.002216   \n",
              "\n",
              "                                                 Issuer Group  ...  \\\n",
              "Issuance Documents                                   0.196380  ...   \n",
              "Sold Status                                         -0.035899  ...   \n",
              "ADTR Report                                          0.124073  ...   \n",
              "ADTR Filing Status                                   0.063126  ...   \n",
              "ADTR Reportable                                      0.121982  ...   \n",
              "...                                                       ...  ...   \n",
              "First Optional Call Date_12-08-2020 00:00           -0.017393  ...   \n",
              "First Optional Call Date_12/15/2009 12:00:00 AM      0.044208  ...   \n",
              "First Optional Call Date_12/22/2016 12:00:00 AM      0.044208  ...   \n",
              "First Optional Call Date_12/23/2008 12:00:00 AM      0.006540  ...   \n",
              "First Optional Call Date_12/26/2019 12:00:00 AM      0.044208  ...   \n",
              "\n",
              "                                                 First Optional Call Date_12-01-2022 00:00  \\\n",
              "Issuance Documents                                                                0.032059   \n",
              "Sold Status                                                                       0.001672   \n",
              "ADTR Report                                                                       0.045929   \n",
              "ADTR Filing Status                                                                0.060349   \n",
              "ADTR Reportable                                                                   0.046075   \n",
              "...                                                                                    ...   \n",
              "First Optional Call Date_12-08-2020 00:00                                        -0.001672   \n",
              "First Optional Call Date_12/15/2009 12:00:00 AM                                  -0.001182   \n",
              "First Optional Call Date_12/22/2016 12:00:00 AM                                  -0.001182   \n",
              "First Optional Call Date_12/23/2008 12:00:00 AM                                  -0.001182   \n",
              "First Optional Call Date_12/26/2019 12:00:00 AM                                  -0.001182   \n",
              "\n",
              "                                                 First Optional Call Date_12-01-2024 00:00  \\\n",
              "Issuance Documents                                                                0.045376   \n",
              "Sold Status                                                                       0.002367   \n",
              "ADTR Report                                                                       0.108565   \n",
              "ADTR Filing Status                                                                0.059655   \n",
              "ADTR Reportable                                                                   0.108812   \n",
              "...                                                                                    ...   \n",
              "First Optional Call Date_12-08-2020 00:00                                        -0.002367   \n",
              "First Optional Call Date_12/15/2009 12:00:00 AM                                  -0.001673   \n",
              "First Optional Call Date_12/22/2016 12:00:00 AM                                  -0.001673   \n",
              "First Optional Call Date_12/23/2008 12:00:00 AM                                  -0.001673   \n",
              "First Optional Call Date_12/26/2019 12:00:00 AM                                  -0.001673   \n",
              "\n",
              "                                                 First Optional Call Date_12-01-2025 00:00  \\\n",
              "Issuance Documents                                                                0.032059   \n",
              "Sold Status                                                                       0.001672   \n",
              "ADTR Report                                                                      -0.015618   \n",
              "ADTR Filing Status                                                               -0.012459   \n",
              "ADTR Reportable                                                                  -0.015530   \n",
              "...                                                                                    ...   \n",
              "First Optional Call Date_12-08-2020 00:00                                        -0.001672   \n",
              "First Optional Call Date_12/15/2009 12:00:00 AM                                  -0.001182   \n",
              "First Optional Call Date_12/22/2016 12:00:00 AM                                  -0.001182   \n",
              "First Optional Call Date_12/23/2008 12:00:00 AM                                  -0.001182   \n",
              "First Optional Call Date_12/26/2019 12:00:00 AM                                  -0.001182   \n",
              "\n",
              "                                                 First Optional Call Date_12-01-2027 00:00  \\\n",
              "Issuance Documents                                                                0.022660   \n",
              "Sold Status                                                                       0.001182   \n",
              "ADTR Report                                                                       0.075966   \n",
              "ADTR Filing Status                                                                0.042655   \n",
              "ADTR Reportable                                                                   0.076109   \n",
              "...                                                                                    ...   \n",
              "First Optional Call Date_12-08-2020 00:00                                        -0.001182   \n",
              "First Optional Call Date_12/15/2009 12:00:00 AM                                  -0.000835   \n",
              "First Optional Call Date_12/22/2016 12:00:00 AM                                  -0.000835   \n",
              "First Optional Call Date_12/23/2008 12:00:00 AM                                  -0.000835   \n",
              "First Optional Call Date_12/26/2019 12:00:00 AM                                  -0.000835   \n",
              "\n",
              "                                                 First Optional Call Date_12-01-2030 00:00  \\\n",
              "Issuance Documents                                                                0.022660   \n",
              "Sold Status                                                                       0.001182   \n",
              "ADTR Report                                                                       0.075966   \n",
              "ADTR Filing Status                                                                0.042655   \n",
              "ADTR Reportable                                                                   0.076109   \n",
              "...                                                                                    ...   \n",
              "First Optional Call Date_12-08-2020 00:00                                        -0.001182   \n",
              "First Optional Call Date_12/15/2009 12:00:00 AM                                  -0.000835   \n",
              "First Optional Call Date_12/22/2016 12:00:00 AM                                  -0.000835   \n",
              "First Optional Call Date_12/23/2008 12:00:00 AM                                  -0.000835   \n",
              "First Optional Call Date_12/26/2019 12:00:00 AM                                  -0.000835   \n",
              "\n",
              "                                                 First Optional Call Date_12-08-2020 00:00  \\\n",
              "Issuance Documents                                                                0.032059   \n",
              "Sold Status                                                                       0.001672   \n",
              "ADTR Report                                                                       0.107476   \n",
              "ADTR Filing Status                                                                0.060349   \n",
              "ADTR Reportable                                                                   0.107680   \n",
              "...                                                                                    ...   \n",
              "First Optional Call Date_12-08-2020 00:00                                         1.000000   \n",
              "First Optional Call Date_12/15/2009 12:00:00 AM                                  -0.001182   \n",
              "First Optional Call Date_12/22/2016 12:00:00 AM                                  -0.001182   \n",
              "First Optional Call Date_12/23/2008 12:00:00 AM                                  -0.001182   \n",
              "First Optional Call Date_12/26/2019 12:00:00 AM                                  -0.001182   \n",
              "\n",
              "                                                 First Optional Call Date_12/15/2009 12:00:00 AM  \\\n",
              "Issuance Documents                                                                      0.022660   \n",
              "Sold Status                                                                             0.001182   \n",
              "ADTR Report                                                                            -0.011039   \n",
              "ADTR Filing Status                                                                     -0.008806   \n",
              "ADTR Reportable                                                                        -0.010977   \n",
              "...                                                                                          ...   \n",
              "First Optional Call Date_12-08-2020 00:00                                              -0.001182   \n",
              "First Optional Call Date_12/15/2009 12:00:00 AM                                         1.000000   \n",
              "First Optional Call Date_12/22/2016 12:00:00 AM                                        -0.000835   \n",
              "First Optional Call Date_12/23/2008 12:00:00 AM                                        -0.000835   \n",
              "First Optional Call Date_12/26/2019 12:00:00 AM                                        -0.000835   \n",
              "\n",
              "                                                 First Optional Call Date_12/22/2016 12:00:00 AM  \\\n",
              "Issuance Documents                                                                      0.022660   \n",
              "Sold Status                                                                             0.001182   \n",
              "ADTR Report                                                                            -0.011039   \n",
              "ADTR Filing Status                                                                     -0.008806   \n",
              "ADTR Reportable                                                                        -0.010977   \n",
              "...                                                                                          ...   \n",
              "First Optional Call Date_12-08-2020 00:00                                              -0.001182   \n",
              "First Optional Call Date_12/15/2009 12:00:00 AM                                        -0.000835   \n",
              "First Optional Call Date_12/22/2016 12:00:00 AM                                         1.000000   \n",
              "First Optional Call Date_12/23/2008 12:00:00 AM                                        -0.000835   \n",
              "First Optional Call Date_12/26/2019 12:00:00 AM                                        -0.000835   \n",
              "\n",
              "                                                 First Optional Call Date_12/23/2008 12:00:00 AM  \\\n",
              "Issuance Documents                                                                      0.022660   \n",
              "Sold Status                                                                             0.001182   \n",
              "ADTR Report                                                                            -0.011039   \n",
              "ADTR Filing Status                                                                     -0.008806   \n",
              "ADTR Reportable                                                                        -0.010977   \n",
              "...                                                                                          ...   \n",
              "First Optional Call Date_12-08-2020 00:00                                              -0.001182   \n",
              "First Optional Call Date_12/15/2009 12:00:00 AM                                        -0.000835   \n",
              "First Optional Call Date_12/22/2016 12:00:00 AM                                        -0.000835   \n",
              "First Optional Call Date_12/23/2008 12:00:00 AM                                         1.000000   \n",
              "First Optional Call Date_12/26/2019 12:00:00 AM                                        -0.000835   \n",
              "\n",
              "                                                 First Optional Call Date_12/26/2019 12:00:00 AM  \n",
              "Issuance Documents                                                                      0.022660  \n",
              "Sold Status                                                                             0.001182  \n",
              "ADTR Report                                                                             0.075966  \n",
              "ADTR Filing Status                                                                      0.042655  \n",
              "ADTR Reportable                                                                         0.076109  \n",
              "...                                                                                          ...  \n",
              "First Optional Call Date_12-08-2020 00:00                                              -0.001182  \n",
              "First Optional Call Date_12/15/2009 12:00:00 AM                                        -0.000835  \n",
              "First Optional Call Date_12/22/2016 12:00:00 AM                                        -0.000835  \n",
              "First Optional Call Date_12/23/2008 12:00:00 AM                                        -0.000835  \n",
              "First Optional Call Date_12/26/2019 12:00:00 AM                                         1.000000  \n",
              "\n",
              "[1302 rows x 1302 columns]"
            ],
            "text/html": [
              "\n",
              "  <div id=\"df-b6bec419-a7ad-416c-8e68-e63f49d865b5\">\n",
              "    <div class=\"colab-df-container\">\n",
              "      <div>\n",
              "<style scoped>\n",
              "    .dataframe tbody tr th:only-of-type {\n",
              "        vertical-align: middle;\n",
              "    }\n",
              "\n",
              "    .dataframe tbody tr th {\n",
              "        vertical-align: top;\n",
              "    }\n",
              "\n",
              "    .dataframe thead th {\n",
              "        text-align: right;\n",
              "    }\n",
              "</style>\n",
              "<table border=\"1\" class=\"dataframe\">\n",
              "  <thead>\n",
              "    <tr style=\"text-align: right;\">\n",
              "      <th></th>\n",
              "      <th>Issuance Documents</th>\n",
              "      <th>Sold Status</th>\n",
              "      <th>ADTR Report</th>\n",
              "      <th>ADTR Filing Status</th>\n",
              "      <th>ADTR Reportable</th>\n",
              "      <th>ADTR Last Reported Year</th>\n",
              "      <th>Debt Policy</th>\n",
              "      <th>MKR Authority</th>\n",
              "      <th>Local Obligation</th>\n",
              "      <th>Issuer Group</th>\n",
              "      <th>...</th>\n",
              "      <th>First Optional Call Date_12-01-2022 00:00</th>\n",
              "      <th>First Optional Call Date_12-01-2024 00:00</th>\n",
              "      <th>First Optional Call Date_12-01-2025 00:00</th>\n",
              "      <th>First Optional Call Date_12-01-2027 00:00</th>\n",
              "      <th>First Optional Call Date_12-01-2030 00:00</th>\n",
              "      <th>First Optional Call Date_12-08-2020 00:00</th>\n",
              "      <th>First Optional Call Date_12/15/2009 12:00:00 AM</th>\n",
              "      <th>First Optional Call Date_12/22/2016 12:00:00 AM</th>\n",
              "      <th>First Optional Call Date_12/23/2008 12:00:00 AM</th>\n",
              "      <th>First Optional Call Date_12/26/2019 12:00:00 AM</th>\n",
              "    </tr>\n",
              "  </thead>\n",
              "  <tbody>\n",
              "    <tr>\n",
              "      <th>Issuance Documents</th>\n",
              "      <td>1.000000</td>\n",
              "      <td>0.027858</td>\n",
              "      <td>0.277328</td>\n",
              "      <td>0.232318</td>\n",
              "      <td>0.279301</td>\n",
              "      <td>-0.126094</td>\n",
              "      <td>-0.058484</td>\n",
              "      <td>0.055621</td>\n",
              "      <td>0.028009</td>\n",
              "      <td>0.196380</td>\n",
              "      <td>...</td>\n",
              "      <td>0.032059</td>\n",
              "      <td>0.045376</td>\n",
              "      <td>0.032059</td>\n",
              "      <td>0.022660</td>\n",
              "      <td>0.022660</td>\n",
              "      <td>0.032059</td>\n",
              "      <td>0.022660</td>\n",
              "      <td>0.022660</td>\n",
              "      <td>0.022660</td>\n",
              "      <td>0.022660</td>\n",
              "    </tr>\n",
              "    <tr>\n",
              "      <th>Sold Status</th>\n",
              "      <td>0.027858</td>\n",
              "      <td>1.000000</td>\n",
              "      <td>-0.045929</td>\n",
              "      <td>0.012459</td>\n",
              "      <td>0.015530</td>\n",
              "      <td>-0.007339</td>\n",
              "      <td>0.220982</td>\n",
              "      <td>0.002901</td>\n",
              "      <td>0.003135</td>\n",
              "      <td>-0.035899</td>\n",
              "      <td>...</td>\n",
              "      <td>0.001672</td>\n",
              "      <td>0.002367</td>\n",
              "      <td>0.001672</td>\n",
              "      <td>0.001182</td>\n",
              "      <td>0.001182</td>\n",
              "      <td>0.001672</td>\n",
              "      <td>0.001182</td>\n",
              "      <td>0.001182</td>\n",
              "      <td>0.001182</td>\n",
              "      <td>0.001182</td>\n",
              "    </tr>\n",
              "    <tr>\n",
              "      <th>ADTR Report</th>\n",
              "      <td>0.277328</td>\n",
              "      <td>-0.045929</td>\n",
              "      <td>1.000000</td>\n",
              "      <td>0.912576</td>\n",
              "      <td>0.998111</td>\n",
              "      <td>-0.351646</td>\n",
              "      <td>-0.199706</td>\n",
              "      <td>0.150873</td>\n",
              "      <td>0.102590</td>\n",
              "      <td>0.124073</td>\n",
              "      <td>...</td>\n",
              "      <td>0.045929</td>\n",
              "      <td>0.108565</td>\n",
              "      <td>-0.015618</td>\n",
              "      <td>0.075966</td>\n",
              "      <td>0.075966</td>\n",
              "      <td>0.107476</td>\n",
              "      <td>-0.011039</td>\n",
              "      <td>-0.011039</td>\n",
              "      <td>-0.011039</td>\n",
              "      <td>0.075966</td>\n",
              "    </tr>\n",
              "    <tr>\n",
              "      <th>ADTR Filing Status</th>\n",
              "      <td>0.232318</td>\n",
              "      <td>0.012459</td>\n",
              "      <td>0.912576</td>\n",
              "      <td>1.000000</td>\n",
              "      <td>0.914196</td>\n",
              "      <td>-0.122844</td>\n",
              "      <td>-0.184403</td>\n",
              "      <td>0.104703</td>\n",
              "      <td>0.035141</td>\n",
              "      <td>0.063126</td>\n",
              "      <td>...</td>\n",
              "      <td>0.060349</td>\n",
              "      <td>0.059655</td>\n",
              "      <td>-0.012459</td>\n",
              "      <td>0.042655</td>\n",
              "      <td>0.042655</td>\n",
              "      <td>0.060349</td>\n",
              "      <td>-0.008806</td>\n",
              "      <td>-0.008806</td>\n",
              "      <td>-0.008806</td>\n",
              "      <td>0.042655</td>\n",
              "    </tr>\n",
              "    <tr>\n",
              "      <th>ADTR Reportable</th>\n",
              "      <td>0.279301</td>\n",
              "      <td>0.015530</td>\n",
              "      <td>0.998111</td>\n",
              "      <td>0.914196</td>\n",
              "      <td>1.000000</td>\n",
              "      <td>-0.352426</td>\n",
              "      <td>-0.186303</td>\n",
              "      <td>0.151192</td>\n",
              "      <td>0.102878</td>\n",
              "      <td>0.121982</td>\n",
              "      <td>...</td>\n",
              "      <td>0.046075</td>\n",
              "      <td>0.108812</td>\n",
              "      <td>-0.015530</td>\n",
              "      <td>0.076109</td>\n",
              "      <td>0.076109</td>\n",
              "      <td>0.107680</td>\n",
              "      <td>-0.010977</td>\n",
              "      <td>-0.010977</td>\n",
              "      <td>-0.010977</td>\n",
              "      <td>0.076109</td>\n",
              "    </tr>\n",
              "    <tr>\n",
              "      <th>...</th>\n",
              "      <td>...</td>\n",
              "      <td>...</td>\n",
              "      <td>...</td>\n",
              "      <td>...</td>\n",
              "      <td>...</td>\n",
              "      <td>...</td>\n",
              "      <td>...</td>\n",
              "      <td>...</td>\n",
              "      <td>...</td>\n",
              "      <td>...</td>\n",
              "      <td>...</td>\n",
              "      <td>...</td>\n",
              "      <td>...</td>\n",
              "      <td>...</td>\n",
              "      <td>...</td>\n",
              "      <td>...</td>\n",
              "      <td>...</td>\n",
              "      <td>...</td>\n",
              "      <td>...</td>\n",
              "      <td>...</td>\n",
              "      <td>...</td>\n",
              "    </tr>\n",
              "    <tr>\n",
              "      <th>First Optional Call Date_12-08-2020 00:00</th>\n",
              "      <td>0.032059</td>\n",
              "      <td>0.001672</td>\n",
              "      <td>0.107476</td>\n",
              "      <td>0.060349</td>\n",
              "      <td>0.107680</td>\n",
              "      <td>-0.155483</td>\n",
              "      <td>0.003752</td>\n",
              "      <td>-0.002901</td>\n",
              "      <td>-0.003135</td>\n",
              "      <td>-0.017393</td>\n",
              "      <td>...</td>\n",
              "      <td>-0.001672</td>\n",
              "      <td>-0.002367</td>\n",
              "      <td>-0.001672</td>\n",
              "      <td>-0.001182</td>\n",
              "      <td>-0.001182</td>\n",
              "      <td>1.000000</td>\n",
              "      <td>-0.001182</td>\n",
              "      <td>-0.001182</td>\n",
              "      <td>-0.001182</td>\n",
              "      <td>-0.001182</td>\n",
              "    </tr>\n",
              "    <tr>\n",
              "      <th>First Optional Call Date_12/15/2009 12:00:00 AM</th>\n",
              "      <td>0.022660</td>\n",
              "      <td>0.001182</td>\n",
              "      <td>-0.011039</td>\n",
              "      <td>-0.008806</td>\n",
              "      <td>-0.010977</td>\n",
              "      <td>0.005187</td>\n",
              "      <td>0.002652</td>\n",
              "      <td>-0.002051</td>\n",
              "      <td>-0.002216</td>\n",
              "      <td>0.044208</td>\n",
              "      <td>...</td>\n",
              "      <td>-0.001182</td>\n",
              "      <td>-0.001673</td>\n",
              "      <td>-0.001182</td>\n",
              "      <td>-0.000835</td>\n",
              "      <td>-0.000835</td>\n",
              "      <td>-0.001182</td>\n",
              "      <td>1.000000</td>\n",
              "      <td>-0.000835</td>\n",
              "      <td>-0.000835</td>\n",
              "      <td>-0.000835</td>\n",
              "    </tr>\n",
              "    <tr>\n",
              "      <th>First Optional Call Date_12/22/2016 12:00:00 AM</th>\n",
              "      <td>0.022660</td>\n",
              "      <td>0.001182</td>\n",
              "      <td>-0.011039</td>\n",
              "      <td>-0.008806</td>\n",
              "      <td>-0.010977</td>\n",
              "      <td>0.005187</td>\n",
              "      <td>0.002652</td>\n",
              "      <td>-0.002051</td>\n",
              "      <td>-0.002216</td>\n",
              "      <td>0.044208</td>\n",
              "      <td>...</td>\n",
              "      <td>-0.001182</td>\n",
              "      <td>-0.001673</td>\n",
              "      <td>-0.001182</td>\n",
              "      <td>-0.000835</td>\n",
              "      <td>-0.000835</td>\n",
              "      <td>-0.001182</td>\n",
              "      <td>-0.000835</td>\n",
              "      <td>1.000000</td>\n",
              "      <td>-0.000835</td>\n",
              "      <td>-0.000835</td>\n",
              "    </tr>\n",
              "    <tr>\n",
              "      <th>First Optional Call Date_12/23/2008 12:00:00 AM</th>\n",
              "      <td>0.022660</td>\n",
              "      <td>0.001182</td>\n",
              "      <td>-0.011039</td>\n",
              "      <td>-0.008806</td>\n",
              "      <td>-0.010977</td>\n",
              "      <td>0.005187</td>\n",
              "      <td>0.002652</td>\n",
              "      <td>-0.002051</td>\n",
              "      <td>-0.002216</td>\n",
              "      <td>0.006540</td>\n",
              "      <td>...</td>\n",
              "      <td>-0.001182</td>\n",
              "      <td>-0.001673</td>\n",
              "      <td>-0.001182</td>\n",
              "      <td>-0.000835</td>\n",
              "      <td>-0.000835</td>\n",
              "      <td>-0.001182</td>\n",
              "      <td>-0.000835</td>\n",
              "      <td>-0.000835</td>\n",
              "      <td>1.000000</td>\n",
              "      <td>-0.000835</td>\n",
              "    </tr>\n",
              "    <tr>\n",
              "      <th>First Optional Call Date_12/26/2019 12:00:00 AM</th>\n",
              "      <td>0.022660</td>\n",
              "      <td>0.001182</td>\n",
              "      <td>0.075966</td>\n",
              "      <td>0.042655</td>\n",
              "      <td>0.076109</td>\n",
              "      <td>0.005187</td>\n",
              "      <td>0.002652</td>\n",
              "      <td>-0.002051</td>\n",
              "      <td>-0.002216</td>\n",
              "      <td>0.044208</td>\n",
              "      <td>...</td>\n",
              "      <td>-0.001182</td>\n",
              "      <td>-0.001673</td>\n",
              "      <td>-0.001182</td>\n",
              "      <td>-0.000835</td>\n",
              "      <td>-0.000835</td>\n",
              "      <td>-0.001182</td>\n",
              "      <td>-0.000835</td>\n",
              "      <td>-0.000835</td>\n",
              "      <td>-0.000835</td>\n",
              "      <td>1.000000</td>\n",
              "    </tr>\n",
              "  </tbody>\n",
              "</table>\n",
              "<p>1302 rows × 1302 columns</p>\n",
              "</div>\n",
              "      <button class=\"colab-df-convert\" onclick=\"convertToInteractive('df-b6bec419-a7ad-416c-8e68-e63f49d865b5')\"\n",
              "              title=\"Convert this dataframe to an interactive table.\"\n",
              "              style=\"display:none;\">\n",
              "        \n",
              "  <svg xmlns=\"http://www.w3.org/2000/svg\" height=\"24px\"viewBox=\"0 0 24 24\"\n",
              "       width=\"24px\">\n",
              "    <path d=\"M0 0h24v24H0V0z\" fill=\"none\"/>\n",
              "    <path d=\"M18.56 5.44l.94 2.06.94-2.06 2.06-.94-2.06-.94-.94-2.06-.94 2.06-2.06.94zm-11 1L8.5 8.5l.94-2.06 2.06-.94-2.06-.94L8.5 2.5l-.94 2.06-2.06.94zm10 10l.94 2.06.94-2.06 2.06-.94-2.06-.94-.94-2.06-.94 2.06-2.06.94z\"/><path d=\"M17.41 7.96l-1.37-1.37c-.4-.4-.92-.59-1.43-.59-.52 0-1.04.2-1.43.59L10.3 9.45l-7.72 7.72c-.78.78-.78 2.05 0 2.83L4 21.41c.39.39.9.59 1.41.59.51 0 1.02-.2 1.41-.59l7.78-7.78 2.81-2.81c.8-.78.8-2.07 0-2.86zM5.41 20L4 18.59l7.72-7.72 1.47 1.35L5.41 20z\"/>\n",
              "  </svg>\n",
              "      </button>\n",
              "      \n",
              "  <style>\n",
              "    .colab-df-container {\n",
              "      display:flex;\n",
              "      flex-wrap:wrap;\n",
              "      gap: 12px;\n",
              "    }\n",
              "\n",
              "    .colab-df-convert {\n",
              "      background-color: #E8F0FE;\n",
              "      border: none;\n",
              "      border-radius: 50%;\n",
              "      cursor: pointer;\n",
              "      display: none;\n",
              "      fill: #1967D2;\n",
              "      height: 32px;\n",
              "      padding: 0 0 0 0;\n",
              "      width: 32px;\n",
              "    }\n",
              "\n",
              "    .colab-df-convert:hover {\n",
              "      background-color: #E2EBFA;\n",
              "      box-shadow: 0px 1px 2px rgba(60, 64, 67, 0.3), 0px 1px 3px 1px rgba(60, 64, 67, 0.15);\n",
              "      fill: #174EA6;\n",
              "    }\n",
              "\n",
              "    [theme=dark] .colab-df-convert {\n",
              "      background-color: #3B4455;\n",
              "      fill: #D2E3FC;\n",
              "    }\n",
              "\n",
              "    [theme=dark] .colab-df-convert:hover {\n",
              "      background-color: #434B5C;\n",
              "      box-shadow: 0px 1px 3px 1px rgba(0, 0, 0, 0.15);\n",
              "      filter: drop-shadow(0px 1px 2px rgba(0, 0, 0, 0.3));\n",
              "      fill: #FFFFFF;\n",
              "    }\n",
              "  </style>\n",
              "\n",
              "      <script>\n",
              "        const buttonEl =\n",
              "          document.querySelector('#df-b6bec419-a7ad-416c-8e68-e63f49d865b5 button.colab-df-convert');\n",
              "        buttonEl.style.display =\n",
              "          google.colab.kernel.accessAllowed ? 'block' : 'none';\n",
              "\n",
              "        async function convertToInteractive(key) {\n",
              "          const element = document.querySelector('#df-b6bec419-a7ad-416c-8e68-e63f49d865b5');\n",
              "          const dataTable =\n",
              "            await google.colab.kernel.invokeFunction('convertToInteractive',\n",
              "                                                     [key], {});\n",
              "          if (!dataTable) return;\n",
              "\n",
              "          const docLinkHtml = 'Like what you see? Visit the ' +\n",
              "            '<a target=\"_blank\" href=https://colab.research.google.com/notebooks/data_table.ipynb>data table notebook</a>'\n",
              "            + ' to learn more about interactive tables.';\n",
              "          element.innerHTML = '';\n",
              "          dataTable['output_type'] = 'display_data';\n",
              "          await google.colab.output.renderOutput(dataTable, element);\n",
              "          const docLink = document.createElement('div');\n",
              "          docLink.innerHTML = docLinkHtml;\n",
              "          element.appendChild(docLink);\n",
              "        }\n",
              "      </script>\n",
              "    </div>\n",
              "  </div>\n",
              "  "
            ]
          },
          "metadata": {},
          "execution_count": 71
        }
      ],
      "id": "nW0_4I7f9wuF"
    },
    {
      "cell_type": "markdown",
      "source": [
        "# train_test_split"
      ],
      "metadata": {
        "id": "mRBBBNTx9wuF"
      },
      "id": "mRBBBNTx9wuF"
    },
    {
      "cell_type": "code",
      "source": [
        "x=df.drop(\"S and P Rating\",axis=1)\n",
        "y=df[\"S and P Rating\"]"
      ],
      "metadata": {
        "id": "cPjx7Ryt9wuG"
      },
      "execution_count": 72,
      "outputs": [],
      "id": "cPjx7Ryt9wuG"
    },
    {
      "cell_type": "code",
      "source": [
        "x_train,x_test,y_train,y_test=train_test_split(x,y,train_size=0.700,random_state=100)"
      ],
      "metadata": {
        "id": "SM3QJXsx9wuG"
      },
      "execution_count": 73,
      "outputs": [],
      "id": "SM3QJXsx9wuG"
    },
    {
      "cell_type": "markdown",
      "source": [
        "# zscore normalization"
      ],
      "metadata": {
        "id": "nqve9XFx9wuG"
      },
      "id": "nqve9XFx9wuG"
    },
    {
      "cell_type": "code",
      "source": [
        "mean = df.mean()\n",
        "std = df.std()\n",
        "df = (df - mean) / std\n",
        "df"
      ],
      "metadata": {
        "scrolled": true,
        "colab": {
          "base_uri": "https://localhost:8080/",
          "height": 575
        },
        "id": "CAgGITpy9wuG",
        "outputId": "1745f565-ec4f-43f3-9794-3050f1125cd6"
      },
      "execution_count": 74,
      "outputs": [
        {
          "output_type": "execute_result",
          "data": {
            "text/plain": [
              "      Issuance Documents  Sold Status  ADTR Report  ADTR Filing Status  \\\n",
              "0               0.783647     0.040876     2.627135             3.25486   \n",
              "1              -0.680954     0.040876    -0.381763            -0.30454   \n",
              "2               0.783647     0.040876     2.627135             3.25486   \n",
              "3               0.783647     0.040876    -0.381763            -0.30454   \n",
              "4              -0.680954     0.040876    -0.381763            -0.30454   \n",
              "...                  ...          ...          ...                 ...   \n",
              "1195            0.783647     0.040876    -0.381763            -0.30454   \n",
              "1196           -0.680954     0.040876    -0.381763            -0.30454   \n",
              "1197           -0.680954     0.040876    -0.381763            -0.30454   \n",
              "1198            0.783647     0.040876    -0.381763            -0.30454   \n",
              "1199            0.783647     0.040876    -0.381763            -0.30454   \n",
              "\n",
              "      ADTR Reportable  ADTR Last Reported Year  Debt Policy  MKR Authority  \\\n",
              "0            2.632107                 0.179399     0.091709      -0.070918   \n",
              "1           -0.379607                 0.179399     0.091709      -0.070918   \n",
              "2            2.632107                 0.179399     0.091709      -0.070918   \n",
              "3           -0.379607                 0.179399     0.091709      -0.070918   \n",
              "4           -0.379607                 0.179399     0.091709      -0.070918   \n",
              "...               ...                      ...          ...            ...   \n",
              "1195        -0.379607                 0.179399     0.091709      -0.070918   \n",
              "1196        -0.379607                 0.179399     0.091709      -0.070918   \n",
              "1197        -0.379607                 0.179399     0.091709      -0.070918   \n",
              "1198        -0.379607                 0.179399     0.091709      -0.070918   \n",
              "1199        -0.379607                 0.179399     0.091709      -0.070918   \n",
              "\n",
              "      Local Obligation  Issuer Group  ...  \\\n",
              "0            -0.076632      0.226173  ...   \n",
              "1            -0.076632      0.226173  ...   \n",
              "2            -0.076632      0.226173  ...   \n",
              "3            -0.076632     -1.727828  ...   \n",
              "4            -0.076632     -1.076495  ...   \n",
              "...                ...           ...  ...   \n",
              "1195         -0.076632      0.226173  ...   \n",
              "1196         -0.076632      0.226173  ...   \n",
              "1197         -0.076632     -1.727828  ...   \n",
              "1198         -0.076632      1.528840  ...   \n",
              "1199         -0.076632      0.226173  ...   \n",
              "\n",
              "      First Optional Call Date_12-01-2022 00:00  \\\n",
              "0                                     -0.040876   \n",
              "1                                     -0.040876   \n",
              "2                                     -0.040876   \n",
              "3                                     -0.040876   \n",
              "4                                     -0.040876   \n",
              "...                                         ...   \n",
              "1195                                  -0.040876   \n",
              "1196                                  -0.040876   \n",
              "1197                                  -0.040876   \n",
              "1198                                  -0.040876   \n",
              "1199                                  -0.040876   \n",
              "\n",
              "      First Optional Call Date_12-01-2024 00:00  \\\n",
              "0                                     -0.057856   \n",
              "1                                     -0.057856   \n",
              "2                                     -0.057856   \n",
              "3                                     -0.057856   \n",
              "4                                     -0.057856   \n",
              "...                                         ...   \n",
              "1195                                  -0.057856   \n",
              "1196                                  -0.057856   \n",
              "1197                                  -0.057856   \n",
              "1198                                  -0.057856   \n",
              "1199                                  -0.057856   \n",
              "\n",
              "      First Optional Call Date_12-01-2025 00:00  \\\n",
              "0                                     -0.040876   \n",
              "1                                     -0.040876   \n",
              "2                                     -0.040876   \n",
              "3                                     -0.040876   \n",
              "4                                     -0.040876   \n",
              "...                                         ...   \n",
              "1195                                  -0.040876   \n",
              "1196                                  -0.040876   \n",
              "1197                                  -0.040876   \n",
              "1198                                  -0.040876   \n",
              "1199                                  -0.040876   \n",
              "\n",
              "      First Optional Call Date_12-01-2027 00:00  \\\n",
              "0                                     -0.028892   \n",
              "1                                     -0.028892   \n",
              "2                                     -0.028892   \n",
              "3                                     -0.028892   \n",
              "4                                     -0.028892   \n",
              "...                                         ...   \n",
              "1195                                  -0.028892   \n",
              "1196                                  -0.028892   \n",
              "1197                                  -0.028892   \n",
              "1198                                  -0.028892   \n",
              "1199                                  -0.028892   \n",
              "\n",
              "      First Optional Call Date_12-01-2030 00:00  \\\n",
              "0                                     -0.028892   \n",
              "1                                     -0.028892   \n",
              "2                                     -0.028892   \n",
              "3                                     -0.028892   \n",
              "4                                     -0.028892   \n",
              "...                                         ...   \n",
              "1195                                  -0.028892   \n",
              "1196                                  -0.028892   \n",
              "1197                                  -0.028892   \n",
              "1198                                  -0.028892   \n",
              "1199                                  -0.028892   \n",
              "\n",
              "      First Optional Call Date_12-08-2020 00:00  \\\n",
              "0                                     -0.040876   \n",
              "1                                     -0.040876   \n",
              "2                                     -0.040876   \n",
              "3                                     -0.040876   \n",
              "4                                     -0.040876   \n",
              "...                                         ...   \n",
              "1195                                  -0.040876   \n",
              "1196                                  -0.040876   \n",
              "1197                                  -0.040876   \n",
              "1198                                  -0.040876   \n",
              "1199                                  -0.040876   \n",
              "\n",
              "      First Optional Call Date_12/15/2009 12:00:00 AM  \\\n",
              "0                                           -0.028892   \n",
              "1                                           -0.028892   \n",
              "2                                           -0.028892   \n",
              "3                                           -0.028892   \n",
              "4                                           -0.028892   \n",
              "...                                               ...   \n",
              "1195                                        -0.028892   \n",
              "1196                                        -0.028892   \n",
              "1197                                        -0.028892   \n",
              "1198                                        -0.028892   \n",
              "1199                                        -0.028892   \n",
              "\n",
              "      First Optional Call Date_12/22/2016 12:00:00 AM  \\\n",
              "0                                           -0.028892   \n",
              "1                                           -0.028892   \n",
              "2                                           -0.028892   \n",
              "3                                           -0.028892   \n",
              "4                                           -0.028892   \n",
              "...                                               ...   \n",
              "1195                                        -0.028892   \n",
              "1196                                        -0.028892   \n",
              "1197                                        -0.028892   \n",
              "1198                                        -0.028892   \n",
              "1199                                        -0.028892   \n",
              "\n",
              "      First Optional Call Date_12/23/2008 12:00:00 AM  \\\n",
              "0                                           -0.028892   \n",
              "1                                           -0.028892   \n",
              "2                                           -0.028892   \n",
              "3                                           -0.028892   \n",
              "4                                           -0.028892   \n",
              "...                                               ...   \n",
              "1195                                        -0.028892   \n",
              "1196                                        -0.028892   \n",
              "1197                                        -0.028892   \n",
              "1198                                        -0.028892   \n",
              "1199                                        -0.028892   \n",
              "\n",
              "      First Optional Call Date_12/26/2019 12:00:00 AM  \n",
              "0                                           -0.028892  \n",
              "1                                           -0.028892  \n",
              "2                                           -0.028892  \n",
              "3                                           -0.028892  \n",
              "4                                           -0.028892  \n",
              "...                                               ...  \n",
              "1195                                        -0.028892  \n",
              "1196                                        -0.028892  \n",
              "1197                                        -0.028892  \n",
              "1198                                        -0.028892  \n",
              "1199                                        -0.028892  \n",
              "\n",
              "[1198 rows x 1302 columns]"
            ],
            "text/html": [
              "\n",
              "  <div id=\"df-37d51cb7-fb56-4821-9cb0-950558f2a3cf\">\n",
              "    <div class=\"colab-df-container\">\n",
              "      <div>\n",
              "<style scoped>\n",
              "    .dataframe tbody tr th:only-of-type {\n",
              "        vertical-align: middle;\n",
              "    }\n",
              "\n",
              "    .dataframe tbody tr th {\n",
              "        vertical-align: top;\n",
              "    }\n",
              "\n",
              "    .dataframe thead th {\n",
              "        text-align: right;\n",
              "    }\n",
              "</style>\n",
              "<table border=\"1\" class=\"dataframe\">\n",
              "  <thead>\n",
              "    <tr style=\"text-align: right;\">\n",
              "      <th></th>\n",
              "      <th>Issuance Documents</th>\n",
              "      <th>Sold Status</th>\n",
              "      <th>ADTR Report</th>\n",
              "      <th>ADTR Filing Status</th>\n",
              "      <th>ADTR Reportable</th>\n",
              "      <th>ADTR Last Reported Year</th>\n",
              "      <th>Debt Policy</th>\n",
              "      <th>MKR Authority</th>\n",
              "      <th>Local Obligation</th>\n",
              "      <th>Issuer Group</th>\n",
              "      <th>...</th>\n",
              "      <th>First Optional Call Date_12-01-2022 00:00</th>\n",
              "      <th>First Optional Call Date_12-01-2024 00:00</th>\n",
              "      <th>First Optional Call Date_12-01-2025 00:00</th>\n",
              "      <th>First Optional Call Date_12-01-2027 00:00</th>\n",
              "      <th>First Optional Call Date_12-01-2030 00:00</th>\n",
              "      <th>First Optional Call Date_12-08-2020 00:00</th>\n",
              "      <th>First Optional Call Date_12/15/2009 12:00:00 AM</th>\n",
              "      <th>First Optional Call Date_12/22/2016 12:00:00 AM</th>\n",
              "      <th>First Optional Call Date_12/23/2008 12:00:00 AM</th>\n",
              "      <th>First Optional Call Date_12/26/2019 12:00:00 AM</th>\n",
              "    </tr>\n",
              "  </thead>\n",
              "  <tbody>\n",
              "    <tr>\n",
              "      <th>0</th>\n",
              "      <td>0.783647</td>\n",
              "      <td>0.040876</td>\n",
              "      <td>2.627135</td>\n",
              "      <td>3.25486</td>\n",
              "      <td>2.632107</td>\n",
              "      <td>0.179399</td>\n",
              "      <td>0.091709</td>\n",
              "      <td>-0.070918</td>\n",
              "      <td>-0.076632</td>\n",
              "      <td>0.226173</td>\n",
              "      <td>...</td>\n",
              "      <td>-0.040876</td>\n",
              "      <td>-0.057856</td>\n",
              "      <td>-0.040876</td>\n",
              "      <td>-0.028892</td>\n",
              "      <td>-0.028892</td>\n",
              "      <td>-0.040876</td>\n",
              "      <td>-0.028892</td>\n",
              "      <td>-0.028892</td>\n",
              "      <td>-0.028892</td>\n",
              "      <td>-0.028892</td>\n",
              "    </tr>\n",
              "    <tr>\n",
              "      <th>1</th>\n",
              "      <td>-0.680954</td>\n",
              "      <td>0.040876</td>\n",
              "      <td>-0.381763</td>\n",
              "      <td>-0.30454</td>\n",
              "      <td>-0.379607</td>\n",
              "      <td>0.179399</td>\n",
              "      <td>0.091709</td>\n",
              "      <td>-0.070918</td>\n",
              "      <td>-0.076632</td>\n",
              "      <td>0.226173</td>\n",
              "      <td>...</td>\n",
              "      <td>-0.040876</td>\n",
              "      <td>-0.057856</td>\n",
              "      <td>-0.040876</td>\n",
              "      <td>-0.028892</td>\n",
              "      <td>-0.028892</td>\n",
              "      <td>-0.040876</td>\n",
              "      <td>-0.028892</td>\n",
              "      <td>-0.028892</td>\n",
              "      <td>-0.028892</td>\n",
              "      <td>-0.028892</td>\n",
              "    </tr>\n",
              "    <tr>\n",
              "      <th>2</th>\n",
              "      <td>0.783647</td>\n",
              "      <td>0.040876</td>\n",
              "      <td>2.627135</td>\n",
              "      <td>3.25486</td>\n",
              "      <td>2.632107</td>\n",
              "      <td>0.179399</td>\n",
              "      <td>0.091709</td>\n",
              "      <td>-0.070918</td>\n",
              "      <td>-0.076632</td>\n",
              "      <td>0.226173</td>\n",
              "      <td>...</td>\n",
              "      <td>-0.040876</td>\n",
              "      <td>-0.057856</td>\n",
              "      <td>-0.040876</td>\n",
              "      <td>-0.028892</td>\n",
              "      <td>-0.028892</td>\n",
              "      <td>-0.040876</td>\n",
              "      <td>-0.028892</td>\n",
              "      <td>-0.028892</td>\n",
              "      <td>-0.028892</td>\n",
              "      <td>-0.028892</td>\n",
              "    </tr>\n",
              "    <tr>\n",
              "      <th>3</th>\n",
              "      <td>0.783647</td>\n",
              "      <td>0.040876</td>\n",
              "      <td>-0.381763</td>\n",
              "      <td>-0.30454</td>\n",
              "      <td>-0.379607</td>\n",
              "      <td>0.179399</td>\n",
              "      <td>0.091709</td>\n",
              "      <td>-0.070918</td>\n",
              "      <td>-0.076632</td>\n",
              "      <td>-1.727828</td>\n",
              "      <td>...</td>\n",
              "      <td>-0.040876</td>\n",
              "      <td>-0.057856</td>\n",
              "      <td>-0.040876</td>\n",
              "      <td>-0.028892</td>\n",
              "      <td>-0.028892</td>\n",
              "      <td>-0.040876</td>\n",
              "      <td>-0.028892</td>\n",
              "      <td>-0.028892</td>\n",
              "      <td>-0.028892</td>\n",
              "      <td>-0.028892</td>\n",
              "    </tr>\n",
              "    <tr>\n",
              "      <th>4</th>\n",
              "      <td>-0.680954</td>\n",
              "      <td>0.040876</td>\n",
              "      <td>-0.381763</td>\n",
              "      <td>-0.30454</td>\n",
              "      <td>-0.379607</td>\n",
              "      <td>0.179399</td>\n",
              "      <td>0.091709</td>\n",
              "      <td>-0.070918</td>\n",
              "      <td>-0.076632</td>\n",
              "      <td>-1.076495</td>\n",
              "      <td>...</td>\n",
              "      <td>-0.040876</td>\n",
              "      <td>-0.057856</td>\n",
              "      <td>-0.040876</td>\n",
              "      <td>-0.028892</td>\n",
              "      <td>-0.028892</td>\n",
              "      <td>-0.040876</td>\n",
              "      <td>-0.028892</td>\n",
              "      <td>-0.028892</td>\n",
              "      <td>-0.028892</td>\n",
              "      <td>-0.028892</td>\n",
              "    </tr>\n",
              "    <tr>\n",
              "      <th>...</th>\n",
              "      <td>...</td>\n",
              "      <td>...</td>\n",
              "      <td>...</td>\n",
              "      <td>...</td>\n",
              "      <td>...</td>\n",
              "      <td>...</td>\n",
              "      <td>...</td>\n",
              "      <td>...</td>\n",
              "      <td>...</td>\n",
              "      <td>...</td>\n",
              "      <td>...</td>\n",
              "      <td>...</td>\n",
              "      <td>...</td>\n",
              "      <td>...</td>\n",
              "      <td>...</td>\n",
              "      <td>...</td>\n",
              "      <td>...</td>\n",
              "      <td>...</td>\n",
              "      <td>...</td>\n",
              "      <td>...</td>\n",
              "      <td>...</td>\n",
              "    </tr>\n",
              "    <tr>\n",
              "      <th>1195</th>\n",
              "      <td>0.783647</td>\n",
              "      <td>0.040876</td>\n",
              "      <td>-0.381763</td>\n",
              "      <td>-0.30454</td>\n",
              "      <td>-0.379607</td>\n",
              "      <td>0.179399</td>\n",
              "      <td>0.091709</td>\n",
              "      <td>-0.070918</td>\n",
              "      <td>-0.076632</td>\n",
              "      <td>0.226173</td>\n",
              "      <td>...</td>\n",
              "      <td>-0.040876</td>\n",
              "      <td>-0.057856</td>\n",
              "      <td>-0.040876</td>\n",
              "      <td>-0.028892</td>\n",
              "      <td>-0.028892</td>\n",
              "      <td>-0.040876</td>\n",
              "      <td>-0.028892</td>\n",
              "      <td>-0.028892</td>\n",
              "      <td>-0.028892</td>\n",
              "      <td>-0.028892</td>\n",
              "    </tr>\n",
              "    <tr>\n",
              "      <th>1196</th>\n",
              "      <td>-0.680954</td>\n",
              "      <td>0.040876</td>\n",
              "      <td>-0.381763</td>\n",
              "      <td>-0.30454</td>\n",
              "      <td>-0.379607</td>\n",
              "      <td>0.179399</td>\n",
              "      <td>0.091709</td>\n",
              "      <td>-0.070918</td>\n",
              "      <td>-0.076632</td>\n",
              "      <td>0.226173</td>\n",
              "      <td>...</td>\n",
              "      <td>-0.040876</td>\n",
              "      <td>-0.057856</td>\n",
              "      <td>-0.040876</td>\n",
              "      <td>-0.028892</td>\n",
              "      <td>-0.028892</td>\n",
              "      <td>-0.040876</td>\n",
              "      <td>-0.028892</td>\n",
              "      <td>-0.028892</td>\n",
              "      <td>-0.028892</td>\n",
              "      <td>-0.028892</td>\n",
              "    </tr>\n",
              "    <tr>\n",
              "      <th>1197</th>\n",
              "      <td>-0.680954</td>\n",
              "      <td>0.040876</td>\n",
              "      <td>-0.381763</td>\n",
              "      <td>-0.30454</td>\n",
              "      <td>-0.379607</td>\n",
              "      <td>0.179399</td>\n",
              "      <td>0.091709</td>\n",
              "      <td>-0.070918</td>\n",
              "      <td>-0.076632</td>\n",
              "      <td>-1.727828</td>\n",
              "      <td>...</td>\n",
              "      <td>-0.040876</td>\n",
              "      <td>-0.057856</td>\n",
              "      <td>-0.040876</td>\n",
              "      <td>-0.028892</td>\n",
              "      <td>-0.028892</td>\n",
              "      <td>-0.040876</td>\n",
              "      <td>-0.028892</td>\n",
              "      <td>-0.028892</td>\n",
              "      <td>-0.028892</td>\n",
              "      <td>-0.028892</td>\n",
              "    </tr>\n",
              "    <tr>\n",
              "      <th>1198</th>\n",
              "      <td>0.783647</td>\n",
              "      <td>0.040876</td>\n",
              "      <td>-0.381763</td>\n",
              "      <td>-0.30454</td>\n",
              "      <td>-0.379607</td>\n",
              "      <td>0.179399</td>\n",
              "      <td>0.091709</td>\n",
              "      <td>-0.070918</td>\n",
              "      <td>-0.076632</td>\n",
              "      <td>1.528840</td>\n",
              "      <td>...</td>\n",
              "      <td>-0.040876</td>\n",
              "      <td>-0.057856</td>\n",
              "      <td>-0.040876</td>\n",
              "      <td>-0.028892</td>\n",
              "      <td>-0.028892</td>\n",
              "      <td>-0.040876</td>\n",
              "      <td>-0.028892</td>\n",
              "      <td>-0.028892</td>\n",
              "      <td>-0.028892</td>\n",
              "      <td>-0.028892</td>\n",
              "    </tr>\n",
              "    <tr>\n",
              "      <th>1199</th>\n",
              "      <td>0.783647</td>\n",
              "      <td>0.040876</td>\n",
              "      <td>-0.381763</td>\n",
              "      <td>-0.30454</td>\n",
              "      <td>-0.379607</td>\n",
              "      <td>0.179399</td>\n",
              "      <td>0.091709</td>\n",
              "      <td>-0.070918</td>\n",
              "      <td>-0.076632</td>\n",
              "      <td>0.226173</td>\n",
              "      <td>...</td>\n",
              "      <td>-0.040876</td>\n",
              "      <td>-0.057856</td>\n",
              "      <td>-0.040876</td>\n",
              "      <td>-0.028892</td>\n",
              "      <td>-0.028892</td>\n",
              "      <td>-0.040876</td>\n",
              "      <td>-0.028892</td>\n",
              "      <td>-0.028892</td>\n",
              "      <td>-0.028892</td>\n",
              "      <td>-0.028892</td>\n",
              "    </tr>\n",
              "  </tbody>\n",
              "</table>\n",
              "<p>1198 rows × 1302 columns</p>\n",
              "</div>\n",
              "      <button class=\"colab-df-convert\" onclick=\"convertToInteractive('df-37d51cb7-fb56-4821-9cb0-950558f2a3cf')\"\n",
              "              title=\"Convert this dataframe to an interactive table.\"\n",
              "              style=\"display:none;\">\n",
              "        \n",
              "  <svg xmlns=\"http://www.w3.org/2000/svg\" height=\"24px\"viewBox=\"0 0 24 24\"\n",
              "       width=\"24px\">\n",
              "    <path d=\"M0 0h24v24H0V0z\" fill=\"none\"/>\n",
              "    <path d=\"M18.56 5.44l.94 2.06.94-2.06 2.06-.94-2.06-.94-.94-2.06-.94 2.06-2.06.94zm-11 1L8.5 8.5l.94-2.06 2.06-.94-2.06-.94L8.5 2.5l-.94 2.06-2.06.94zm10 10l.94 2.06.94-2.06 2.06-.94-2.06-.94-.94-2.06-.94 2.06-2.06.94z\"/><path d=\"M17.41 7.96l-1.37-1.37c-.4-.4-.92-.59-1.43-.59-.52 0-1.04.2-1.43.59L10.3 9.45l-7.72 7.72c-.78.78-.78 2.05 0 2.83L4 21.41c.39.39.9.59 1.41.59.51 0 1.02-.2 1.41-.59l7.78-7.78 2.81-2.81c.8-.78.8-2.07 0-2.86zM5.41 20L4 18.59l7.72-7.72 1.47 1.35L5.41 20z\"/>\n",
              "  </svg>\n",
              "      </button>\n",
              "      \n",
              "  <style>\n",
              "    .colab-df-container {\n",
              "      display:flex;\n",
              "      flex-wrap:wrap;\n",
              "      gap: 12px;\n",
              "    }\n",
              "\n",
              "    .colab-df-convert {\n",
              "      background-color: #E8F0FE;\n",
              "      border: none;\n",
              "      border-radius: 50%;\n",
              "      cursor: pointer;\n",
              "      display: none;\n",
              "      fill: #1967D2;\n",
              "      height: 32px;\n",
              "      padding: 0 0 0 0;\n",
              "      width: 32px;\n",
              "    }\n",
              "\n",
              "    .colab-df-convert:hover {\n",
              "      background-color: #E2EBFA;\n",
              "      box-shadow: 0px 1px 2px rgba(60, 64, 67, 0.3), 0px 1px 3px 1px rgba(60, 64, 67, 0.15);\n",
              "      fill: #174EA6;\n",
              "    }\n",
              "\n",
              "    [theme=dark] .colab-df-convert {\n",
              "      background-color: #3B4455;\n",
              "      fill: #D2E3FC;\n",
              "    }\n",
              "\n",
              "    [theme=dark] .colab-df-convert:hover {\n",
              "      background-color: #434B5C;\n",
              "      box-shadow: 0px 1px 3px 1px rgba(0, 0, 0, 0.15);\n",
              "      filter: drop-shadow(0px 1px 2px rgba(0, 0, 0, 0.3));\n",
              "      fill: #FFFFFF;\n",
              "    }\n",
              "  </style>\n",
              "\n",
              "      <script>\n",
              "        const buttonEl =\n",
              "          document.querySelector('#df-37d51cb7-fb56-4821-9cb0-950558f2a3cf button.colab-df-convert');\n",
              "        buttonEl.style.display =\n",
              "          google.colab.kernel.accessAllowed ? 'block' : 'none';\n",
              "\n",
              "        async function convertToInteractive(key) {\n",
              "          const element = document.querySelector('#df-37d51cb7-fb56-4821-9cb0-950558f2a3cf');\n",
              "          const dataTable =\n",
              "            await google.colab.kernel.invokeFunction('convertToInteractive',\n",
              "                                                     [key], {});\n",
              "          if (!dataTable) return;\n",
              "\n",
              "          const docLinkHtml = 'Like what you see? Visit the ' +\n",
              "            '<a target=\"_blank\" href=https://colab.research.google.com/notebooks/data_table.ipynb>data table notebook</a>'\n",
              "            + ' to learn more about interactive tables.';\n",
              "          element.innerHTML = '';\n",
              "          dataTable['output_type'] = 'display_data';\n",
              "          await google.colab.output.renderOutput(dataTable, element);\n",
              "          const docLink = document.createElement('div');\n",
              "          docLink.innerHTML = docLinkHtml;\n",
              "          element.appendChild(docLink);\n",
              "        }\n",
              "      </script>\n",
              "    </div>\n",
              "  </div>\n",
              "  "
            ]
          },
          "metadata": {},
          "execution_count": 74
        }
      ],
      "id": "CAgGITpy9wuG"
    },
    {
      "cell_type": "markdown",
      "source": [
        "# Model building"
      ],
      "metadata": {
        "id": "onFAp2Dy9wuG"
      },
      "id": "onFAp2Dy9wuG"
    },
    {
      "cell_type": "markdown",
      "source": [
        "### 1. linear regression model: "
      ],
      "metadata": {
        "id": "vG4bpA4A9wuH"
      },
      "id": "vG4bpA4A9wuH"
    },
    {
      "cell_type": "code",
      "source": [
        "lr= LinearRegression()"
      ],
      "metadata": {
        "id": "IUPccROT9wuH"
      },
      "execution_count": 75,
      "outputs": [],
      "id": "IUPccROT9wuH"
    },
    {
      "cell_type": "code",
      "source": [
        "lr.fit(x_train,y_train)"
      ],
      "metadata": {
        "colab": {
          "base_uri": "https://localhost:8080/"
        },
        "id": "oJxWQlvV9wuH",
        "outputId": "cadd41e8-0bde-4f58-e672-66ad24852fb8"
      },
      "execution_count": 76,
      "outputs": [
        {
          "output_type": "execute_result",
          "data": {
            "text/plain": [
              "LinearRegression()"
            ]
          },
          "metadata": {},
          "execution_count": 76
        }
      ],
      "id": "oJxWQlvV9wuH"
    },
    {
      "cell_type": "code",
      "source": [
        "y_pred=lr.predict(x_test)"
      ],
      "metadata": {
        "id": "bNnTW8Fo9wuH"
      },
      "execution_count": 77,
      "outputs": [],
      "id": "bNnTW8Fo9wuH"
    },
    {
      "cell_type": "code",
      "source": [
        "r2=r2_score(y_test,y_pred)\n",
        "r2"
      ],
      "metadata": {
        "colab": {
          "base_uri": "https://localhost:8080/"
        },
        "id": "RizWAxuH9wuH",
        "outputId": "3365ad36-1197-46a2-da83-ba6c6e8fed27"
      },
      "execution_count": 78,
      "outputs": [
        {
          "output_type": "execute_result",
          "data": {
            "text/plain": [
              "-1306663.1046887115"
            ]
          },
          "metadata": {},
          "execution_count": 78
        }
      ],
      "id": "RizWAxuH9wuH"
    },
    {
      "cell_type": "markdown",
      "source": [
        "### using gridsearchcv to improve r2 score"
      ],
      "metadata": {
        "id": "q0IyrlFw9wuI"
      },
      "id": "q0IyrlFw9wuI"
    },
    {
      "cell_type": "code",
      "source": [
        "lr.get_params()"
      ],
      "metadata": {
        "colab": {
          "base_uri": "https://localhost:8080/"
        },
        "id": "FCBuBMFd9wuI",
        "outputId": "81b8327f-a094-4200-e034-28570f086f22"
      },
      "execution_count": 79,
      "outputs": [
        {
          "output_type": "execute_result",
          "data": {
            "text/plain": [
              "{'copy_X': True,\n",
              " 'fit_intercept': True,\n",
              " 'n_jobs': None,\n",
              " 'normalize': 'deprecated',\n",
              " 'positive': False}"
            ]
          },
          "metadata": {},
          "execution_count": 79
        }
      ],
      "id": "FCBuBMFd9wuI"
    },
    {
      "cell_type": "code",
      "source": [
        "params={\"n_jobs\":[5,20,30],\"positive\":[True],\"fit_intercept\":[False],\"copy_X\":[False,True]}\n",
        "lrt=GridSearchCV(lr,params,cv=7,verbose=1,scoring='r2')\n",
        "lrt.fit(x_train,y_train)"
      ],
      "metadata": {
        "colab": {
          "base_uri": "https://localhost:8080/"
        },
        "id": "B81rFd3v9wuI",
        "outputId": "7c813322-54e3-40d4-8899-76b7d8ed1f51"
      },
      "execution_count": 80,
      "outputs": [
        {
          "output_type": "stream",
          "name": "stdout",
          "text": [
            "Fitting 7 folds for each of 6 candidates, totalling 42 fits\n"
          ]
        },
        {
          "output_type": "execute_result",
          "data": {
            "text/plain": [
              "GridSearchCV(cv=7, estimator=LinearRegression(),\n",
              "             param_grid={'copy_X': [False, True], 'fit_intercept': [False],\n",
              "                         'n_jobs': [5, 20, 30], 'positive': [True]},\n",
              "             scoring='r2', verbose=1)"
            ]
          },
          "metadata": {},
          "execution_count": 80
        }
      ],
      "id": "B81rFd3v9wuI"
    },
    {
      "cell_type": "code",
      "source": [
        "lrt.best_score_"
      ],
      "metadata": {
        "colab": {
          "base_uri": "https://localhost:8080/"
        },
        "id": "RbNgYyww9wuI",
        "outputId": "bd5f266f-c950-48c5-9cf9-f0324df8d115"
      },
      "execution_count": 81,
      "outputs": [
        {
          "output_type": "execute_result",
          "data": {
            "text/plain": [
              "0.24094259460707906"
            ]
          },
          "metadata": {},
          "execution_count": 81
        }
      ],
      "id": "RbNgYyww9wuI"
    },
    {
      "cell_type": "code",
      "source": [
        "lrt.best_params_"
      ],
      "metadata": {
        "colab": {
          "base_uri": "https://localhost:8080/"
        },
        "id": "gpPKFp2h9wuJ",
        "outputId": "d948733c-e296-47d0-e914-c432dec3b95e"
      },
      "execution_count": 82,
      "outputs": [
        {
          "output_type": "execute_result",
          "data": {
            "text/plain": [
              "{'copy_X': False, 'fit_intercept': False, 'n_jobs': 5, 'positive': True}"
            ]
          },
          "metadata": {},
          "execution_count": 82
        }
      ],
      "id": "gpPKFp2h9wuJ"
    },
    {
      "cell_type": "markdown",
      "source": [
        "### 2. ridge regression "
      ],
      "metadata": {
        "id": "x8YUENh09wuJ"
      },
      "id": "x8YUENh09wuJ"
    },
    {
      "cell_type": "code",
      "source": [
        "ridge=Ridge()\n",
        "ridge.get_params()\n",
        "ridge.fit(x_train,y_train)\n",
        "y_pred_ridge=ridge.predict(x_test)"
      ],
      "metadata": {
        "id": "7B-1FhDb9wuJ"
      },
      "execution_count": 83,
      "outputs": [],
      "id": "7B-1FhDb9wuJ"
    },
    {
      "cell_type": "code",
      "source": [
        "r_2=r2_score(y_test,y_pred_ridge)\n",
        "r_2"
      ],
      "metadata": {
        "colab": {
          "base_uri": "https://localhost:8080/"
        },
        "id": "_mmBnOUI9wuJ",
        "outputId": "ab8ddee3-fe52-4101-9cf4-a16a4ec7a67e"
      },
      "execution_count": 84,
      "outputs": [
        {
          "output_type": "execute_result",
          "data": {
            "text/plain": [
              "0.595676522844743"
            ]
          },
          "metadata": {},
          "execution_count": 84
        }
      ],
      "id": "_mmBnOUI9wuJ"
    },
    {
      "cell_type": "markdown",
      "source": [
        "### using gridsearchcv to improve r2 score"
      ],
      "metadata": {
        "id": "DCkc7_0F9wuJ"
      },
      "id": "DCkc7_0F9wuJ"
    },
    {
      "cell_type": "code",
      "source": [
        "ridge.get_params()"
      ],
      "metadata": {
        "colab": {
          "base_uri": "https://localhost:8080/"
        },
        "id": "ADl7APnc9wuK",
        "outputId": "88846205-c502-4510-a997-7c868afcac76"
      },
      "execution_count": 85,
      "outputs": [
        {
          "output_type": "execute_result",
          "data": {
            "text/plain": [
              "{'alpha': 1.0,\n",
              " 'copy_X': True,\n",
              " 'fit_intercept': True,\n",
              " 'max_iter': None,\n",
              " 'normalize': 'deprecated',\n",
              " 'positive': False,\n",
              " 'random_state': None,\n",
              " 'solver': 'auto',\n",
              " 'tol': 0.001}"
            ]
          },
          "metadata": {},
          "execution_count": 85
        }
      ],
      "id": "ADl7APnc9wuK"
    },
    {
      "cell_type": "code",
      "source": [
        "params={\"max_iter\":[3,5,20],\"positive\":[True,False],\"fit_intercept\":[True,False],\"copy_X\":[True,False],\"random_state\":[10,20,30,45],\"tol\":[0.0003,0.0005,0.0002,0.0001],\"alpha\":[1.0,2.0,4.0,5.0]}\n",
        "ridgetu=GridSearchCV(ridge,params,cv=4,verbose=1,n_jobs=20,scoring='r2')\n",
        "ridgetu.fit(x_train,y_train)"
      ],
      "metadata": {
        "scrolled": true,
        "colab": {
          "base_uri": "https://localhost:8080/"
        },
        "id": "TI4_MXFk9wuK",
        "outputId": "88e8384b-f744-4f5a-8f07-8e747aa7d934"
      },
      "execution_count": 86,
      "outputs": [
        {
          "output_type": "stream",
          "name": "stdout",
          "text": [
            "Fitting 4 folds for each of 1536 candidates, totalling 6144 fits\n"
          ]
        },
        {
          "output_type": "execute_result",
          "data": {
            "text/plain": [
              "GridSearchCV(cv=4, estimator=Ridge(), n_jobs=20,\n",
              "             param_grid={'alpha': [1.0, 2.0, 4.0, 5.0], 'copy_X': [True, False],\n",
              "                         'fit_intercept': [True, False], 'max_iter': [3, 5, 20],\n",
              "                         'positive': [True, False],\n",
              "                         'random_state': [10, 20, 30, 45],\n",
              "                         'tol': [0.0003, 0.0005, 0.0002, 0.0001]},\n",
              "             scoring='r2', verbose=1)"
            ]
          },
          "metadata": {},
          "execution_count": 86
        }
      ],
      "id": "TI4_MXFk9wuK"
    },
    {
      "cell_type": "code",
      "source": [
        "ridgetu.best_score_"
      ],
      "metadata": {
        "scrolled": true,
        "colab": {
          "base_uri": "https://localhost:8080/"
        },
        "id": "7guaw_DQ9wuK",
        "outputId": "a35b0c26-d776-4854-cbef-52f3a926bc85"
      },
      "execution_count": 87,
      "outputs": [
        {
          "output_type": "execute_result",
          "data": {
            "text/plain": [
              "0.6070953441219368"
            ]
          },
          "metadata": {},
          "execution_count": 87
        }
      ],
      "id": "7guaw_DQ9wuK"
    },
    {
      "cell_type": "code",
      "source": [
        "ridgetu.best_params_"
      ],
      "metadata": {
        "colab": {
          "base_uri": "https://localhost:8080/"
        },
        "id": "upVYp2S19wuK",
        "outputId": "07deca52-6ac6-4640-cd77-dc0756d1efb7"
      },
      "execution_count": 88,
      "outputs": [
        {
          "output_type": "execute_result",
          "data": {
            "text/plain": [
              "{'alpha': 5.0,\n",
              " 'copy_X': True,\n",
              " 'fit_intercept': True,\n",
              " 'max_iter': 3,\n",
              " 'positive': False,\n",
              " 'random_state': 10,\n",
              " 'tol': 0.0003}"
            ]
          },
          "metadata": {},
          "execution_count": 88
        }
      ],
      "id": "upVYp2S19wuK"
    },
    {
      "cell_type": "markdown",
      "source": [
        "## 3. lasso regression "
      ],
      "metadata": {
        "id": "QRE21Ifz9wuK"
      },
      "id": "QRE21Ifz9wuK"
    },
    {
      "cell_type": "code",
      "source": [
        "lasso=Lasso()\n",
        "lasso.fit(x_train,y_train)"
      ],
      "metadata": {
        "colab": {
          "base_uri": "https://localhost:8080/"
        },
        "id": "m_bIfctZ9wuL",
        "outputId": "b95d4898-ee8d-43a5-a255-57227c3b345a"
      },
      "execution_count": 89,
      "outputs": [
        {
          "output_type": "execute_result",
          "data": {
            "text/plain": [
              "Lasso()"
            ]
          },
          "metadata": {},
          "execution_count": 89
        }
      ],
      "id": "m_bIfctZ9wuL"
    },
    {
      "cell_type": "code",
      "source": [
        "y_pred_lasso = lasso.predict(x_test)"
      ],
      "metadata": {
        "id": "_2q3L9bq9wuL"
      },
      "execution_count": 90,
      "outputs": [],
      "id": "_2q3L9bq9wuL"
    },
    {
      "cell_type": "code",
      "source": [
        "r_2=r2_score(y_test,y_pred_lasso)\n",
        "r_2"
      ],
      "metadata": {
        "colab": {
          "base_uri": "https://localhost:8080/"
        },
        "id": "GepobsbJ9wuL",
        "outputId": "0b04e379-51b0-4b12-8642-0712ac2d6d4a"
      },
      "execution_count": 91,
      "outputs": [
        {
          "output_type": "execute_result",
          "data": {
            "text/plain": [
              "0.48015619366575124"
            ]
          },
          "metadata": {},
          "execution_count": 91
        }
      ],
      "id": "GepobsbJ9wuL"
    },
    {
      "cell_type": "markdown",
      "source": [
        "### using gridsearchcv to improve r2 score "
      ],
      "metadata": {
        "id": "aE_w9fZK9wuL"
      },
      "id": "aE_w9fZK9wuL"
    },
    {
      "cell_type": "code",
      "source": [
        "lasso.get_params()"
      ],
      "metadata": {
        "colab": {
          "base_uri": "https://localhost:8080/"
        },
        "id": "nqN-98iI9wuL",
        "outputId": "0c071de6-3a12-4c2c-8936-6ac11382fb66"
      },
      "execution_count": 92,
      "outputs": [
        {
          "output_type": "execute_result",
          "data": {
            "text/plain": [
              "{'alpha': 1.0,\n",
              " 'copy_X': True,\n",
              " 'fit_intercept': True,\n",
              " 'max_iter': 1000,\n",
              " 'normalize': 'deprecated',\n",
              " 'positive': False,\n",
              " 'precompute': False,\n",
              " 'random_state': None,\n",
              " 'selection': 'cyclic',\n",
              " 'tol': 0.0001,\n",
              " 'warm_start': False}"
            ]
          },
          "metadata": {},
          "execution_count": 92
        }
      ],
      "id": "nqN-98iI9wuL"
    },
    {
      "cell_type": "code",
      "source": [
        "params={\"alpha\":[1.0,2.0,3.0,4.0],\"max_iter\":[100,500,1000],\"random_state\":[30,45],\"fit_intercept\":[True,False],\"copy_X\":[True,False],\"positive\":[True,False],\"precompute\":[True,False],\"tol\":[0.0003,0.0005,0.0002,0.0001]}\n",
        "lass=GridSearchCV(lasso,params,cv=4,n_jobs=20,scoring='r2')\n",
        "lass.fit(x_train,y_train)"
      ],
      "metadata": {
        "colab": {
          "base_uri": "https://localhost:8080/"
        },
        "id": "nwrTDkpp9wuM",
        "outputId": "8254558d-88b8-4715-ec5a-4f2e1a43bbf9"
      },
      "execution_count": 93,
      "outputs": [
        {
          "output_type": "execute_result",
          "data": {
            "text/plain": [
              "GridSearchCV(cv=4, estimator=Lasso(), n_jobs=20,\n",
              "             param_grid={'alpha': [1.0, 2.0, 3.0, 4.0], 'copy_X': [True, False],\n",
              "                         'fit_intercept': [True, False],\n",
              "                         'max_iter': [100, 500, 1000],\n",
              "                         'positive': [True, False], 'precompute': [True, False],\n",
              "                         'random_state': [30, 45],\n",
              "                         'tol': [0.0003, 0.0005, 0.0002, 0.0001]},\n",
              "             scoring='r2')"
            ]
          },
          "metadata": {},
          "execution_count": 93
        }
      ],
      "id": "nwrTDkpp9wuM"
    },
    {
      "cell_type": "code",
      "source": [
        "lass.best_score_"
      ],
      "metadata": {
        "colab": {
          "base_uri": "https://localhost:8080/"
        },
        "id": "QDGMC8qZ9wuM",
        "outputId": "722092e3-5434-4ee0-8d1a-f0351b6d7c40"
      },
      "execution_count": 94,
      "outputs": [
        {
          "output_type": "execute_result",
          "data": {
            "text/plain": [
              "0.48653717075366076"
            ]
          },
          "metadata": {},
          "execution_count": 94
        }
      ],
      "id": "QDGMC8qZ9wuM"
    },
    {
      "cell_type": "code",
      "source": [
        "lass.best_params_"
      ],
      "metadata": {
        "colab": {
          "base_uri": "https://localhost:8080/"
        },
        "id": "27Szf9pq9wuM",
        "outputId": "350da34e-3677-48a2-90a5-53a345bb725c"
      },
      "execution_count": 95,
      "outputs": [
        {
          "output_type": "execute_result",
          "data": {
            "text/plain": [
              "{'alpha': 1.0,\n",
              " 'copy_X': True,\n",
              " 'fit_intercept': True,\n",
              " 'max_iter': 100,\n",
              " 'positive': False,\n",
              " 'precompute': True,\n",
              " 'random_state': 30,\n",
              " 'tol': 0.0001}"
            ]
          },
          "metadata": {},
          "execution_count": 95
        }
      ],
      "id": "27Szf9pq9wuM"
    },
    {
      "cell_type": "markdown",
      "source": [
        "# 4. adaboost regressor"
      ],
      "metadata": {
        "id": "_r6LVaXS9wuM"
      },
      "id": "_r6LVaXS9wuM"
    },
    {
      "cell_type": "code",
      "source": [
        "ada=AdaBoostRegressor()"
      ],
      "metadata": {
        "id": "u2dibhRW9wuN"
      },
      "execution_count": 96,
      "outputs": [],
      "id": "u2dibhRW9wuN"
    },
    {
      "cell_type": "code",
      "source": [
        "ada.fit(x_train,y_train)"
      ],
      "metadata": {
        "colab": {
          "base_uri": "https://localhost:8080/"
        },
        "id": "q5v3Uxl99wuN",
        "outputId": "fe010c2f-f661-44bc-8427-6a70a9f37d96"
      },
      "execution_count": 97,
      "outputs": [
        {
          "output_type": "execute_result",
          "data": {
            "text/plain": [
              "AdaBoostRegressor()"
            ]
          },
          "metadata": {},
          "execution_count": 97
        }
      ],
      "id": "q5v3Uxl99wuN"
    },
    {
      "cell_type": "code",
      "source": [
        "y_pred_adb = ada.predict(x_test)"
      ],
      "metadata": {
        "id": "P5eQKQLJ9wuN"
      },
      "execution_count": 98,
      "outputs": [],
      "id": "P5eQKQLJ9wuN"
    },
    {
      "cell_type": "code",
      "source": [
        "r_2=r2_score(y_test,y_pred_adb)\n",
        "r_2"
      ],
      "metadata": {
        "colab": {
          "base_uri": "https://localhost:8080/"
        },
        "id": "JCNqbiph9wuN",
        "outputId": "038618e1-2f28-4c20-d6b9-ac057e4248ad"
      },
      "execution_count": 99,
      "outputs": [
        {
          "output_type": "execute_result",
          "data": {
            "text/plain": [
              "0.6325731963223564"
            ]
          },
          "metadata": {},
          "execution_count": 99
        }
      ],
      "id": "JCNqbiph9wuN"
    },
    {
      "cell_type": "markdown",
      "source": [
        "### using gridsearchcv to improve r2 score"
      ],
      "metadata": {
        "id": "QPubcgVi9wuN"
      },
      "id": "QPubcgVi9wuN"
    },
    {
      "cell_type": "code",
      "source": [
        "ada.get_params()"
      ],
      "metadata": {
        "scrolled": true,
        "colab": {
          "base_uri": "https://localhost:8080/"
        },
        "id": "klrX79H99wuO",
        "outputId": "3d1ec734-348f-492f-9d47-c4da49170fe4"
      },
      "execution_count": 100,
      "outputs": [
        {
          "output_type": "execute_result",
          "data": {
            "text/plain": [
              "{'base_estimator': None,\n",
              " 'learning_rate': 1.0,\n",
              " 'loss': 'linear',\n",
              " 'n_estimators': 50,\n",
              " 'random_state': None}"
            ]
          },
          "metadata": {},
          "execution_count": 100
        }
      ],
      "id": "klrX79H99wuO"
    },
    {
      "cell_type": "code",
      "source": [
        "params={\"learning_rate\":[1.0,2.0,3.0,4.0],\"random_state\":[30,45,60,64],'n_estimators':[3,5,10,20,30,40,50,70]}\n",
        "adat=GridSearchCV(ada,params,cv=3,n_jobs=5,verbose=1,scoring='r2')\n",
        "adat.fit(x_train,y_train)"
      ],
      "metadata": {
        "scrolled": true,
        "colab": {
          "base_uri": "https://localhost:8080/"
        },
        "id": "ltz_sZ3J9wuO",
        "outputId": "7caa0456-5cc7-447e-cbda-ce7bfb61c003"
      },
      "execution_count": 101,
      "outputs": [
        {
          "output_type": "stream",
          "name": "stdout",
          "text": [
            "Fitting 3 folds for each of 128 candidates, totalling 384 fits\n"
          ]
        },
        {
          "output_type": "execute_result",
          "data": {
            "text/plain": [
              "GridSearchCV(cv=3, estimator=AdaBoostRegressor(), n_jobs=5,\n",
              "             param_grid={'learning_rate': [1.0, 2.0, 3.0, 4.0],\n",
              "                         'n_estimators': [3, 5, 10, 20, 30, 40, 50, 70],\n",
              "                         'random_state': [30, 45, 60, 64]},\n",
              "             scoring='r2', verbose=1)"
            ]
          },
          "metadata": {},
          "execution_count": 101
        }
      ],
      "id": "ltz_sZ3J9wuO"
    },
    {
      "cell_type": "code",
      "source": [
        "adat.best_score_"
      ],
      "metadata": {
        "colab": {
          "base_uri": "https://localhost:8080/"
        },
        "id": "jIPadMXa9wuO",
        "outputId": "b3463431-fd4d-4093-8879-932cf05446d3"
      },
      "execution_count": 102,
      "outputs": [
        {
          "output_type": "execute_result",
          "data": {
            "text/plain": [
              "0.652097756607407"
            ]
          },
          "metadata": {},
          "execution_count": 102
        }
      ],
      "id": "jIPadMXa9wuO"
    },
    {
      "cell_type": "code",
      "source": [
        "adat.best_params_"
      ],
      "metadata": {
        "colab": {
          "base_uri": "https://localhost:8080/"
        },
        "id": "jEUvDjIQ9wuO",
        "outputId": "ca8430d7-a22d-4496-8447-de8477520e34"
      },
      "execution_count": 103,
      "outputs": [
        {
          "output_type": "execute_result",
          "data": {
            "text/plain": [
              "{'learning_rate': 1.0, 'n_estimators': 10, 'random_state': 30}"
            ]
          },
          "metadata": {},
          "execution_count": 103
        }
      ],
      "id": "jEUvDjIQ9wuO"
    },
    {
      "cell_type": "markdown",
      "source": [
        "## 5. decision tree regressor "
      ],
      "metadata": {
        "id": "fcaWxWHz9wuP"
      },
      "id": "fcaWxWHz9wuP"
    },
    {
      "cell_type": "code",
      "source": [
        "dtcr=DecisionTreeRegressor()\n",
        "dtcr.fit(x_train,y_train)\n"
      ],
      "metadata": {
        "colab": {
          "base_uri": "https://localhost:8080/"
        },
        "id": "WGLez79O9wuP",
        "outputId": "52bd7031-9022-4f3a-eb27-edc622a0b12c"
      },
      "execution_count": 104,
      "outputs": [
        {
          "output_type": "execute_result",
          "data": {
            "text/plain": [
              "DecisionTreeRegressor()"
            ]
          },
          "metadata": {},
          "execution_count": 104
        }
      ],
      "id": "WGLez79O9wuP"
    },
    {
      "cell_type": "code",
      "source": [
        "y_pred_dtcr=dtcr.predict(x_test)"
      ],
      "metadata": {
        "id": "cPKtMlO79wuP"
      },
      "execution_count": 105,
      "outputs": [],
      "id": "cPKtMlO79wuP"
    },
    {
      "cell_type": "code",
      "source": [
        "r2=r2_score(y_test,y_pred_dtcr)\n",
        "r2"
      ],
      "metadata": {
        "colab": {
          "base_uri": "https://localhost:8080/"
        },
        "id": "m5GVQ0SK9wuP",
        "outputId": "23042882-febb-4943-830e-e4f6e028c7b2"
      },
      "execution_count": 106,
      "outputs": [
        {
          "output_type": "execute_result",
          "data": {
            "text/plain": [
              "0.740222081184422"
            ]
          },
          "metadata": {},
          "execution_count": 106
        }
      ],
      "id": "m5GVQ0SK9wuP"
    },
    {
      "cell_type": "markdown",
      "source": [
        "### using gridsearchcv to improve r2 score  "
      ],
      "metadata": {
        "id": "nd0wi3j09wuP"
      },
      "id": "nd0wi3j09wuP"
    },
    {
      "cell_type": "code",
      "source": [
        "dtcr.get_params()"
      ],
      "metadata": {
        "colab": {
          "base_uri": "https://localhost:8080/"
        },
        "id": "g7MCMY_29wuQ",
        "outputId": "12896013-62ce-4d77-92fd-c5e974f693a9"
      },
      "execution_count": 107,
      "outputs": [
        {
          "output_type": "execute_result",
          "data": {
            "text/plain": [
              "{'ccp_alpha': 0.0,\n",
              " 'criterion': 'squared_error',\n",
              " 'max_depth': None,\n",
              " 'max_features': None,\n",
              " 'max_leaf_nodes': None,\n",
              " 'min_impurity_decrease': 0.0,\n",
              " 'min_samples_leaf': 1,\n",
              " 'min_samples_split': 2,\n",
              " 'min_weight_fraction_leaf': 0.0,\n",
              " 'random_state': None,\n",
              " 'splitter': 'best'}"
            ]
          },
          "metadata": {},
          "execution_count": 107
        }
      ],
      "id": "g7MCMY_29wuQ"
    },
    {
      "cell_type": "code",
      "source": [
        "params={\"max_depth\":[10,20,30,40],\"random_state\":[20,40],'min_impurity_decrease':[1,2,3,4],\"min_samples_leaf\":[1,2,3,4,5],\"min_samples_split\":[2,3,4,5,6],\"ccp_alpha\":[0.5,0.6,0.7]}\n",
        "dtcrt=GridSearchCV(dtcr,params,cv=5,n_jobs=5,verbose=1,scoring='r2')\n",
        "dtcrt.fit(x_train,y_train)"
      ],
      "metadata": {
        "colab": {
          "base_uri": "https://localhost:8080/"
        },
        "id": "dN1b3BCA9wuQ",
        "outputId": "87a6f073-02c7-49b7-943d-d5a7300c601f"
      },
      "execution_count": 108,
      "outputs": [
        {
          "output_type": "stream",
          "name": "stdout",
          "text": [
            "Fitting 5 folds for each of 2400 candidates, totalling 12000 fits\n"
          ]
        },
        {
          "output_type": "execute_result",
          "data": {
            "text/plain": [
              "GridSearchCV(cv=5, estimator=DecisionTreeRegressor(), n_jobs=5,\n",
              "             param_grid={'ccp_alpha': [0.5, 0.6, 0.7],\n",
              "                         'max_depth': [10, 20, 30, 40],\n",
              "                         'min_impurity_decrease': [1, 2, 3, 4],\n",
              "                         'min_samples_leaf': [1, 2, 3, 4, 5],\n",
              "                         'min_samples_split': [2, 3, 4, 5, 6],\n",
              "                         'random_state': [20, 40]},\n",
              "             scoring='r2', verbose=1)"
            ]
          },
          "metadata": {},
          "execution_count": 108
        }
      ],
      "id": "dN1b3BCA9wuQ"
    },
    {
      "cell_type": "code",
      "source": [
        "dtcrt.best_params_"
      ],
      "metadata": {
        "colab": {
          "base_uri": "https://localhost:8080/"
        },
        "id": "Jz-xNQ3s9wuR",
        "outputId": "3afd3793-0954-4319-d779-cba2bbebc110"
      },
      "execution_count": 109,
      "outputs": [
        {
          "output_type": "execute_result",
          "data": {
            "text/plain": [
              "{'ccp_alpha': 0.5,\n",
              " 'max_depth': 10,\n",
              " 'min_impurity_decrease': 3,\n",
              " 'min_samples_leaf': 1,\n",
              " 'min_samples_split': 5,\n",
              " 'random_state': 40}"
            ]
          },
          "metadata": {},
          "execution_count": 109
        }
      ],
      "id": "Jz-xNQ3s9wuR"
    },
    {
      "cell_type": "code",
      "source": [
        "dtcrt.best_score_"
      ],
      "metadata": {
        "colab": {
          "base_uri": "https://localhost:8080/"
        },
        "id": "M4JpTpny9wuR",
        "outputId": "5c96311f-b2ff-4cb7-8a32-c0111b1fe2c6"
      },
      "execution_count": 110,
      "outputs": [
        {
          "output_type": "execute_result",
          "data": {
            "text/plain": [
              "0.6491684757048557"
            ]
          },
          "metadata": {},
          "execution_count": 110
        }
      ],
      "id": "M4JpTpny9wuR"
    },
    {
      "cell_type": "markdown",
      "source": [
        "# 6. random forest regressor"
      ],
      "metadata": {
        "id": "WYP0YuLh9wuS"
      },
      "id": "WYP0YuLh9wuS"
    },
    {
      "cell_type": "code",
      "source": [
        "rfr= RandomForestRegressor()\n",
        "rfr.fit(x_train,y_train)\n"
      ],
      "metadata": {
        "colab": {
          "base_uri": "https://localhost:8080/"
        },
        "id": "Jn42iyAg9wuS",
        "outputId": "568e012d-5198-4124-e229-3f3cfb3f6d44"
      },
      "execution_count": 111,
      "outputs": [
        {
          "output_type": "execute_result",
          "data": {
            "text/plain": [
              "RandomForestRegressor()"
            ]
          },
          "metadata": {},
          "execution_count": 111
        }
      ],
      "id": "Jn42iyAg9wuS"
    },
    {
      "cell_type": "code",
      "source": [
        "y_pred_rf=rfr.predict(x_test)"
      ],
      "metadata": {
        "id": "2buwNyih9wuT"
      },
      "execution_count": 112,
      "outputs": [],
      "id": "2buwNyih9wuT"
    },
    {
      "cell_type": "code",
      "source": [
        "r2=r2_score(y_test,y_pred_rf)\n",
        "r2"
      ],
      "metadata": {
        "colab": {
          "base_uri": "https://localhost:8080/"
        },
        "id": "a-tODMrx9wuT",
        "outputId": "dda1df7d-0f6d-4e1f-b3bd-3be53e30daff"
      },
      "execution_count": 113,
      "outputs": [
        {
          "output_type": "execute_result",
          "data": {
            "text/plain": [
              "0.8124553271989181"
            ]
          },
          "metadata": {},
          "execution_count": 113
        }
      ],
      "id": "a-tODMrx9wuT"
    },
    {
      "cell_type": "markdown",
      "source": [
        "### using gridsearchcv to improve r2 score"
      ],
      "metadata": {
        "id": "zGtWttFf9wuT"
      },
      "id": "zGtWttFf9wuT"
    },
    {
      "cell_type": "code",
      "source": [
        "params={\"max_depth\":[100,200],\"min_samples_split\":[3,5],\"min_impurity_decrease\":[0.5,1.0],\n",
        "        \"n_estimators\":[200,500],\"random_state\":[10,20,40],\"bootstrap\":[True],\"oob_score\":[True]}\n",
        "rfrt=GridSearchCV(rfr,params,cv=5,n_jobs=20,verbose=1,scoring=\"r2\")\n",
        "rfrt.fit(x_train,y_train)"
      ],
      "metadata": {
        "colab": {
          "base_uri": "https://localhost:8080/"
        },
        "id": "UWPBpzDV9wuU",
        "outputId": "c315f9c0-1860-4601-94a6-4141f5b779c1"
      },
      "execution_count": 114,
      "outputs": [
        {
          "output_type": "stream",
          "name": "stdout",
          "text": [
            "Fitting 5 folds for each of 48 candidates, totalling 240 fits\n"
          ]
        },
        {
          "output_type": "execute_result",
          "data": {
            "text/plain": [
              "GridSearchCV(cv=5, estimator=RandomForestRegressor(), n_jobs=20,\n",
              "             param_grid={'bootstrap': [True], 'max_depth': [100, 200],\n",
              "                         'min_impurity_decrease': [0.5, 1.0],\n",
              "                         'min_samples_split': [3, 5],\n",
              "                         'n_estimators': [200, 500], 'oob_score': [True],\n",
              "                         'random_state': [10, 20, 40]},\n",
              "             scoring='r2', verbose=1)"
            ]
          },
          "metadata": {},
          "execution_count": 114
        }
      ],
      "id": "UWPBpzDV9wuU"
    },
    {
      "cell_type": "code",
      "source": [
        "rfrt.best_params_"
      ],
      "metadata": {
        "colab": {
          "base_uri": "https://localhost:8080/"
        },
        "id": "ODNF3-6h9wuU",
        "outputId": "2339a6f6-c795-41f4-c0a2-5af78cc414f3"
      },
      "execution_count": 115,
      "outputs": [
        {
          "output_type": "execute_result",
          "data": {
            "text/plain": [
              "{'bootstrap': True,\n",
              " 'max_depth': 100,\n",
              " 'min_impurity_decrease': 0.5,\n",
              " 'min_samples_split': 3,\n",
              " 'n_estimators': 500,\n",
              " 'oob_score': True,\n",
              " 'random_state': 20}"
            ]
          },
          "metadata": {},
          "execution_count": 115
        }
      ],
      "id": "ODNF3-6h9wuU"
    },
    {
      "cell_type": "code",
      "source": [
        "rfrt.best_score_"
      ],
      "metadata": {
        "colab": {
          "base_uri": "https://localhost:8080/"
        },
        "id": "o_A5_a6r9wuU",
        "outputId": "7c9eda98-6493-43e4-e517-ba84fd5cf784"
      },
      "execution_count": 116,
      "outputs": [
        {
          "output_type": "execute_result",
          "data": {
            "text/plain": [
              "0.7255391911131108"
            ]
          },
          "metadata": {},
          "execution_count": 116
        }
      ],
      "id": "o_A5_a6r9wuU"
    },
    {
      "cell_type": "markdown",
      "source": [
        "### As we can see that even if we try our best parameters we are getting less accuracy as compared to our default accuracy score"
      ],
      "metadata": {
        "id": "QQ3BWQ219wuV"
      },
      "id": "QQ3BWQ219wuV"
    },
    {
      "cell_type": "markdown",
      "source": [
        "# Accuracy of all the models:\n",
        "\n",
        "1. linear regression = 0.24\n",
        "2. Ridge regression = 0.60\n",
        "3. lasso regression = 0.48\n",
        "4. Adaboost regression = 0.65\n",
        "5. decision tree regressor = 0.64\n",
        "6. Random forest regressor = 0.80 (Before grid search cv)"
      ],
      "metadata": {
        "id": "Ry4Wsze29wuV"
      },
      "id": "Ry4Wsze29wuV"
    }
  ]
}