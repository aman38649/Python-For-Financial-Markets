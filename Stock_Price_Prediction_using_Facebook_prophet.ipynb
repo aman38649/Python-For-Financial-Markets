{
  "nbformat": 4,
  "nbformat_minor": 0,
  "metadata": {
    "colab": {
      "name": "Stock_Price_Prediction_using_fbprophet.ipynb",
      "provenance": [],
      "collapsed_sections": []
    },
    "kernelspec": {
      "name": "python3",
      "display_name": "Python 3"
    },
    "language_info": {
      "name": "python"
    }
  },
  "cells": [
    {
      "cell_type": "code",
      "execution_count": 1,
      "metadata": {
        "id": "bINq1CxBhpXO"
      },
      "outputs": [],
      "source": [
        "!pip install prophet --quiet"
      ]
    },
    {
      "cell_type": "code",
      "source": [
        "!pip install --upgrade pandas-datareader --quiet"
      ],
      "metadata": {
        "id": "8JGIEAXEkWqo"
      },
      "execution_count": 2,
      "outputs": []
    },
    {
      "cell_type": "code",
      "source": [
        "!pip install --upgrade pandas --quiet"
      ],
      "metadata": {
        "id": "SbX32todkasO"
      },
      "execution_count": 3,
      "outputs": []
    },
    {
      "cell_type": "markdown",
      "source": [
        "#Predicting stock prices with Facebook's prediction tool: fbprophet"
      ],
      "metadata": {
        "id": "P8zwvOUyigxm"
      }
    },
    {
      "cell_type": "code",
      "source": [
        "import pandas_datareader as reader\n",
        "import datetime as dt\n",
        "import matplotlib.pyplot as plt\n",
        "import tqdm as notebook_tqdm\n",
        "\n",
        "import warnings\n",
        "\n",
        "warnings.simplefilter(action=\"ignore\", category=FutureWarning)\n",
        "%matplotlib inline"
      ],
      "metadata": {
        "id": "NZ0ktF0Yiat9"
      },
      "execution_count": 4,
      "outputs": []
    },
    {
      "cell_type": "markdown",
      "source": [
        "## Amazon Price Forecast (AMZN)"
      ],
      "metadata": {
        "id": "i1uR6G78izQZ"
      }
    },
    {
      "cell_type": "code",
      "source": [
        "# Get twenty years of history\n",
        "end_date = dt.datetime.now()\n",
        "start_date = dt.datetime(end_date.year - 20, end_date.month, end_date.day)"
      ],
      "metadata": {
        "id": "fhUnTKaqigLn"
      },
      "execution_count": 5,
      "outputs": []
    },
    {
      "cell_type": "code",
      "source": [
        "print(\"Start Date:\",start_date)\n",
        "print(\"End Date:\",end_date)"
      ],
      "metadata": {
        "colab": {
          "base_uri": "https://localhost:8080/"
        },
        "id": "IhJ5tRQfjlOJ",
        "outputId": "905d4408-6d4f-4c0c-824a-4719c8e60896"
      },
      "execution_count": 6,
      "outputs": [
        {
          "output_type": "stream",
          "name": "stdout",
          "text": [
            "Start Date: 2002-08-01 00:00:00\n",
            "End Date: 2022-08-01 13:22:17.153260\n"
          ]
        }
      ]
    },
    {
      "cell_type": "code",
      "source": [
        "!pip install --upgrade pandas-datareader --quiet"
      ],
      "metadata": {
        "id": "UxKHDh1vkHH5"
      },
      "execution_count": 7,
      "outputs": []
    },
    {
      "cell_type": "code",
      "source": [
        "df = reader.get_data_yahoo('AMZN', start_date, end_date)\n",
        "df.head()"
      ],
      "metadata": {
        "colab": {
          "base_uri": "https://localhost:8080/",
          "height": 237
        },
        "id": "bxjeLLIIjo6Y",
        "outputId": "1238a1dc-54b4-4c22-be9b-8653669fb640"
      },
      "execution_count": 8,
      "outputs": [
        {
          "output_type": "execute_result",
          "data": {
            "text/plain": [
              "              High     Low    Open   Close       Volume  Adj Close\n",
              "Date                                                              \n",
              "2002-08-01  0.7250  0.6995  0.7155  0.7080  121336000.0     0.7080\n",
              "2002-08-02  0.7070  0.6725  0.7065  0.6920   83572000.0     0.6920\n",
              "2002-08-05  0.6895  0.6390  0.6825  0.6435   77146000.0     0.6435\n",
              "2002-08-06  0.6950  0.6570  0.6635  0.6870   94038000.0     0.6870\n",
              "2002-08-07  0.6970  0.6425  0.6965  0.6800  111114000.0     0.6800"
            ],
            "text/html": [
              "\n",
              "  <div id=\"df-99c1f5e9-34d4-4494-9e72-c7be407267fa\">\n",
              "    <div class=\"colab-df-container\">\n",
              "      <div>\n",
              "<style scoped>\n",
              "    .dataframe tbody tr th:only-of-type {\n",
              "        vertical-align: middle;\n",
              "    }\n",
              "\n",
              "    .dataframe tbody tr th {\n",
              "        vertical-align: top;\n",
              "    }\n",
              "\n",
              "    .dataframe thead th {\n",
              "        text-align: right;\n",
              "    }\n",
              "</style>\n",
              "<table border=\"1\" class=\"dataframe\">\n",
              "  <thead>\n",
              "    <tr style=\"text-align: right;\">\n",
              "      <th></th>\n",
              "      <th>High</th>\n",
              "      <th>Low</th>\n",
              "      <th>Open</th>\n",
              "      <th>Close</th>\n",
              "      <th>Volume</th>\n",
              "      <th>Adj Close</th>\n",
              "    </tr>\n",
              "    <tr>\n",
              "      <th>Date</th>\n",
              "      <th></th>\n",
              "      <th></th>\n",
              "      <th></th>\n",
              "      <th></th>\n",
              "      <th></th>\n",
              "      <th></th>\n",
              "    </tr>\n",
              "  </thead>\n",
              "  <tbody>\n",
              "    <tr>\n",
              "      <th>2002-08-01</th>\n",
              "      <td>0.7250</td>\n",
              "      <td>0.6995</td>\n",
              "      <td>0.7155</td>\n",
              "      <td>0.7080</td>\n",
              "      <td>121336000.0</td>\n",
              "      <td>0.7080</td>\n",
              "    </tr>\n",
              "    <tr>\n",
              "      <th>2002-08-02</th>\n",
              "      <td>0.7070</td>\n",
              "      <td>0.6725</td>\n",
              "      <td>0.7065</td>\n",
              "      <td>0.6920</td>\n",
              "      <td>83572000.0</td>\n",
              "      <td>0.6920</td>\n",
              "    </tr>\n",
              "    <tr>\n",
              "      <th>2002-08-05</th>\n",
              "      <td>0.6895</td>\n",
              "      <td>0.6390</td>\n",
              "      <td>0.6825</td>\n",
              "      <td>0.6435</td>\n",
              "      <td>77146000.0</td>\n",
              "      <td>0.6435</td>\n",
              "    </tr>\n",
              "    <tr>\n",
              "      <th>2002-08-06</th>\n",
              "      <td>0.6950</td>\n",
              "      <td>0.6570</td>\n",
              "      <td>0.6635</td>\n",
              "      <td>0.6870</td>\n",
              "      <td>94038000.0</td>\n",
              "      <td>0.6870</td>\n",
              "    </tr>\n",
              "    <tr>\n",
              "      <th>2002-08-07</th>\n",
              "      <td>0.6970</td>\n",
              "      <td>0.6425</td>\n",
              "      <td>0.6965</td>\n",
              "      <td>0.6800</td>\n",
              "      <td>111114000.0</td>\n",
              "      <td>0.6800</td>\n",
              "    </tr>\n",
              "  </tbody>\n",
              "</table>\n",
              "</div>\n",
              "      <button class=\"colab-df-convert\" onclick=\"convertToInteractive('df-99c1f5e9-34d4-4494-9e72-c7be407267fa')\"\n",
              "              title=\"Convert this dataframe to an interactive table.\"\n",
              "              style=\"display:none;\">\n",
              "        \n",
              "  <svg xmlns=\"http://www.w3.org/2000/svg\" height=\"24px\"viewBox=\"0 0 24 24\"\n",
              "       width=\"24px\">\n",
              "    <path d=\"M0 0h24v24H0V0z\" fill=\"none\"/>\n",
              "    <path d=\"M18.56 5.44l.94 2.06.94-2.06 2.06-.94-2.06-.94-.94-2.06-.94 2.06-2.06.94zm-11 1L8.5 8.5l.94-2.06 2.06-.94-2.06-.94L8.5 2.5l-.94 2.06-2.06.94zm10 10l.94 2.06.94-2.06 2.06-.94-2.06-.94-.94-2.06-.94 2.06-2.06.94z\"/><path d=\"M17.41 7.96l-1.37-1.37c-.4-.4-.92-.59-1.43-.59-.52 0-1.04.2-1.43.59L10.3 9.45l-7.72 7.72c-.78.78-.78 2.05 0 2.83L4 21.41c.39.39.9.59 1.41.59.51 0 1.02-.2 1.41-.59l7.78-7.78 2.81-2.81c.8-.78.8-2.07 0-2.86zM5.41 20L4 18.59l7.72-7.72 1.47 1.35L5.41 20z\"/>\n",
              "  </svg>\n",
              "      </button>\n",
              "      \n",
              "  <style>\n",
              "    .colab-df-container {\n",
              "      display:flex;\n",
              "      flex-wrap:wrap;\n",
              "      gap: 12px;\n",
              "    }\n",
              "\n",
              "    .colab-df-convert {\n",
              "      background-color: #E8F0FE;\n",
              "      border: none;\n",
              "      border-radius: 50%;\n",
              "      cursor: pointer;\n",
              "      display: none;\n",
              "      fill: #1967D2;\n",
              "      height: 32px;\n",
              "      padding: 0 0 0 0;\n",
              "      width: 32px;\n",
              "    }\n",
              "\n",
              "    .colab-df-convert:hover {\n",
              "      background-color: #E2EBFA;\n",
              "      box-shadow: 0px 1px 2px rgba(60, 64, 67, 0.3), 0px 1px 3px 1px rgba(60, 64, 67, 0.15);\n",
              "      fill: #174EA6;\n",
              "    }\n",
              "\n",
              "    [theme=dark] .colab-df-convert {\n",
              "      background-color: #3B4455;\n",
              "      fill: #D2E3FC;\n",
              "    }\n",
              "\n",
              "    [theme=dark] .colab-df-convert:hover {\n",
              "      background-color: #434B5C;\n",
              "      box-shadow: 0px 1px 3px 1px rgba(0, 0, 0, 0.15);\n",
              "      filter: drop-shadow(0px 1px 2px rgba(0, 0, 0, 0.3));\n",
              "      fill: #FFFFFF;\n",
              "    }\n",
              "  </style>\n",
              "\n",
              "      <script>\n",
              "        const buttonEl =\n",
              "          document.querySelector('#df-99c1f5e9-34d4-4494-9e72-c7be407267fa button.colab-df-convert');\n",
              "        buttonEl.style.display =\n",
              "          google.colab.kernel.accessAllowed ? 'block' : 'none';\n",
              "\n",
              "        async function convertToInteractive(key) {\n",
              "          const element = document.querySelector('#df-99c1f5e9-34d4-4494-9e72-c7be407267fa');\n",
              "          const dataTable =\n",
              "            await google.colab.kernel.invokeFunction('convertToInteractive',\n",
              "                                                     [key], {});\n",
              "          if (!dataTable) return;\n",
              "\n",
              "          const docLinkHtml = 'Like what you see? Visit the ' +\n",
              "            '<a target=\"_blank\" href=https://colab.research.google.com/notebooks/data_table.ipynb>data table notebook</a>'\n",
              "            + ' to learn more about interactive tables.';\n",
              "          element.innerHTML = '';\n",
              "          dataTable['output_type'] = 'display_data';\n",
              "          await google.colab.output.renderOutput(dataTable, element);\n",
              "          const docLink = document.createElement('div');\n",
              "          docLink.innerHTML = docLinkHtml;\n",
              "          element.appendChild(docLink);\n",
              "        }\n",
              "      </script>\n",
              "    </div>\n",
              "  </div>\n",
              "  "
            ]
          },
          "metadata": {},
          "execution_count": 8
        }
      ]
    },
    {
      "cell_type": "code",
      "source": [
        "from prophet import Prophet"
      ],
      "metadata": {
        "id": "hr_ipcs5jryO"
      },
      "execution_count": 13,
      "outputs": []
    },
    {
      "cell_type": "code",
      "source": [
        "# Create a new Prophet model\n",
        "model = Prophet()"
      ],
      "metadata": {
        "id": "8KA0rFUJkrtm"
      },
      "execution_count": 17,
      "outputs": []
    },
    {
      "cell_type": "code",
      "source": [
        "model"
      ],
      "metadata": {
        "colab": {
          "base_uri": "https://localhost:8080/"
        },
        "id": "XWpHVGuilG4C",
        "outputId": "767c0949-ecd8-4c9b-9626-e6f37985da99"
      },
      "execution_count": 18,
      "outputs": [
        {
          "output_type": "execute_result",
          "data": {
            "text/plain": [
              "<prophet.forecaster.Prophet at 0x7f472e301210>"
            ]
          },
          "metadata": {},
          "execution_count": 18
        }
      ]
    },
    {
      "cell_type": "code",
      "source": [
        "# Need to reset index so that it's a column\n",
        "df = df.reset_index()\n",
        "df.head()"
      ],
      "metadata": {
        "colab": {
          "base_uri": "https://localhost:8080/",
          "height": 206
        },
        "id": "q8Ruhk0hlVj3",
        "outputId": "0223460b-0b4c-4ae5-c19b-0b045a732857"
      },
      "execution_count": 19,
      "outputs": [
        {
          "output_type": "execute_result",
          "data": {
            "text/plain": [
              "        Date    High     Low    Open   Close       Volume  Adj Close\n",
              "0 2002-08-01  0.7250  0.6995  0.7155  0.7080  121336000.0     0.7080\n",
              "1 2002-08-02  0.7070  0.6725  0.7065  0.6920   83572000.0     0.6920\n",
              "2 2002-08-05  0.6895  0.6390  0.6825  0.6435   77146000.0     0.6435\n",
              "3 2002-08-06  0.6950  0.6570  0.6635  0.6870   94038000.0     0.6870\n",
              "4 2002-08-07  0.6970  0.6425  0.6965  0.6800  111114000.0     0.6800"
            ],
            "text/html": [
              "\n",
              "  <div id=\"df-66be4931-2149-4674-a647-d1a01b583f7b\">\n",
              "    <div class=\"colab-df-container\">\n",
              "      <div>\n",
              "<style scoped>\n",
              "    .dataframe tbody tr th:only-of-type {\n",
              "        vertical-align: middle;\n",
              "    }\n",
              "\n",
              "    .dataframe tbody tr th {\n",
              "        vertical-align: top;\n",
              "    }\n",
              "\n",
              "    .dataframe thead th {\n",
              "        text-align: right;\n",
              "    }\n",
              "</style>\n",
              "<table border=\"1\" class=\"dataframe\">\n",
              "  <thead>\n",
              "    <tr style=\"text-align: right;\">\n",
              "      <th></th>\n",
              "      <th>Date</th>\n",
              "      <th>High</th>\n",
              "      <th>Low</th>\n",
              "      <th>Open</th>\n",
              "      <th>Close</th>\n",
              "      <th>Volume</th>\n",
              "      <th>Adj Close</th>\n",
              "    </tr>\n",
              "  </thead>\n",
              "  <tbody>\n",
              "    <tr>\n",
              "      <th>0</th>\n",
              "      <td>2002-08-01</td>\n",
              "      <td>0.7250</td>\n",
              "      <td>0.6995</td>\n",
              "      <td>0.7155</td>\n",
              "      <td>0.7080</td>\n",
              "      <td>121336000.0</td>\n",
              "      <td>0.7080</td>\n",
              "    </tr>\n",
              "    <tr>\n",
              "      <th>1</th>\n",
              "      <td>2002-08-02</td>\n",
              "      <td>0.7070</td>\n",
              "      <td>0.6725</td>\n",
              "      <td>0.7065</td>\n",
              "      <td>0.6920</td>\n",
              "      <td>83572000.0</td>\n",
              "      <td>0.6920</td>\n",
              "    </tr>\n",
              "    <tr>\n",
              "      <th>2</th>\n",
              "      <td>2002-08-05</td>\n",
              "      <td>0.6895</td>\n",
              "      <td>0.6390</td>\n",
              "      <td>0.6825</td>\n",
              "      <td>0.6435</td>\n",
              "      <td>77146000.0</td>\n",
              "      <td>0.6435</td>\n",
              "    </tr>\n",
              "    <tr>\n",
              "      <th>3</th>\n",
              "      <td>2002-08-06</td>\n",
              "      <td>0.6950</td>\n",
              "      <td>0.6570</td>\n",
              "      <td>0.6635</td>\n",
              "      <td>0.6870</td>\n",
              "      <td>94038000.0</td>\n",
              "      <td>0.6870</td>\n",
              "    </tr>\n",
              "    <tr>\n",
              "      <th>4</th>\n",
              "      <td>2002-08-07</td>\n",
              "      <td>0.6970</td>\n",
              "      <td>0.6425</td>\n",
              "      <td>0.6965</td>\n",
              "      <td>0.6800</td>\n",
              "      <td>111114000.0</td>\n",
              "      <td>0.6800</td>\n",
              "    </tr>\n",
              "  </tbody>\n",
              "</table>\n",
              "</div>\n",
              "      <button class=\"colab-df-convert\" onclick=\"convertToInteractive('df-66be4931-2149-4674-a647-d1a01b583f7b')\"\n",
              "              title=\"Convert this dataframe to an interactive table.\"\n",
              "              style=\"display:none;\">\n",
              "        \n",
              "  <svg xmlns=\"http://www.w3.org/2000/svg\" height=\"24px\"viewBox=\"0 0 24 24\"\n",
              "       width=\"24px\">\n",
              "    <path d=\"M0 0h24v24H0V0z\" fill=\"none\"/>\n",
              "    <path d=\"M18.56 5.44l.94 2.06.94-2.06 2.06-.94-2.06-.94-.94-2.06-.94 2.06-2.06.94zm-11 1L8.5 8.5l.94-2.06 2.06-.94-2.06-.94L8.5 2.5l-.94 2.06-2.06.94zm10 10l.94 2.06.94-2.06 2.06-.94-2.06-.94-.94-2.06-.94 2.06-2.06.94z\"/><path d=\"M17.41 7.96l-1.37-1.37c-.4-.4-.92-.59-1.43-.59-.52 0-1.04.2-1.43.59L10.3 9.45l-7.72 7.72c-.78.78-.78 2.05 0 2.83L4 21.41c.39.39.9.59 1.41.59.51 0 1.02-.2 1.41-.59l7.78-7.78 2.81-2.81c.8-.78.8-2.07 0-2.86zM5.41 20L4 18.59l7.72-7.72 1.47 1.35L5.41 20z\"/>\n",
              "  </svg>\n",
              "      </button>\n",
              "      \n",
              "  <style>\n",
              "    .colab-df-container {\n",
              "      display:flex;\n",
              "      flex-wrap:wrap;\n",
              "      gap: 12px;\n",
              "    }\n",
              "\n",
              "    .colab-df-convert {\n",
              "      background-color: #E8F0FE;\n",
              "      border: none;\n",
              "      border-radius: 50%;\n",
              "      cursor: pointer;\n",
              "      display: none;\n",
              "      fill: #1967D2;\n",
              "      height: 32px;\n",
              "      padding: 0 0 0 0;\n",
              "      width: 32px;\n",
              "    }\n",
              "\n",
              "    .colab-df-convert:hover {\n",
              "      background-color: #E2EBFA;\n",
              "      box-shadow: 0px 1px 2px rgba(60, 64, 67, 0.3), 0px 1px 3px 1px rgba(60, 64, 67, 0.15);\n",
              "      fill: #174EA6;\n",
              "    }\n",
              "\n",
              "    [theme=dark] .colab-df-convert {\n",
              "      background-color: #3B4455;\n",
              "      fill: #D2E3FC;\n",
              "    }\n",
              "\n",
              "    [theme=dark] .colab-df-convert:hover {\n",
              "      background-color: #434B5C;\n",
              "      box-shadow: 0px 1px 3px 1px rgba(0, 0, 0, 0.15);\n",
              "      filter: drop-shadow(0px 1px 2px rgba(0, 0, 0, 0.3));\n",
              "      fill: #FFFFFF;\n",
              "    }\n",
              "  </style>\n",
              "\n",
              "      <script>\n",
              "        const buttonEl =\n",
              "          document.querySelector('#df-66be4931-2149-4674-a647-d1a01b583f7b button.colab-df-convert');\n",
              "        buttonEl.style.display =\n",
              "          google.colab.kernel.accessAllowed ? 'block' : 'none';\n",
              "\n",
              "        async function convertToInteractive(key) {\n",
              "          const element = document.querySelector('#df-66be4931-2149-4674-a647-d1a01b583f7b');\n",
              "          const dataTable =\n",
              "            await google.colab.kernel.invokeFunction('convertToInteractive',\n",
              "                                                     [key], {});\n",
              "          if (!dataTable) return;\n",
              "\n",
              "          const docLinkHtml = 'Like what you see? Visit the ' +\n",
              "            '<a target=\"_blank\" href=https://colab.research.google.com/notebooks/data_table.ipynb>data table notebook</a>'\n",
              "            + ' to learn more about interactive tables.';\n",
              "          element.innerHTML = '';\n",
              "          dataTable['output_type'] = 'display_data';\n",
              "          await google.colab.output.renderOutput(dataTable, element);\n",
              "          const docLink = document.createElement('div');\n",
              "          docLink.innerHTML = docLinkHtml;\n",
              "          element.appendChild(docLink);\n",
              "        }\n",
              "      </script>\n",
              "    </div>\n",
              "  </div>\n",
              "  "
            ]
          },
          "metadata": {},
          "execution_count": 19
        }
      ]
    },
    {
      "cell_type": "code",
      "source": [
        "# Prophet expects two new columns: 'ds' and 'y'\n",
        "# Set them equal to 'Date' and 'Adj Close'\n",
        "\n",
        "df[['ds', 'y']] = df[['Date', 'Adj Close']]\n",
        "df.head()"
      ],
      "metadata": {
        "colab": {
          "base_uri": "https://localhost:8080/",
          "height": 206
        },
        "id": "A1K9vLqUlfT-",
        "outputId": "f1d7d81e-f99b-47b0-a215-68d1c829d00d"
      },
      "execution_count": 20,
      "outputs": [
        {
          "output_type": "execute_result",
          "data": {
            "text/plain": [
              "        Date    High     Low    Open   Close       Volume  Adj Close  \\\n",
              "0 2002-08-01  0.7250  0.6995  0.7155  0.7080  121336000.0     0.7080   \n",
              "1 2002-08-02  0.7070  0.6725  0.7065  0.6920   83572000.0     0.6920   \n",
              "2 2002-08-05  0.6895  0.6390  0.6825  0.6435   77146000.0     0.6435   \n",
              "3 2002-08-06  0.6950  0.6570  0.6635  0.6870   94038000.0     0.6870   \n",
              "4 2002-08-07  0.6970  0.6425  0.6965  0.6800  111114000.0     0.6800   \n",
              "\n",
              "          ds       y  \n",
              "0 2002-08-01  0.7080  \n",
              "1 2002-08-02  0.6920  \n",
              "2 2002-08-05  0.6435  \n",
              "3 2002-08-06  0.6870  \n",
              "4 2002-08-07  0.6800  "
            ],
            "text/html": [
              "\n",
              "  <div id=\"df-92efb160-d2fb-49ad-9972-67abe313feb0\">\n",
              "    <div class=\"colab-df-container\">\n",
              "      <div>\n",
              "<style scoped>\n",
              "    .dataframe tbody tr th:only-of-type {\n",
              "        vertical-align: middle;\n",
              "    }\n",
              "\n",
              "    .dataframe tbody tr th {\n",
              "        vertical-align: top;\n",
              "    }\n",
              "\n",
              "    .dataframe thead th {\n",
              "        text-align: right;\n",
              "    }\n",
              "</style>\n",
              "<table border=\"1\" class=\"dataframe\">\n",
              "  <thead>\n",
              "    <tr style=\"text-align: right;\">\n",
              "      <th></th>\n",
              "      <th>Date</th>\n",
              "      <th>High</th>\n",
              "      <th>Low</th>\n",
              "      <th>Open</th>\n",
              "      <th>Close</th>\n",
              "      <th>Volume</th>\n",
              "      <th>Adj Close</th>\n",
              "      <th>ds</th>\n",
              "      <th>y</th>\n",
              "    </tr>\n",
              "  </thead>\n",
              "  <tbody>\n",
              "    <tr>\n",
              "      <th>0</th>\n",
              "      <td>2002-08-01</td>\n",
              "      <td>0.7250</td>\n",
              "      <td>0.6995</td>\n",
              "      <td>0.7155</td>\n",
              "      <td>0.7080</td>\n",
              "      <td>121336000.0</td>\n",
              "      <td>0.7080</td>\n",
              "      <td>2002-08-01</td>\n",
              "      <td>0.7080</td>\n",
              "    </tr>\n",
              "    <tr>\n",
              "      <th>1</th>\n",
              "      <td>2002-08-02</td>\n",
              "      <td>0.7070</td>\n",
              "      <td>0.6725</td>\n",
              "      <td>0.7065</td>\n",
              "      <td>0.6920</td>\n",
              "      <td>83572000.0</td>\n",
              "      <td>0.6920</td>\n",
              "      <td>2002-08-02</td>\n",
              "      <td>0.6920</td>\n",
              "    </tr>\n",
              "    <tr>\n",
              "      <th>2</th>\n",
              "      <td>2002-08-05</td>\n",
              "      <td>0.6895</td>\n",
              "      <td>0.6390</td>\n",
              "      <td>0.6825</td>\n",
              "      <td>0.6435</td>\n",
              "      <td>77146000.0</td>\n",
              "      <td>0.6435</td>\n",
              "      <td>2002-08-05</td>\n",
              "      <td>0.6435</td>\n",
              "    </tr>\n",
              "    <tr>\n",
              "      <th>3</th>\n",
              "      <td>2002-08-06</td>\n",
              "      <td>0.6950</td>\n",
              "      <td>0.6570</td>\n",
              "      <td>0.6635</td>\n",
              "      <td>0.6870</td>\n",
              "      <td>94038000.0</td>\n",
              "      <td>0.6870</td>\n",
              "      <td>2002-08-06</td>\n",
              "      <td>0.6870</td>\n",
              "    </tr>\n",
              "    <tr>\n",
              "      <th>4</th>\n",
              "      <td>2002-08-07</td>\n",
              "      <td>0.6970</td>\n",
              "      <td>0.6425</td>\n",
              "      <td>0.6965</td>\n",
              "      <td>0.6800</td>\n",
              "      <td>111114000.0</td>\n",
              "      <td>0.6800</td>\n",
              "      <td>2002-08-07</td>\n",
              "      <td>0.6800</td>\n",
              "    </tr>\n",
              "  </tbody>\n",
              "</table>\n",
              "</div>\n",
              "      <button class=\"colab-df-convert\" onclick=\"convertToInteractive('df-92efb160-d2fb-49ad-9972-67abe313feb0')\"\n",
              "              title=\"Convert this dataframe to an interactive table.\"\n",
              "              style=\"display:none;\">\n",
              "        \n",
              "  <svg xmlns=\"http://www.w3.org/2000/svg\" height=\"24px\"viewBox=\"0 0 24 24\"\n",
              "       width=\"24px\">\n",
              "    <path d=\"M0 0h24v24H0V0z\" fill=\"none\"/>\n",
              "    <path d=\"M18.56 5.44l.94 2.06.94-2.06 2.06-.94-2.06-.94-.94-2.06-.94 2.06-2.06.94zm-11 1L8.5 8.5l.94-2.06 2.06-.94-2.06-.94L8.5 2.5l-.94 2.06-2.06.94zm10 10l.94 2.06.94-2.06 2.06-.94-2.06-.94-.94-2.06-.94 2.06-2.06.94z\"/><path d=\"M17.41 7.96l-1.37-1.37c-.4-.4-.92-.59-1.43-.59-.52 0-1.04.2-1.43.59L10.3 9.45l-7.72 7.72c-.78.78-.78 2.05 0 2.83L4 21.41c.39.39.9.59 1.41.59.51 0 1.02-.2 1.41-.59l7.78-7.78 2.81-2.81c.8-.78.8-2.07 0-2.86zM5.41 20L4 18.59l7.72-7.72 1.47 1.35L5.41 20z\"/>\n",
              "  </svg>\n",
              "      </button>\n",
              "      \n",
              "  <style>\n",
              "    .colab-df-container {\n",
              "      display:flex;\n",
              "      flex-wrap:wrap;\n",
              "      gap: 12px;\n",
              "    }\n",
              "\n",
              "    .colab-df-convert {\n",
              "      background-color: #E8F0FE;\n",
              "      border: none;\n",
              "      border-radius: 50%;\n",
              "      cursor: pointer;\n",
              "      display: none;\n",
              "      fill: #1967D2;\n",
              "      height: 32px;\n",
              "      padding: 0 0 0 0;\n",
              "      width: 32px;\n",
              "    }\n",
              "\n",
              "    .colab-df-convert:hover {\n",
              "      background-color: #E2EBFA;\n",
              "      box-shadow: 0px 1px 2px rgba(60, 64, 67, 0.3), 0px 1px 3px 1px rgba(60, 64, 67, 0.15);\n",
              "      fill: #174EA6;\n",
              "    }\n",
              "\n",
              "    [theme=dark] .colab-df-convert {\n",
              "      background-color: #3B4455;\n",
              "      fill: #D2E3FC;\n",
              "    }\n",
              "\n",
              "    [theme=dark] .colab-df-convert:hover {\n",
              "      background-color: #434B5C;\n",
              "      box-shadow: 0px 1px 3px 1px rgba(0, 0, 0, 0.15);\n",
              "      filter: drop-shadow(0px 1px 2px rgba(0, 0, 0, 0.3));\n",
              "      fill: #FFFFFF;\n",
              "    }\n",
              "  </style>\n",
              "\n",
              "      <script>\n",
              "        const buttonEl =\n",
              "          document.querySelector('#df-92efb160-d2fb-49ad-9972-67abe313feb0 button.colab-df-convert');\n",
              "        buttonEl.style.display =\n",
              "          google.colab.kernel.accessAllowed ? 'block' : 'none';\n",
              "\n",
              "        async function convertToInteractive(key) {\n",
              "          const element = document.querySelector('#df-92efb160-d2fb-49ad-9972-67abe313feb0');\n",
              "          const dataTable =\n",
              "            await google.colab.kernel.invokeFunction('convertToInteractive',\n",
              "                                                     [key], {});\n",
              "          if (!dataTable) return;\n",
              "\n",
              "          const docLinkHtml = 'Like what you see? Visit the ' +\n",
              "            '<a target=\"_blank\" href=https://colab.research.google.com/notebooks/data_table.ipynb>data table notebook</a>'\n",
              "            + ' to learn more about interactive tables.';\n",
              "          element.innerHTML = '';\n",
              "          dataTable['output_type'] = 'display_data';\n",
              "          await google.colab.output.renderOutput(dataTable, element);\n",
              "          const docLink = document.createElement('div');\n",
              "          docLink.innerHTML = docLinkHtml;\n",
              "          element.appendChild(docLink);\n",
              "        }\n",
              "      </script>\n",
              "    </div>\n",
              "  </div>\n",
              "  "
            ]
          },
          "metadata": {},
          "execution_count": 20
        }
      ]
    },
    {
      "cell_type": "code",
      "source": [
        "# Fit the Prophet model to the dataframe\n",
        "model.fit(df)"
      ],
      "metadata": {
        "colab": {
          "base_uri": "https://localhost:8080/"
        },
        "id": "WoCyUPQzli4z",
        "outputId": "08c69e36-8225-4420-a76e-76a371710fc3"
      },
      "execution_count": 21,
      "outputs": [
        {
          "output_type": "stream",
          "name": "stderr",
          "text": [
            "INFO:prophet:Disabling daily seasonality. Run prophet with daily_seasonality=True to override this.\n",
            "DEBUG:cmdstanpy:input tempfile: /tmp/tmpqqfxwba2/ze1sxzqf.json\n",
            "DEBUG:cmdstanpy:input tempfile: /tmp/tmpqqfxwba2/vzejc_3j.json\n",
            "DEBUG:cmdstanpy:idx 0\n",
            "DEBUG:cmdstanpy:running CmdStan, num_threads: None\n",
            "DEBUG:cmdstanpy:CmdStan args: ['/usr/local/lib/python3.7/dist-packages/prophet/stan_model/prophet_model.bin', 'random', 'seed=80520', 'data', 'file=/tmp/tmpqqfxwba2/ze1sxzqf.json', 'init=/tmp/tmpqqfxwba2/vzejc_3j.json', 'output', 'file=/tmp/tmplrnpeyke/prophet_model-20220801132648.csv', 'method=optimize', 'algorithm=lbfgs', 'iter=10000']\n",
            "13:26:48 - cmdstanpy - INFO - Chain [1] start processing\n",
            "INFO:cmdstanpy:Chain [1] start processing\n",
            "13:26:51 - cmdstanpy - INFO - Chain [1] done processing\n",
            "INFO:cmdstanpy:Chain [1] done processing\n"
          ]
        },
        {
          "output_type": "execute_result",
          "data": {
            "text/plain": [
              "<prophet.forecaster.Prophet at 0x7f472e301210>"
            ]
          },
          "metadata": {},
          "execution_count": 21
        }
      ]
    },
    {
      "cell_type": "code",
      "source": [
        "# Define the future time horizon\n",
        "# In this case lets look at GOOG price in one year\n",
        "future = model.make_future_dataframe(periods=365)"
      ],
      "metadata": {
        "id": "vXobmDQulm3L"
      },
      "execution_count": 22,
      "outputs": []
    },
    {
      "cell_type": "code",
      "source": [
        "forecast = model.predict(future)"
      ],
      "metadata": {
        "id": "neGVjsD5lsek"
      },
      "execution_count": 23,
      "outputs": []
    },
    {
      "cell_type": "code",
      "source": [
        "model.plot(forecast)\n",
        "plt.show()"
      ],
      "metadata": {
        "colab": {
          "base_uri": "https://localhost:8080/",
          "height": 441
        },
        "id": "K_xp4oyslvHQ",
        "outputId": "7e253c23-719c-4d83-adec-fb39e7298549"
      },
      "execution_count": 24,
      "outputs": [
        {
          "output_type": "display_data",
          "data": {
            "text/plain": [
              "<Figure size 720x432 with 1 Axes>"
            ],
            "image/png": "[encoded data removed]"
          },
          "metadata": {}
        }
      ]
    },
    {
      "cell_type": "markdown",
      "source": [
        "## Tesla Price Forecast (TSLA)"
      ],
      "metadata": {
        "id": "GTELJjQgl6CE"
      }
    },
    {
      "cell_type": "code",
      "source": [
        "# Rolling all of the above into a single function\n",
        "def price_forecast_model(ticker, end=dt.datetime.now(), days=365):\n",
        "    # Specify start and end dates and load in dataframe\n",
        "    start = dt.datetime(end.year - 20, end.month, end.day)\n",
        "    df = reader.get_data_yahoo(ticker, start, end)\n",
        "    \n",
        "    # Instantiate Prophet Model\n",
        "    model = Prophet()\n",
        "\n",
        "    # Reset index - required for Prophet\n",
        "    df = df.reset_index()\n",
        "    # Setup two new parameters required for Prophet\n",
        "    df[['ds', 'y']] = df[['Date', 'Adj Close']]\n",
        "\n",
        "    # Fit the Prophet Model to the DataFrame\n",
        "    model.fit(df)\n",
        "    future = model.make_future_dataframe(periods=days)\n",
        "    forecast = model.predict(future)\n",
        "    model.plot(forecast)\n",
        "\n",
        "price_forecast_model('TSLA')"
      ],
      "metadata": {
        "colab": {
          "base_uri": "https://localhost:8080/",
          "height": 646
        },
        "id": "rGWv1exslzoE",
        "outputId": "9be7a2d9-bf6e-4c98-d0a8-4efb32873c8a"
      },
      "execution_count": 25,
      "outputs": [
        {
          "output_type": "stream",
          "name": "stderr",
          "text": [
            "INFO:prophet:Disabling daily seasonality. Run prophet with daily_seasonality=True to override this.\n",
            "DEBUG:cmdstanpy:input tempfile: /tmp/tmpqqfxwba2/3mwwo2w8.json\n",
            "DEBUG:cmdstanpy:input tempfile: /tmp/tmpqqfxwba2/030sroer.json\n",
            "DEBUG:cmdstanpy:idx 0\n",
            "DEBUG:cmdstanpy:running CmdStan, num_threads: None\n",
            "DEBUG:cmdstanpy:CmdStan args: ['/usr/local/lib/python3.7/dist-packages/prophet/stan_model/prophet_model.bin', 'random', 'seed=87633', 'data', 'file=/tmp/tmpqqfxwba2/3mwwo2w8.json', 'init=/tmp/tmpqqfxwba2/030sroer.json', 'output', 'file=/tmp/tmpb7nwvz8v/prophet_model-20220801132900.csv', 'method=optimize', 'algorithm=lbfgs', 'iter=10000']\n",
            "13:29:00 - cmdstanpy - INFO - Chain [1] start processing\n",
            "INFO:cmdstanpy:Chain [1] start processing\n",
            "13:29:01 - cmdstanpy - INFO - Chain [1] done processing\n",
            "INFO:cmdstanpy:Chain [1] done processing\n"
          ]
        },
        {
          "output_type": "display_data",
          "data": {
            "text/plain": [
              "<Figure size 720x432 with 1 Axes>"
            ],
            "image/png": "[encoded data removed]"
          },
          "metadata": {}
        }
      ]
    }
  ]
}